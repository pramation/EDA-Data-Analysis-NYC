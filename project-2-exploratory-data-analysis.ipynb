{
 "cells": [
  {
   "cell_type": "markdown",
   "metadata": {
    "id": "9AZliw4f2V9d"
   },
   "source": [
    "# NYC Incidents Responded to by Fire Companies - Exploratory Data Analysis Project\n",
    "\n",
    "\n",
    "\n",
    "![](https://storage.googleapis.com/kaggle-datasets-images/31379/41091/dd5288bd3357be68f20cef79c11bfe50/dataset-cover.jpg?t=2018-06-21-17-16-27)\n",
    "\n",
    "Exploratory Data Analysis (EDA) is the process of exploring, investigating and gathering insights from data using statistical measures and visualizations. The objective of EDA is to develop and understanding of data, by uncovering trends, relationships and patterns. \n",
    "\n",
    "EDA is both a science and an art. On the one hand it requires the knowledge of statistics, visualization techniques and data analysis tools like Numpy, Pandas, Seaborn etc. On the other hand, it requires asking interesting questions to guide the investigation and interpreting numbers & figures to generate useful insights."
   ]
  },
  {
   "cell_type": "markdown",
   "metadata": {
    "id": "KPeTYvfh5G-v"
   },
   "source": [
    "## Initial Notebook Setup with Google Colab and Jovian."
   ]
  },
  {
   "cell_type": "code",
   "execution_count": 2,
   "metadata": {
    "executionInfo": {
     "elapsed": 3514,
     "status": "ok",
     "timestamp": 1655229554481,
     "user": {
      "displayName": "praveen N",
      "userId": "01719520328156978713"
     },
     "user_tz": 240
    },
    "id": "RUxxoPuT6Bi8"
   },
   "outputs": [],
   "source": [
    "!pip install jovian --upgrade --quiet"
   ]
  },
  {
   "cell_type": "code",
   "execution_count": 3,
   "metadata": {
    "executionInfo": {
     "elapsed": 109,
     "status": "ok",
     "timestamp": 1655229559525,
     "user": {
      "displayName": "praveen N",
      "userId": "01719520328156978713"
     },
     "user_tz": 240
    },
    "id": "8pq5CkFo6Bi8"
   },
   "outputs": [],
   "source": [
    "import jovian"
   ]
  },
  {
   "cell_type": "code",
   "execution_count": 4,
   "metadata": {
    "colab": {
     "base_uri": "https://localhost:8080/",
     "height": 122
    },
    "executionInfo": {
     "elapsed": 10944,
     "status": "ok",
     "timestamp": 1655229572263,
     "user": {
      "displayName": "praveen N",
      "userId": "01719520328156978713"
     },
     "user_tz": 240
    },
    "id": "Eo6dHKjV6Bi9",
    "outputId": "75d444d1-f223-4ba6-eccc-0c181125f5cc"
   },
   "outputs": [
    {
     "name": "stdout",
     "output_type": "stream",
     "text": [
      "[jovian] Detected Colab notebook...\u001b[0m\n",
      "[jovian] Please enter your API key ( from https://jovian.ai/ ):\u001b[0m\n",
      "API KEY: ··········\n",
      "[jovian] Uploading colab notebook to Jovian...\u001b[0m\n",
      "Committed successfully! https://jovian.ai/pramation/project-2-nyc-fire-incidents-analysis\n"
     ]
    },
    {
     "data": {
      "application/vnd.google.colaboratory.intrinsic+json": {
       "type": "string"
      },
      "text/plain": [
       "'https://jovian.ai/pramation/project-2-nyc-fire-incidents-analysis'"
      ]
     },
     "execution_count": 4,
     "metadata": {},
     "output_type": "execute_result"
    }
   ],
   "source": [
    "# Execute this to save new versions of the notebook\n",
    "jovian.commit(project=\"project-2-nyc-fire-incidents-analysis\")"
   ]
  },
  {
   "cell_type": "markdown",
   "metadata": {
    "id": "XwW_z7YQ5UY_"
   },
   "source": [
    "## Install the required libraries"
   ]
  },
  {
   "cell_type": "code",
   "execution_count": 5,
   "metadata": {
    "colab": {
     "base_uri": "https://localhost:8080/"
    },
    "executionInfo": {
     "elapsed": 55917,
     "status": "ok",
     "timestamp": 1655229630520,
     "user": {
      "displayName": "praveen N",
      "userId": "01719520328156978713"
     },
     "user_tz": 240
    },
    "id": "aROHq5e66Bi9",
    "outputId": "5d413741-0083-4968-de91-c2bbc78fb997"
   },
   "outputs": [
    {
     "name": "stdout",
     "output_type": "stream",
     "text": [
      "\u001b[K     |████████████████████████████████| 9.5 MB 5.0 MB/s \n",
      "\u001b[K     |████████████████████████████████| 366 kB 73.3 MB/s \n",
      "\u001b[K     |████████████████████████████████| 1.0 MB 53.2 MB/s \n",
      "\u001b[K     |████████████████████████████████| 13.1 MB 34.2 MB/s \n",
      "\u001b[K     |████████████████████████████████| 15.2 MB 40.6 MB/s \n",
      "\u001b[K     |████████████████████████████████| 95 kB 3.1 MB/s \n",
      "\u001b[K     |████████████████████████████████| 6.3 MB 41.9 MB/s \n",
      "\u001b[K     |████████████████████████████████| 16.7 MB 32.8 MB/s \n",
      "\u001b[31mERROR: pip's dependency resolver does not currently take into account all the packages that are installed. This behaviour is the source of the following dependency conflicts.\n",
      "datascience 0.10.6 requires folium==0.2.1, but you have folium 0.12.1.post1 which is incompatible.\n",
      "albumentations 0.1.12 requires imgaug<0.2.7,>=0.2.5, but you have imgaug 0.2.9 which is incompatible.\u001b[0m\n",
      "\u001b[?25h"
     ]
    }
   ],
   "source": [
    "!pip install numpy pandas==1.1.5 wordcloud jovian opendatasets geopandas matplotlib==3.1.3 seaborn plotly folium --upgrade --quiet"
   ]
  },
  {
   "cell_type": "markdown",
   "metadata": {
    "id": "_rzbu5Xe9okF"
   },
   "source": [
    "## NYC Incident Response of Fire Department - Exaploratory Analysis"
   ]
  },
  {
   "cell_type": "markdown",
   "metadata": {
    "id": "7_Kela-4-trx"
   },
   "source": [
    "We will explore and analyze NewYork City's fire incidents and the response by the Fire Department units in different part of the city. This will analyze the performance of the Fire Department's response and potential improvements needed.  \n",
    "\n",
    "Three Datasets are used for this project.  \n",
    "  1.  NYC incident response details from https://kaggle.com. This includes metadata file which has the column names and their descriptions. The incident details file has about 2.5 million records and 24 columns. This file has important information, such as - Location, cause and action taken about the incident. It also has response time and time taken to resolve the incident. This is the primary dataset for our analysis.  \n",
    "  2.  NYC GeoJson file from https://kaggle.com. This has the geographical bounderies of each zipcode within New York City. This is used to represent incident volume per zipcode on the city map.  \n",
    "  3.  NYC zipcodes shapefile with geometry information from https://opendata.cityofnewyork.us. This file is used to display information when we hover over the map.  \n"
   ]
  },
  {
   "cell_type": "markdown",
   "metadata": {
    "id": "EQdLxa7Ki8Zh"
   },
   "source": [
    "## Outline of tasks performed.  \n",
    "1. Download data. unzip the file if required and make it ready to be consumed by the Pandas dataframe.\n",
    "2. Create dataframes from the raw dataset file.\n",
    "3. Perform data preparation & cleaning\n",
    "4. Perform exploratory analysis & visualization.\n",
    "5. Questions and Answers\n",
    "6. Summary and Conclusion.\n"
   ]
  },
  {
   "cell_type": "markdown",
   "metadata": {
    "id": "HNLa_c4d96IU"
   },
   "source": [
    "## Download Datasets"
   ]
  },
  {
   "cell_type": "code",
   "execution_count": 6,
   "metadata": {
    "executionInfo": {
     "elapsed": 172,
     "status": "ok",
     "timestamp": 1655229637368,
     "user": {
      "displayName": "praveen N",
      "userId": "01719520328156978713"
     },
     "user_tz": 240
    },
    "id": "2mdtxc2Z7Po9"
   },
   "outputs": [],
   "source": [
    "import opendatasets as od # Used to download Dataset files"
   ]
  },
  {
   "cell_type": "code",
   "execution_count": 7,
   "metadata": {
    "colab": {
     "base_uri": "https://localhost:8080/"
    },
    "executionInfo": {
     "elapsed": 33010,
     "status": "ok",
     "timestamp": 1655229672005,
     "user": {
      "displayName": "praveen N",
      "userId": "01719520328156978713"
     },
     "user_tz": 240
    },
    "id": "rtq9lVwN7DAo",
    "outputId": "9441086b-2ece-4b0c-d2a9-fe5313c579b1"
   },
   "outputs": [
    {
     "name": "stdout",
     "output_type": "stream",
     "text": [
      "Please provide your Kaggle credentials to download this dataset. Learn more: http://bit.ly/kaggle-creds\n",
      "Your Kaggle username: pramation\n",
      "Your Kaggle Key: ··········\n",
      "Downloading nyc-incidents-responded-to-by-fire-companies.zip to ./nyc-incidents-responded-to-by-fire-companies\n"
     ]
    },
    {
     "name": "stderr",
     "output_type": "stream",
     "text": [
      "100%|██████████| 97.2M/97.2M [00:01<00:00, 52.1MB/s]\n"
     ]
    },
    {
     "name": "stdout",
     "output_type": "stream",
     "text": [
      "\n",
      "Please provide your Kaggle credentials to download this dataset. Learn more: http://bit.ly/kaggle-creds\n",
      "Your Kaggle username: pramation\n",
      "Your Kaggle Key: ··········\n",
      "Downloading nyc-zipcode-geodata.zip to ./nyc-zipcode-geodata\n"
     ]
    },
    {
     "name": "stderr",
     "output_type": "stream",
     "text": [
      "100%|██████████| 540k/540k [00:00<00:00, 77.2MB/s]"
     ]
    },
    {
     "name": "stdout",
     "output_type": "stream",
     "text": [
      "\n"
     ]
    },
    {
     "name": "stderr",
     "output_type": "stream",
     "text": [
      "\n"
     ]
    },
    {
     "name": "stdout",
     "output_type": "stream",
     "text": [
      "Downloading https://data.cityofnewyork.us/download/i8iw-xf4u/application%2Fzip to ./ZIP_CODE_040114.zip\n"
     ]
    },
    {
     "name": "stderr",
     "output_type": "stream",
     "text": [
      "1515520it [00:00, 2988358.17it/s]\n"
     ]
    }
   ],
   "source": [
    "# Download fire incidents details file. Primary source of the data for analusis.\n",
    "data_url=\"https://www.kaggle.com/datasets/new-york-city/nyc-incidents-responded-to-by-fire-companies/download\"\n",
    "od.download(data_url)\n",
    "# Download GeoJson file, gives boundaries for each zipcode on the New York City map. Used to visualize NYC map.\n",
    "nyc_GeoJson_url=\"https://www.kaggle.com/datasets/saidakbarp/nyc-zipcode-geodata/download\"\n",
    "od.download(nyc_GeoJson_url)\n",
    "# Download shape file, gives boundaries for each zipcode on the New York City map and addition information to be displayed as tooltip.\n",
    "geojson_shapefile_url='https://data.cityofnewyork.us/download/i8iw-xf4u/application%2Fzip'\n",
    "od.download(geojson_shapefile_url)\n"
   ]
  },
  {
   "cell_type": "markdown",
   "metadata": {
    "id": "jFGjVFKJ1Hcg"
   },
   "source": [
    "#### Unzip downloaded files."
   ]
  },
  {
   "cell_type": "code",
   "execution_count": 8,
   "metadata": {
    "colab": {
     "base_uri": "https://localhost:8080/"
    },
    "executionInfo": {
     "elapsed": 250,
     "status": "ok",
     "timestamp": 1655229676175,
     "user": {
      "displayName": "praveen N",
      "userId": "01719520328156978713"
     },
     "user_tz": 240
    },
    "id": "1cN5PqldvaO_",
    "outputId": "b87c5917-efb0-4f55-f5c2-255d29acabd7"
   },
   "outputs": [
    {
     "name": "stdout",
     "output_type": "stream",
     "text": [
      "Archive:  /content/ZIP_CODE_040114.zip\n",
      "  inflating: ZIP_CODE_040114.shx     \n",
      "  inflating: ZIP_CODE_040114.dbf     \n",
      "  inflating: ZIP_CODE_040114.prj     \n",
      "  inflating: ZIP_CODE_040114.sbn     \n",
      "  inflating: ZIP_CODE_040114.sbx     \n",
      "  inflating: ZIP_CODE_040114.shp     \n",
      "  inflating: ZIP_CODE_040114.shp.xml  \n"
     ]
    }
   ],
   "source": [
    "!unzip /content/ZIP_CODE_040114.zip"
   ]
  },
  {
   "cell_type": "markdown",
   "metadata": {
    "id": "XrdqrCRiTyxS"
   },
   "source": [
    "## Create DataFrames to capture the metadata Information and also to capture the incident details. \n"
   ]
  },
  {
   "cell_type": "code",
   "execution_count": 97,
   "metadata": {
    "executionInfo": {
     "elapsed": 138,
     "status": "ok",
     "timestamp": 1655233256169,
     "user": {
      "displayName": "praveen N",
      "userId": "01719520328156978713"
     },
     "user_tz": 240
    },
    "id": "VLD3Js7Lwi9y"
   },
   "outputs": [],
   "source": [
    "import pandas as pd  # To create dataframes\n",
    "import numpy as np   # To perform numerical operations"
   ]
  },
  {
   "cell_type": "markdown",
   "metadata": {
    "id": "IPL9bADKyd0l"
   },
   "source": [
    "`nyc_schema_df` Dataframe will have column names and their descriptions used in the NYC incidents details dataset."
   ]
  },
  {
   "cell_type": "code",
   "execution_count": 98,
   "metadata": {
    "executionInfo": {
     "elapsed": 124,
     "status": "ok",
     "timestamp": 1655233259175,
     "user": {
      "displayName": "praveen N",
      "userId": "01719520328156978713"
     },
     "user_tz": 240
    },
    "id": "3gBhtBk3-CoN"
   },
   "outputs": [],
   "source": [
    "nyc_schema_df=pd.DataFrame({'Column_Name':\n",
    "['IM_INCIDENT_KEY',\n",
    "'FIRE_BOX',\n",
    "'INCIDENT_TYPE_DESC',\n",
    "'INCIDENT_DATE_TIME',\n",
    "'ARRIVAL_DATE_TIME',\n",
    "'UNITS_ONSCENE',\n",
    "'LAST_UNIT_CLEARED_DATETIME',\n",
    "'HIGHEST_LEVEL_DESC',\n",
    "'TOTAL_INCIDENT_DURATION',\n",
    "'ACTION_TAKEN1_DESC',\n",
    "'ACTION_TAKEN2_DESC',\n",
    "'ACTION_TAKEN3_DESC',\n",
    "'PROPERTY_USE_DESC',\n",
    "'STREET_HIGHWAY',\n",
    "'ZIP_CODE',\n",
    "'BOROUGH_DESC',\n",
    "'FLOOR',\n",
    "'CO_DETECTOR_PRESENT_DESC',\n",
    "'FIRE_ORIGIN_BELOW_GRADE_FLAG',\n",
    "'STORY_FIRE_ORIGIN_COUNT',\n",
    "'FIRE_SPREAD_DESC',\n",
    "'DETECTOR_PRESENCE_DESC',\n",
    "'AES_PRESENCE_DESC',\n",
    "'STANDPIPE_SYS_PRESENT_FLAG']\n",
    ",\n",
    "'Description':\n",
    "['Unique identifier for each incident which serves as the Primary Key',\n",
    "'Identifier for the Fire Alarm Box area in which the incident took place - unique per borough',\n",
    "'The code and description of the incident category type',\n",
    "'The date and time that the incident was logged into the Computer Aided Dispatch system',\n",
    "'The date and time that the first unit arrived on scene',\n",
    "'Total number of units that arrived on scene',\n",
    "'The date and time that the incident was completed and the last unit cleared the scene',\n",
    "'The highest alarm level that the incident received',\n",
    "'The total number of seconds from whe then incident was created to when the incident was closed',\n",
    "'The code and description of the first action taken',\n",
    "'The code and description of the second action taken',\n",
    "'The code and description of the third action taken',\n",
    "'The code and descirption of the type of street or building where the incident toook place',\n",
    "'The name of the street where the incident_took place',\n",
    "'The postal zip code where the incident took place',\n",
    "'The borough where the incident took place',\n",
    "'The floor of the building where the incident took place',\n",
    "'Indicator for when a CO detector was present',\n",
    "'Indicator for when the fire originated below grade',\n",
    "'Story in which the fire originated',\n",
    "'How far the fire spread from the object of origin',\n",
    "'Indicator for when a  detector was present',\n",
    "'Indicator for when an Automatic Extinguishing System is present',\n",
    "'Indicator for when a standpipe was present in the area of origin of a fire']\n",
    "})\n",
    "#nyc_schema_df.set_index(\"Column_Name\",inplace=True)"
   ]
  },
  {
   "cell_type": "markdown",
   "metadata": {
    "id": "KFc41GeVYoAr"
   },
   "source": [
    "Create DataFrame `nyc_raw_df` of the fire Incidents with raw data from the file"
   ]
  },
  {
   "cell_type": "code",
   "execution_count": 99,
   "metadata": {
    "colab": {
     "base_uri": "https://localhost:8080/"
    },
    "executionInfo": {
     "elapsed": 23972,
     "status": "ok",
     "timestamp": 1655233286704,
     "user": {
      "displayName": "praveen N",
      "userId": "01719520328156978713"
     },
     "user_tz": 240
    },
    "id": "6T2NfWfeYykS",
    "outputId": "a1b1faca-33bd-429a-fad6-2ec79f054326"
   },
   "outputs": [
    {
     "name": "stderr",
     "output_type": "stream",
     "text": [
      "<string>:2: DtypeWarning:\n",
      "\n",
      "Columns (1,14) have mixed types.Specify dtype option on import or set low_memory=False.\n",
      "\n"
     ]
    },
    {
     "name": "stdout",
     "output_type": "stream",
     "text": [
      "CPU times: user 18.5 s, sys: 3.23 s, total: 21.7 s\n",
      "Wall time: 23.8 s\n"
     ]
    }
   ],
   "source": [
    "%%time\n",
    "nyc_raw_df=pd.read_csv('/content/nyc-incidents-responded-to-by-fire-companies/incidents-responded-to-by-fire-companies.csv',#nrows=10000,\n",
    "                       parse_dates=['INCIDENT_DATE_TIME','ARRIVAL_DATE_TIME','LAST_UNIT_CLEARED_DATE_TIME',] )"
   ]
  },
  {
   "cell_type": "markdown",
   "metadata": {
    "id": "493tE_oI-D0U"
   },
   "source": [
    "## Data Preparation and Cleaning.\n",
    "Steps:\n",
    "1. Create a copy of Dataframe from the raw data.\n",
    "2. Look at the information and data types of the columns\n",
    "3. Handle any missing data\n",
    "4. Drop unneccessary columns\n",
    "5. Add columns that will be useful for our analysis."
   ]
  },
  {
   "cell_type": "markdown",
   "metadata": {
    "id": "T6MTr-_6c0tT"
   },
   "source": [
    "##### Create a copy of the raw dataFrame, this will give us a dataframe to work on"
   ]
  },
  {
   "cell_type": "code",
   "execution_count": 100,
   "metadata": {
    "executionInfo": {
     "elapsed": 1464,
     "status": "ok",
     "timestamp": 1655233290718,
     "user": {
      "displayName": "praveen N",
      "userId": "01719520328156978713"
     },
     "user_tz": 240
    },
    "id": "MSOc77xD-Ckb"
   },
   "outputs": [],
   "source": [
    "nyc_fire_df=nyc_raw_df.copy()\n"
   ]
  },
  {
   "cell_type": "code",
   "execution_count": 101,
   "metadata": {
    "colab": {
     "base_uri": "https://localhost:8080/"
    },
    "executionInfo": {
     "elapsed": 131,
     "status": "ok",
     "timestamp": 1655233293483,
     "user": {
      "displayName": "praveen N",
      "userId": "01719520328156978713"
     },
     "user_tz": 240
    },
    "id": "AJTLmyAPeVlP",
    "outputId": "f099a9db-43a2-4493-f4ae-fcab0cdeaec9"
   },
   "outputs": [
    {
     "data": {
      "text/plain": [
       "Index(['Column_Name', 'Description'], dtype='object')"
      ]
     },
     "execution_count": 101,
     "metadata": {},
     "output_type": "execute_result"
    }
   ],
   "source": [
    "nyc_schema_df.columns"
   ]
  },
  {
   "cell_type": "markdown",
   "metadata": {
    "id": "ltibxxxT8eby"
   },
   "source": [
    "Set dataframe option to view the complete text and set the column alignment."
   ]
  },
  {
   "cell_type": "code",
   "execution_count": 102,
   "metadata": {
    "executionInfo": {
     "elapsed": 187,
     "status": "ok",
     "timestamp": 1655233295307,
     "user": {
      "displayName": "praveen N",
      "userId": "01719520328156978713"
     },
     "user_tz": 240
    },
    "id": "XaNisxHXSQUq"
   },
   "outputs": [],
   "source": [
    "pd.set_option('display.max_colwidth', None)\n",
    "nyc_schema_df=nyc_schema_df.style.set_properties(subset=['Column_Name','Description'],**{'text-align': 'left'})"
   ]
  },
  {
   "cell_type": "code",
   "execution_count": 103,
   "metadata": {
    "colab": {
     "base_uri": "https://localhost:8080/"
    },
    "executionInfo": {
     "elapsed": 119,
     "status": "ok",
     "timestamp": 1655233296573,
     "user": {
      "displayName": "praveen N",
      "userId": "01719520328156978713"
     },
     "user_tz": 240
    },
    "id": "qBS8Ei1E-LqL",
    "outputId": "16a4cc17-9d92-443e-b3e5-d09a50f56f89"
   },
   "outputs": [
    {
     "data": {
      "text/plain": [
       "(2518758, 24)"
      ]
     },
     "execution_count": 103,
     "metadata": {},
     "output_type": "execute_result"
    }
   ],
   "source": [
    "nyc_raw_df.shape"
   ]
  },
  {
   "cell_type": "markdown",
   "metadata": {
    "id": "JniWe8mX8yyo"
   },
   "source": [
    "The Dataset has about 2.5 million rows and 24 columns"
   ]
  },
  {
   "cell_type": "markdown",
   "metadata": {
    "id": "gA8sNiWFezt1"
   },
   "source": [
    "#### Brief Desciption about the columns used in the dataset."
   ]
  },
  {
   "cell_type": "code",
   "execution_count": 104,
   "metadata": {
    "colab": {
     "base_uri": "https://localhost:8080/",
     "height": 802
    },
    "executionInfo": {
     "elapsed": 166,
     "status": "ok",
     "timestamp": 1655233298339,
     "user": {
      "displayName": "praveen N",
      "userId": "01719520328156978713"
     },
     "user_tz": 240
    },
    "id": "hyorCN1c-LmT",
    "outputId": "74f272d4-5763-4cba-c01c-71a90a488157"
   },
   "outputs": [
    {
     "data": {
      "text/html": [
       "<style  type=\"text/css\" >\n",
       "#T_6acade66_ec14_11ec_bde6_0242ac1c0002row0_col0,#T_6acade66_ec14_11ec_bde6_0242ac1c0002row0_col1,#T_6acade66_ec14_11ec_bde6_0242ac1c0002row1_col0,#T_6acade66_ec14_11ec_bde6_0242ac1c0002row1_col1,#T_6acade66_ec14_11ec_bde6_0242ac1c0002row2_col0,#T_6acade66_ec14_11ec_bde6_0242ac1c0002row2_col1,#T_6acade66_ec14_11ec_bde6_0242ac1c0002row3_col0,#T_6acade66_ec14_11ec_bde6_0242ac1c0002row3_col1,#T_6acade66_ec14_11ec_bde6_0242ac1c0002row4_col0,#T_6acade66_ec14_11ec_bde6_0242ac1c0002row4_col1,#T_6acade66_ec14_11ec_bde6_0242ac1c0002row5_col0,#T_6acade66_ec14_11ec_bde6_0242ac1c0002row5_col1,#T_6acade66_ec14_11ec_bde6_0242ac1c0002row6_col0,#T_6acade66_ec14_11ec_bde6_0242ac1c0002row6_col1,#T_6acade66_ec14_11ec_bde6_0242ac1c0002row7_col0,#T_6acade66_ec14_11ec_bde6_0242ac1c0002row7_col1,#T_6acade66_ec14_11ec_bde6_0242ac1c0002row8_col0,#T_6acade66_ec14_11ec_bde6_0242ac1c0002row8_col1,#T_6acade66_ec14_11ec_bde6_0242ac1c0002row9_col0,#T_6acade66_ec14_11ec_bde6_0242ac1c0002row9_col1,#T_6acade66_ec14_11ec_bde6_0242ac1c0002row10_col0,#T_6acade66_ec14_11ec_bde6_0242ac1c0002row10_col1,#T_6acade66_ec14_11ec_bde6_0242ac1c0002row11_col0,#T_6acade66_ec14_11ec_bde6_0242ac1c0002row11_col1,#T_6acade66_ec14_11ec_bde6_0242ac1c0002row12_col0,#T_6acade66_ec14_11ec_bde6_0242ac1c0002row12_col1,#T_6acade66_ec14_11ec_bde6_0242ac1c0002row13_col0,#T_6acade66_ec14_11ec_bde6_0242ac1c0002row13_col1,#T_6acade66_ec14_11ec_bde6_0242ac1c0002row14_col0,#T_6acade66_ec14_11ec_bde6_0242ac1c0002row14_col1,#T_6acade66_ec14_11ec_bde6_0242ac1c0002row15_col0,#T_6acade66_ec14_11ec_bde6_0242ac1c0002row15_col1,#T_6acade66_ec14_11ec_bde6_0242ac1c0002row16_col0,#T_6acade66_ec14_11ec_bde6_0242ac1c0002row16_col1,#T_6acade66_ec14_11ec_bde6_0242ac1c0002row17_col0,#T_6acade66_ec14_11ec_bde6_0242ac1c0002row17_col1,#T_6acade66_ec14_11ec_bde6_0242ac1c0002row18_col0,#T_6acade66_ec14_11ec_bde6_0242ac1c0002row18_col1,#T_6acade66_ec14_11ec_bde6_0242ac1c0002row19_col0,#T_6acade66_ec14_11ec_bde6_0242ac1c0002row19_col1,#T_6acade66_ec14_11ec_bde6_0242ac1c0002row20_col0,#T_6acade66_ec14_11ec_bde6_0242ac1c0002row20_col1,#T_6acade66_ec14_11ec_bde6_0242ac1c0002row21_col0,#T_6acade66_ec14_11ec_bde6_0242ac1c0002row21_col1,#T_6acade66_ec14_11ec_bde6_0242ac1c0002row22_col0,#T_6acade66_ec14_11ec_bde6_0242ac1c0002row22_col1,#T_6acade66_ec14_11ec_bde6_0242ac1c0002row23_col0,#T_6acade66_ec14_11ec_bde6_0242ac1c0002row23_col1{\n",
       "            text-align:  left;\n",
       "        }</style><table id=\"T_6acade66_ec14_11ec_bde6_0242ac1c0002\" class=\"dataframe\"><thead>    <tr>        <th class=\"blank level0\" ></th>        <th class=\"col_heading level0 col0\" >Column_Name</th>        <th class=\"col_heading level0 col1\" >Description</th>    </tr></thead><tbody>\n",
       "                <tr>\n",
       "                        <th id=\"T_6acade66_ec14_11ec_bde6_0242ac1c0002level0_row0\" class=\"row_heading level0 row0\" >0</th>\n",
       "                        <td id=\"T_6acade66_ec14_11ec_bde6_0242ac1c0002row0_col0\" class=\"data row0 col0\" >IM_INCIDENT_KEY</td>\n",
       "                        <td id=\"T_6acade66_ec14_11ec_bde6_0242ac1c0002row0_col1\" class=\"data row0 col1\" >Unique identifier for each incident which serves as the Primary Key</td>\n",
       "            </tr>\n",
       "            <tr>\n",
       "                        <th id=\"T_6acade66_ec14_11ec_bde6_0242ac1c0002level0_row1\" class=\"row_heading level0 row1\" >1</th>\n",
       "                        <td id=\"T_6acade66_ec14_11ec_bde6_0242ac1c0002row1_col0\" class=\"data row1 col0\" >FIRE_BOX</td>\n",
       "                        <td id=\"T_6acade66_ec14_11ec_bde6_0242ac1c0002row1_col1\" class=\"data row1 col1\" >Identifier for the Fire Alarm Box area in which the incident took place - unique per borough</td>\n",
       "            </tr>\n",
       "            <tr>\n",
       "                        <th id=\"T_6acade66_ec14_11ec_bde6_0242ac1c0002level0_row2\" class=\"row_heading level0 row2\" >2</th>\n",
       "                        <td id=\"T_6acade66_ec14_11ec_bde6_0242ac1c0002row2_col0\" class=\"data row2 col0\" >INCIDENT_TYPE_DESC</td>\n",
       "                        <td id=\"T_6acade66_ec14_11ec_bde6_0242ac1c0002row2_col1\" class=\"data row2 col1\" >The code and description of the incident category type</td>\n",
       "            </tr>\n",
       "            <tr>\n",
       "                        <th id=\"T_6acade66_ec14_11ec_bde6_0242ac1c0002level0_row3\" class=\"row_heading level0 row3\" >3</th>\n",
       "                        <td id=\"T_6acade66_ec14_11ec_bde6_0242ac1c0002row3_col0\" class=\"data row3 col0\" >INCIDENT_DATE_TIME</td>\n",
       "                        <td id=\"T_6acade66_ec14_11ec_bde6_0242ac1c0002row3_col1\" class=\"data row3 col1\" >The date and time that the incident was logged into the Computer Aided Dispatch system</td>\n",
       "            </tr>\n",
       "            <tr>\n",
       "                        <th id=\"T_6acade66_ec14_11ec_bde6_0242ac1c0002level0_row4\" class=\"row_heading level0 row4\" >4</th>\n",
       "                        <td id=\"T_6acade66_ec14_11ec_bde6_0242ac1c0002row4_col0\" class=\"data row4 col0\" >ARRIVAL_DATE_TIME</td>\n",
       "                        <td id=\"T_6acade66_ec14_11ec_bde6_0242ac1c0002row4_col1\" class=\"data row4 col1\" >The date and time that the first unit arrived on scene</td>\n",
       "            </tr>\n",
       "            <tr>\n",
       "                        <th id=\"T_6acade66_ec14_11ec_bde6_0242ac1c0002level0_row5\" class=\"row_heading level0 row5\" >5</th>\n",
       "                        <td id=\"T_6acade66_ec14_11ec_bde6_0242ac1c0002row5_col0\" class=\"data row5 col0\" >UNITS_ONSCENE</td>\n",
       "                        <td id=\"T_6acade66_ec14_11ec_bde6_0242ac1c0002row5_col1\" class=\"data row5 col1\" >Total number of units that arrived on scene</td>\n",
       "            </tr>\n",
       "            <tr>\n",
       "                        <th id=\"T_6acade66_ec14_11ec_bde6_0242ac1c0002level0_row6\" class=\"row_heading level0 row6\" >6</th>\n",
       "                        <td id=\"T_6acade66_ec14_11ec_bde6_0242ac1c0002row6_col0\" class=\"data row6 col0\" >LAST_UNIT_CLEARED_DATETIME</td>\n",
       "                        <td id=\"T_6acade66_ec14_11ec_bde6_0242ac1c0002row6_col1\" class=\"data row6 col1\" >The date and time that the incident was completed and the last unit cleared the scene</td>\n",
       "            </tr>\n",
       "            <tr>\n",
       "                        <th id=\"T_6acade66_ec14_11ec_bde6_0242ac1c0002level0_row7\" class=\"row_heading level0 row7\" >7</th>\n",
       "                        <td id=\"T_6acade66_ec14_11ec_bde6_0242ac1c0002row7_col0\" class=\"data row7 col0\" >HIGHEST_LEVEL_DESC</td>\n",
       "                        <td id=\"T_6acade66_ec14_11ec_bde6_0242ac1c0002row7_col1\" class=\"data row7 col1\" >The highest alarm level that the incident received</td>\n",
       "            </tr>\n",
       "            <tr>\n",
       "                        <th id=\"T_6acade66_ec14_11ec_bde6_0242ac1c0002level0_row8\" class=\"row_heading level0 row8\" >8</th>\n",
       "                        <td id=\"T_6acade66_ec14_11ec_bde6_0242ac1c0002row8_col0\" class=\"data row8 col0\" >TOTAL_INCIDENT_DURATION</td>\n",
       "                        <td id=\"T_6acade66_ec14_11ec_bde6_0242ac1c0002row8_col1\" class=\"data row8 col1\" >The total number of seconds from whe then incident was created to when the incident was closed</td>\n",
       "            </tr>\n",
       "            <tr>\n",
       "                        <th id=\"T_6acade66_ec14_11ec_bde6_0242ac1c0002level0_row9\" class=\"row_heading level0 row9\" >9</th>\n",
       "                        <td id=\"T_6acade66_ec14_11ec_bde6_0242ac1c0002row9_col0\" class=\"data row9 col0\" >ACTION_TAKEN1_DESC</td>\n",
       "                        <td id=\"T_6acade66_ec14_11ec_bde6_0242ac1c0002row9_col1\" class=\"data row9 col1\" >The code and description of the first action taken</td>\n",
       "            </tr>\n",
       "            <tr>\n",
       "                        <th id=\"T_6acade66_ec14_11ec_bde6_0242ac1c0002level0_row10\" class=\"row_heading level0 row10\" >10</th>\n",
       "                        <td id=\"T_6acade66_ec14_11ec_bde6_0242ac1c0002row10_col0\" class=\"data row10 col0\" >ACTION_TAKEN2_DESC</td>\n",
       "                        <td id=\"T_6acade66_ec14_11ec_bde6_0242ac1c0002row10_col1\" class=\"data row10 col1\" >The code and description of the second action taken</td>\n",
       "            </tr>\n",
       "            <tr>\n",
       "                        <th id=\"T_6acade66_ec14_11ec_bde6_0242ac1c0002level0_row11\" class=\"row_heading level0 row11\" >11</th>\n",
       "                        <td id=\"T_6acade66_ec14_11ec_bde6_0242ac1c0002row11_col0\" class=\"data row11 col0\" >ACTION_TAKEN3_DESC</td>\n",
       "                        <td id=\"T_6acade66_ec14_11ec_bde6_0242ac1c0002row11_col1\" class=\"data row11 col1\" >The code and description of the third action taken</td>\n",
       "            </tr>\n",
       "            <tr>\n",
       "                        <th id=\"T_6acade66_ec14_11ec_bde6_0242ac1c0002level0_row12\" class=\"row_heading level0 row12\" >12</th>\n",
       "                        <td id=\"T_6acade66_ec14_11ec_bde6_0242ac1c0002row12_col0\" class=\"data row12 col0\" >PROPERTY_USE_DESC</td>\n",
       "                        <td id=\"T_6acade66_ec14_11ec_bde6_0242ac1c0002row12_col1\" class=\"data row12 col1\" >The code and descirption of the type of street or building where the incident toook place</td>\n",
       "            </tr>\n",
       "            <tr>\n",
       "                        <th id=\"T_6acade66_ec14_11ec_bde6_0242ac1c0002level0_row13\" class=\"row_heading level0 row13\" >13</th>\n",
       "                        <td id=\"T_6acade66_ec14_11ec_bde6_0242ac1c0002row13_col0\" class=\"data row13 col0\" >STREET_HIGHWAY</td>\n",
       "                        <td id=\"T_6acade66_ec14_11ec_bde6_0242ac1c0002row13_col1\" class=\"data row13 col1\" >The name of the street where the incident_took place</td>\n",
       "            </tr>\n",
       "            <tr>\n",
       "                        <th id=\"T_6acade66_ec14_11ec_bde6_0242ac1c0002level0_row14\" class=\"row_heading level0 row14\" >14</th>\n",
       "                        <td id=\"T_6acade66_ec14_11ec_bde6_0242ac1c0002row14_col0\" class=\"data row14 col0\" >ZIP_CODE</td>\n",
       "                        <td id=\"T_6acade66_ec14_11ec_bde6_0242ac1c0002row14_col1\" class=\"data row14 col1\" >The postal zip code where the incident took place</td>\n",
       "            </tr>\n",
       "            <tr>\n",
       "                        <th id=\"T_6acade66_ec14_11ec_bde6_0242ac1c0002level0_row15\" class=\"row_heading level0 row15\" >15</th>\n",
       "                        <td id=\"T_6acade66_ec14_11ec_bde6_0242ac1c0002row15_col0\" class=\"data row15 col0\" >BOROUGH_DESC</td>\n",
       "                        <td id=\"T_6acade66_ec14_11ec_bde6_0242ac1c0002row15_col1\" class=\"data row15 col1\" >The borough where the incident took place</td>\n",
       "            </tr>\n",
       "            <tr>\n",
       "                        <th id=\"T_6acade66_ec14_11ec_bde6_0242ac1c0002level0_row16\" class=\"row_heading level0 row16\" >16</th>\n",
       "                        <td id=\"T_6acade66_ec14_11ec_bde6_0242ac1c0002row16_col0\" class=\"data row16 col0\" >FLOOR</td>\n",
       "                        <td id=\"T_6acade66_ec14_11ec_bde6_0242ac1c0002row16_col1\" class=\"data row16 col1\" >The floor of the building where the incident took place</td>\n",
       "            </tr>\n",
       "            <tr>\n",
       "                        <th id=\"T_6acade66_ec14_11ec_bde6_0242ac1c0002level0_row17\" class=\"row_heading level0 row17\" >17</th>\n",
       "                        <td id=\"T_6acade66_ec14_11ec_bde6_0242ac1c0002row17_col0\" class=\"data row17 col0\" >CO_DETECTOR_PRESENT_DESC</td>\n",
       "                        <td id=\"T_6acade66_ec14_11ec_bde6_0242ac1c0002row17_col1\" class=\"data row17 col1\" >Indicator for when a CO detector was present</td>\n",
       "            </tr>\n",
       "            <tr>\n",
       "                        <th id=\"T_6acade66_ec14_11ec_bde6_0242ac1c0002level0_row18\" class=\"row_heading level0 row18\" >18</th>\n",
       "                        <td id=\"T_6acade66_ec14_11ec_bde6_0242ac1c0002row18_col0\" class=\"data row18 col0\" >FIRE_ORIGIN_BELOW_GRADE_FLAG</td>\n",
       "                        <td id=\"T_6acade66_ec14_11ec_bde6_0242ac1c0002row18_col1\" class=\"data row18 col1\" >Indicator for when the fire originated below grade</td>\n",
       "            </tr>\n",
       "            <tr>\n",
       "                        <th id=\"T_6acade66_ec14_11ec_bde6_0242ac1c0002level0_row19\" class=\"row_heading level0 row19\" >19</th>\n",
       "                        <td id=\"T_6acade66_ec14_11ec_bde6_0242ac1c0002row19_col0\" class=\"data row19 col0\" >STORY_FIRE_ORIGIN_COUNT</td>\n",
       "                        <td id=\"T_6acade66_ec14_11ec_bde6_0242ac1c0002row19_col1\" class=\"data row19 col1\" >Story in which the fire originated</td>\n",
       "            </tr>\n",
       "            <tr>\n",
       "                        <th id=\"T_6acade66_ec14_11ec_bde6_0242ac1c0002level0_row20\" class=\"row_heading level0 row20\" >20</th>\n",
       "                        <td id=\"T_6acade66_ec14_11ec_bde6_0242ac1c0002row20_col0\" class=\"data row20 col0\" >FIRE_SPREAD_DESC</td>\n",
       "                        <td id=\"T_6acade66_ec14_11ec_bde6_0242ac1c0002row20_col1\" class=\"data row20 col1\" >How far the fire spread from the object of origin</td>\n",
       "            </tr>\n",
       "            <tr>\n",
       "                        <th id=\"T_6acade66_ec14_11ec_bde6_0242ac1c0002level0_row21\" class=\"row_heading level0 row21\" >21</th>\n",
       "                        <td id=\"T_6acade66_ec14_11ec_bde6_0242ac1c0002row21_col0\" class=\"data row21 col0\" >DETECTOR_PRESENCE_DESC</td>\n",
       "                        <td id=\"T_6acade66_ec14_11ec_bde6_0242ac1c0002row21_col1\" class=\"data row21 col1\" >Indicator for when a  detector was present</td>\n",
       "            </tr>\n",
       "            <tr>\n",
       "                        <th id=\"T_6acade66_ec14_11ec_bde6_0242ac1c0002level0_row22\" class=\"row_heading level0 row22\" >22</th>\n",
       "                        <td id=\"T_6acade66_ec14_11ec_bde6_0242ac1c0002row22_col0\" class=\"data row22 col0\" >AES_PRESENCE_DESC</td>\n",
       "                        <td id=\"T_6acade66_ec14_11ec_bde6_0242ac1c0002row22_col1\" class=\"data row22 col1\" >Indicator for when an Automatic Extinguishing System is present</td>\n",
       "            </tr>\n",
       "            <tr>\n",
       "                        <th id=\"T_6acade66_ec14_11ec_bde6_0242ac1c0002level0_row23\" class=\"row_heading level0 row23\" >23</th>\n",
       "                        <td id=\"T_6acade66_ec14_11ec_bde6_0242ac1c0002row23_col0\" class=\"data row23 col0\" >STANDPIPE_SYS_PRESENT_FLAG</td>\n",
       "                        <td id=\"T_6acade66_ec14_11ec_bde6_0242ac1c0002row23_col1\" class=\"data row23 col1\" >Indicator for when a standpipe was present in the area of origin of a fire</td>\n",
       "            </tr>\n",
       "    </tbody></table>"
      ],
      "text/plain": [
       "<pandas.io.formats.style.Styler at 0x7f148bc44f10>"
      ]
     },
     "execution_count": 104,
     "metadata": {},
     "output_type": "execute_result"
    }
   ],
   "source": [
    "nyc_schema_df"
   ]
  },
  {
   "cell_type": "markdown",
   "metadata": {
    "id": "FvGQPrSqfD1-"
   },
   "source": [
    "##### Get General Sense of the data."
   ]
  },
  {
   "cell_type": "code",
   "execution_count": 105,
   "metadata": {
    "colab": {
     "base_uri": "https://localhost:8080/"
    },
    "executionInfo": {
     "elapsed": 109,
     "status": "ok",
     "timestamp": 1655233302168,
     "user": {
      "displayName": "praveen N",
      "userId": "01719520328156978713"
     },
     "user_tz": 240
    },
    "id": "i4hsgQf--LiN",
    "outputId": "bf046ce3-e77f-40f2-f33b-87c6d284da7b"
   },
   "outputs": [
    {
     "name": "stdout",
     "output_type": "stream",
     "text": [
      "<class 'pandas.core.frame.DataFrame'>\n",
      "RangeIndex: 2518758 entries, 0 to 2518757\n",
      "Data columns (total 24 columns):\n",
      " #   Column                        Dtype         \n",
      "---  ------                        -----         \n",
      " 0   IM_INCIDENT_KEY               int64         \n",
      " 1   FIRE_BOX                      object        \n",
      " 2   INCIDENT_TYPE_DESC            object        \n",
      " 3   INCIDENT_DATE_TIME            datetime64[ns]\n",
      " 4   ARRIVAL_DATE_TIME             datetime64[ns]\n",
      " 5   UNITS_ONSCENE                 float64       \n",
      " 6   LAST_UNIT_CLEARED_DATE_TIME   datetime64[ns]\n",
      " 7   HIGHEST_LEVEL_DESC            object        \n",
      " 8   TOTAL_INCIDENT_DURATION       float64       \n",
      " 9   ACTION_TAKEN1_DESC            object        \n",
      " 10  ACTION_TAKEN2_DESC            object        \n",
      " 11  ACTION_TAKEN3_DESC            object        \n",
      " 12  PROPERTY_USE_DESC             object        \n",
      " 13  STREET_HIGHWAY                object        \n",
      " 14  ZIP_CODE                      object        \n",
      " 15  BOROUGH_DESC                  object        \n",
      " 16  FLOOR                         object        \n",
      " 17  CO_DETECTOR_PRESENT_DESC      object        \n",
      " 18  FIRE_ORIGIN_BELOW_GRADE_FLAG  float64       \n",
      " 19  STORY_FIRE_ORIGIN_COUNT       float64       \n",
      " 20  FIRE_SPREAD_DESC              object        \n",
      " 21  DETECTOR_PRESENCE_DESC        object        \n",
      " 22  AES_PRESENCE_DESC             object        \n",
      " 23  STANDPIPE_SYS_PRESENT_FLAG    float64       \n",
      "dtypes: datetime64[ns](3), float64(5), int64(1), object(15)\n",
      "memory usage: 461.2+ MB\n"
     ]
    }
   ],
   "source": [
    "nyc_fire_df.info()"
   ]
  },
  {
   "cell_type": "markdown",
   "metadata": {
    "id": "_WNSU_BifTnM"
   },
   "source": [
    "This dataset has about 2.5 million rows with 24 columns. Has 3 date,8 numeric and 13 string fields. Uses 460MB of space"
   ]
  },
  {
   "cell_type": "markdown",
   "metadata": {
    "id": "CvofI35TNy7G"
   },
   "source": [
    "The Dataset has the data of all the incidents reported to the New York City Fire department between 01-JAN-2013 and 30-JUN-2018."
   ]
  },
  {
   "cell_type": "code",
   "execution_count": 106,
   "metadata": {
    "colab": {
     "base_uri": "https://localhost:8080/"
    },
    "executionInfo": {
     "elapsed": 298,
     "status": "ok",
     "timestamp": 1655233305661,
     "user": {
      "displayName": "praveen N",
      "userId": "01719520328156978713"
     },
     "user_tz": 240
    },
    "id": "DTG9GD5xOSHs",
    "outputId": "34e21f50-9936-44e8-9d78-ad67046001f1"
   },
   "outputs": [
    {
     "data": {
      "text/plain": [
       "count                          2518758\n",
       "mean     2015-10-30 02:08:18.115946496\n",
       "min                2013-01-01 00:00:20\n",
       "25%                2014-07-02 23:49:57\n",
       "50%                2015-11-04 21:40:09\n",
       "75%      2017-03-05 15:18:39.249999872\n",
       "max                2018-06-30 23:55:29\n",
       "Name: INCIDENT_DATE_TIME, dtype: object"
      ]
     },
     "execution_count": 106,
     "metadata": {},
     "output_type": "execute_result"
    }
   ],
   "source": [
    "nyc_fire_df.INCIDENT_DATE_TIME.describe(datetime_is_numeric=True)"
   ]
  },
  {
   "cell_type": "markdown",
   "metadata": {
    "id": "l4-BD6Eogcep"
   },
   "source": [
    "### Data Cleaning."
   ]
  },
  {
   "cell_type": "markdown",
   "metadata": {
    "id": "hh983vLqggHv"
   },
   "source": [
    "The data appears to be pretty clean with not many missing data. In some cases the missing data may have a meaning, Example: a null in column ARRIVAL_DATE_TIME may mean false alarm. "
   ]
  },
  {
   "cell_type": "code",
   "execution_count": 107,
   "metadata": {
    "colab": {
     "base_uri": "https://localhost:8080/"
    },
    "executionInfo": {
     "elapsed": 1744,
     "status": "ok",
     "timestamp": 1655233310801,
     "user": {
      "displayName": "praveen N",
      "userId": "01719520328156978713"
     },
     "user_tz": 240
    },
    "id": "JvF9N3OjyQ3L",
    "outputId": "55eae4c1-68b2-4e85-e7cd-75d85b0e6d0e"
   },
   "outputs": [
    {
     "data": {
      "text/plain": [
       "FIRE_ORIGIN_BELOW_GRADE_FLAG    100.0\n",
       "STANDPIPE_SYS_PRESENT_FLAG       99.0\n",
       "AES_PRESENCE_DESC                99.0\n",
       "DETECTOR_PRESENCE_DESC           99.0\n",
       "FIRE_SPREAD_DESC                 99.0\n",
       "STORY_FIRE_ORIGIN_COUNT          99.0\n",
       "CO_DETECTOR_PRESENT_DESC         99.0\n",
       "ACTION_TAKEN3_DESC               90.0\n",
       "ACTION_TAKEN2_DESC               79.0\n",
       "FLOOR                            78.0\n",
       "STREET_HIGHWAY                    2.0\n",
       "UNITS_ONSCENE                     2.0\n",
       "ARRIVAL_DATE_TIME                 2.0\n",
       "BOROUGH_DESC                      0.0\n",
       "ZIP_CODE                          0.0\n",
       "PROPERTY_USE_DESC                 0.0\n",
       "ACTION_TAKEN1_DESC                0.0\n",
       "TOTAL_INCIDENT_DURATION           0.0\n",
       "HIGHEST_LEVEL_DESC                0.0\n",
       "LAST_UNIT_CLEARED_DATE_TIME       0.0\n",
       "INCIDENT_DATE_TIME                0.0\n",
       "INCIDENT_TYPE_DESC                0.0\n",
       "FIRE_BOX                          0.0\n",
       "IM_INCIDENT_KEY                   0.0\n",
       "dtype: float64"
      ]
     },
     "execution_count": 107,
     "metadata": {},
     "output_type": "execute_result"
    }
   ],
   "source": [
    "missing_data_pct=round(nyc_fire_df.isnull().sum()/len(nyc_fire_df)*100).sort_values(ascending=False)\n",
    "missing_data_pct"
   ]
  },
  {
   "cell_type": "markdown",
   "metadata": {
    "id": "2yeekVb_AwRS"
   },
   "source": [
    "There are number of columns where the data is missing for more than 90% of the rows. We will drop these columns from our analysis."
   ]
  },
  {
   "cell_type": "code",
   "execution_count": 108,
   "metadata": {
    "executionInfo": {
     "elapsed": 432,
     "status": "ok",
     "timestamp": 1655233314339,
     "user": {
      "displayName": "praveen N",
      "userId": "01719520328156978713"
     },
     "user_tz": 240
    },
    "id": "IGKQbwzJBQuA"
   },
   "outputs": [],
   "source": [
    "drop_columns=['FIRE_ORIGIN_BELOW_GRADE_FLAG','AES_PRESENCE_DESC','DETECTOR_PRESENCE_DESC',\n",
    "              'FIRE_SPREAD_DESC','STORY_FIRE_ORIGIN_COUNT','STANDPIPE_SYS_PRESENT_FLAG','CO_DETECTOR_PRESENT_DESC','ACTION_TAKEN3_DESC']\n",
    "nyc_fire_df.drop(drop_columns, axis=1,inplace=True)"
   ]
  },
  {
   "cell_type": "markdown",
   "metadata": {
    "id": "OJ_JgAV6-ftc"
   },
   "source": [
    "In some cases the onscene unit arrived but no arrival date recorded, we will drop these records.\n"
   ]
  },
  {
   "cell_type": "code",
   "execution_count": 109,
   "metadata": {
    "executionInfo": {
     "elapsed": 607,
     "status": "ok",
     "timestamp": 1655233317766,
     "user": {
      "displayName": "praveen N",
      "userId": "01719520328156978713"
     },
     "user_tz": 240
    },
    "id": "9naLji7h-gOM"
   },
   "outputs": [],
   "source": [
    "nyc_fire_df.drop(nyc_fire_df[ (nyc_fire_df.ARRIVAL_DATE_TIME.isnull()) & (nyc_fire_df.UNITS_ONSCENE.notnull())].index, inplace=True )"
   ]
  },
  {
   "cell_type": "markdown",
   "metadata": {
    "id": "bXILooVElOL_"
   },
   "source": [
    "##### Check for duplicate data"
   ]
  },
  {
   "cell_type": "code",
   "execution_count": 110,
   "metadata": {
    "colab": {
     "base_uri": "https://localhost:8080/"
    },
    "executionInfo": {
     "elapsed": 6414,
     "status": "ok",
     "timestamp": 1655233325057,
     "user": {
      "displayName": "praveen N",
      "userId": "01719520328156978713"
     },
     "user_tz": 240
    },
    "id": "c02XpQrml5oG",
    "outputId": "4546db38-6427-4546-b5c4-38443eb52c5d"
   },
   "outputs": [
    {
     "data": {
      "text/plain": [
       "0"
      ]
     },
     "execution_count": 110,
     "metadata": {},
     "output_type": "execute_result"
    }
   ],
   "source": [
    "nyc_fire_df.duplicated().sum()"
   ]
  },
  {
   "cell_type": "code",
   "execution_count": 111,
   "metadata": {
    "colab": {
     "base_uri": "https://localhost:8080/"
    },
    "executionInfo": {
     "elapsed": 262,
     "status": "ok",
     "timestamp": 1655233326912,
     "user": {
      "displayName": "praveen N",
      "userId": "01719520328156978713"
     },
     "user_tz": 240
    },
    "id": "PIviar92mV3z",
    "outputId": "1e062cb9-d178-4043-fad4-95e09b3c1282"
   },
   "outputs": [
    {
     "data": {
      "text/plain": [
       "0"
      ]
     },
     "execution_count": 111,
     "metadata": {},
     "output_type": "execute_result"
    }
   ],
   "source": [
    "nyc_fire_df['IM_INCIDENT_KEY'].duplicated().sum()"
   ]
  },
  {
   "cell_type": "markdown",
   "metadata": {
    "id": "-uvWkap2midJ"
   },
   "source": [
    "#### There are no duplicate rows in the data."
   ]
  },
  {
   "cell_type": "markdown",
   "metadata": {
    "id": "sPXAqG4slbgG"
   },
   "source": [
    "#### Convert ZIP_CODE from numeric to a string field. Convert IM_INCIDENT_KEY from numeric to string as numeric value does not have a meaning for both thecolumns."
   ]
  },
  {
   "cell_type": "code",
   "execution_count": 112,
   "metadata": {
    "colab": {
     "base_uri": "https://localhost:8080/"
    },
    "executionInfo": {
     "elapsed": 268,
     "status": "ok",
     "timestamp": 1655233330274,
     "user": {
      "displayName": "praveen N",
      "userId": "01719520328156978713"
     },
     "user_tz": 240
    },
    "id": "2ww6eqnlXGeu",
    "outputId": "423f1749-316c-4606-cb11-611938d59ca2"
   },
   "outputs": [
    {
     "data": {
      "text/plain": [
       "array([10453.0, 11203.0, 10456.0, 10454.0, 11208.0, 10040.0, 11427.0,\n",
       "       11379.0, 10457.0, 11415.0, 11368.0, 10036.0, 11232.0, 11375.0,\n",
       "       11211.0, 10463.0, 10035.0, 10022.0, 11207.0, 10455.0, 10011.0,\n",
       "       10462.0, 10007.0, 11419.0, 11433.0, 11365.0, 11236.0, 10469.0,\n",
       "       11417.0, 11235.0, 10009.0, 11355.0, 10458.0, 10003.0, 11370.0,\n",
       "       10010.0, 11237.0, 10472.0, 10308.0, 10002.0, 10032.0, 11209.0,\n",
       "       11357.0, 11233.0, 11201.0, 11385.0, 10468.0, 10024.0, 10452.0,\n",
       "       11226.0, 10026.0, 11373.0, 11212.0, 10451.0, 10309.0, 10019.0,\n",
       "       11435.0, 11217.0, 10314.0, 11224.0, 11421.0, 10025.0, 10031.0,\n",
       "       10021.0, 11101.0, 11210.0, 11215.0, 11432.0, 11103.0, 10471.0,\n",
       "       10023.0, 11238.0, 10464.0, 11221.0, 10459.0, 11694.0, 10460.0,\n",
       "       11214.0, 11105.0, 10305.0, 10018.0, 11225.0, 10461.0, 99999.0,\n",
       "       11377.0, 10020.0, 11374.0, 10301.0, 10016.0, 11206.0, 10304.0,\n",
       "       11222.0, 10467.0, 10013.0, 10029.0, 10473.0, 10014.0, 11231.0,\n",
       "       11205.0, 10037.0, 11230.0, 10027.0, 10012.0, 11691.0, 11420.0,\n",
       "       11239.0, 11104.0, 11251.0, 10474.0, 10033.0, 10038.0, 10465.0,\n",
       "       11413.0, 11220.0, 11697.0, 11416.0, 11234.0, 10128.0, 11428.0,\n",
       "       11354.0, 10030.0, 11693.0, 11213.0, 10312.0, 11372.0, 11411.0,\n",
       "       11356.0, 11434.0, 10310.0, 11219.0, 11223.0, 11216.0, 10302.0,\n",
       "       11204.0, 10466.0, 11218.0, 11367.0, 11412.0, 11229.0, 11422.0,\n",
       "       10004.0, 11102.0, 10017.0, 10306.0, 11228.0, 10001.0, 11414.0,\n",
       "       11423.0, 10034.0, 11426.0, 11005.0, 11369.0, 10475.0, 10028.0,\n",
       "       10470.0, 11363.0, 11364.0, 10005.0, 10307.0, 11429.0, 11418.0,\n",
       "       11436.0, 10039.0, 11360.0, 11378.0, 11106.0, 11362.0, 10303.0,\n",
       "       11692.0, 11004.0, 11361.0, 11358.0, 10006.0, 11366.0, 10280.0,\n",
       "       11430.0, 11371.0, 11451.0, nan, 10044, 10691, '11102', '10023',\n",
       "       '10466', '11219', '10036', '11234', '11217', '10030', '11231',\n",
       "       '10467', '10128', '11434', '99999', '11370', '11210', '10032',\n",
       "       '11236', '10454', '11233', '10021', '10019', '10451', '10475',\n",
       "       '10012', '10002', '10027', '11203', '11220', '11435', '10459',\n",
       "       '10468', '10306', '11223', '10016', '10456', '11377', '11418',\n",
       "       '11105', '11218', '11432', '11433', '10035', '11212', '11209',\n",
       "       '11385', '11208', '11211', '10455', '11106', '10473', '10472',\n",
       "       '11232', '11215', '10469', '10024', '11214', '10303', '10460',\n",
       "       '11101', '11357', '11373', '10458', '11238', '10009', '10304',\n",
       "       '10457', '10028', '11216', '10453', '10025', '10029', '10031',\n",
       "       '11411', '10003', '11221', '11415', '11691', '11205', '10011',\n",
       "       '11368', '11230', '10039', '11201', '10001', '11225', '11369',\n",
       "       '10314', '10452', '10462', '10310', '11213', '10301', '11103',\n",
       "       '11207', '11206', '11235', '10020', '11694', '10007', '11419',\n",
       "       '11226', '11224', '10474', '10463', '10040', '10013', '11420',\n",
       "       '11436', '11429', '11229', '10308', '11204', '11355', '11378',\n",
       "       '11354', '10014', '10026', '11414', '11375', '11222', '11423',\n",
       "       '10465', '11104', '11237', '10033', '11374', '11228', '11372',\n",
       "       '10312', '11366', '10022', '10034', '11421', '10005', '11427',\n",
       "       '11422', '10037', '10305', '11367', '11379', '11417', '11413',\n",
       "       '11360', '11364', '10461', '11426', '11365', '11362', '11358',\n",
       "       '10471', '10004', '11416', '11239', '10010', '11361', '10464',\n",
       "       '11428', '10302', '10006', '10038', '11412', '10018', '11356',\n",
       "       '10017', '10307', '10280', '10470', '11004', '11697', '10309',\n",
       "       '11692', '11693', '11363', '11005', '11251', '11430', '11209-0000'],\n",
       "      dtype=object)"
      ]
     },
     "execution_count": 112,
     "metadata": {},
     "output_type": "execute_result"
    }
   ],
   "source": [
    "nyc_fire_df.ZIP_CODE.unique()"
   ]
  },
  {
   "cell_type": "code",
   "execution_count": 113,
   "metadata": {
    "executionInfo": {
     "elapsed": 2757,
     "status": "ok",
     "timestamp": 1655233335579,
     "user": {
      "displayName": "praveen N",
      "userId": "01719520328156978713"
     },
     "user_tz": 240
    },
    "id": "zJaMZ2ZmS2jM"
   },
   "outputs": [],
   "source": [
    "nyc_fire_df.at[2292091,'ZIP_CODE']='11209'\n",
    "nyc_fire_df.dropna(subset=['ZIP_CODE'], inplace=True)\n",
    "nyc_fire_df['ZIP_CODE']=nyc_fire_df.ZIP_CODE.astype(int).astype(str)\n"
   ]
  },
  {
   "cell_type": "markdown",
   "metadata": {
    "id": "H_tDqaE4GdHO"
   },
   "source": [
    "Create additional column to calculate the response time of the fire unit in minutes."
   ]
  },
  {
   "cell_type": "code",
   "execution_count": 114,
   "metadata": {
    "executionInfo": {
     "elapsed": 305,
     "status": "ok",
     "timestamp": 1655233337815,
     "user": {
      "displayName": "praveen N",
      "userId": "01719520328156978713"
     },
     "user_tz": 240
    },
    "id": "6ZYmxM8bGlsl"
   },
   "outputs": [],
   "source": [
    "nyc_fire_df['response_time']=(nyc_fire_df['ARRIVAL_DATE_TIME'] - nyc_fire_df['INCIDENT_DATE_TIME']).dt.seconds/60"
   ]
  },
  {
   "cell_type": "markdown",
   "metadata": {
    "id": "nJ7OENQXAMgl"
   },
   "source": [
    "## Exploratory Analysis and Data Visualization."
   ]
  },
  {
   "cell_type": "markdown",
   "metadata": {
    "id": "E5dyfcDTkVvj"
   },
   "source": [
    "### Analysis of Numerical field data"
   ]
  },
  {
   "cell_type": "code",
   "execution_count": 115,
   "metadata": {
    "colab": {
     "base_uri": "https://localhost:8080/",
     "height": 300
    },
    "executionInfo": {
     "elapsed": 784,
     "status": "ok",
     "timestamp": 1655233341014,
     "user": {
      "displayName": "praveen N",
      "userId": "01719520328156978713"
     },
     "user_tz": 240
    },
    "id": "07qWLvsp-Lag",
    "outputId": "0667082c-46cb-4a3c-9bf3-ffd5b6bf7edf"
   },
   "outputs": [
    {
     "data": {
      "text/html": [
       "\n",
       "  <div id=\"df-22c28752-7475-468d-83f4-c9c2e27b458e\">\n",
       "    <div class=\"colab-df-container\">\n",
       "      <div>\n",
       "<style scoped>\n",
       "    .dataframe tbody tr th:only-of-type {\n",
       "        vertical-align: middle;\n",
       "    }\n",
       "\n",
       "    .dataframe tbody tr th {\n",
       "        vertical-align: top;\n",
       "    }\n",
       "\n",
       "    .dataframe thead th {\n",
       "        text-align: right;\n",
       "    }\n",
       "</style>\n",
       "<table border=\"1\" class=\"dataframe\">\n",
       "  <thead>\n",
       "    <tr style=\"text-align: right;\">\n",
       "      <th></th>\n",
       "      <th>IM_INCIDENT_KEY</th>\n",
       "      <th>UNITS_ONSCENE</th>\n",
       "      <th>TOTAL_INCIDENT_DURATION</th>\n",
       "      <th>response_time</th>\n",
       "    </tr>\n",
       "  </thead>\n",
       "  <tbody>\n",
       "    <tr>\n",
       "      <th>count</th>\n",
       "      <td>2518741.00</td>\n",
       "      <td>2456220.00</td>\n",
       "      <td>2518594.00</td>\n",
       "      <td>2456435.00</td>\n",
       "    </tr>\n",
       "    <tr>\n",
       "      <th>mean</th>\n",
       "      <td>59264151.84</td>\n",
       "      <td>2.12</td>\n",
       "      <td>1442.17</td>\n",
       "      <td>5.12</td>\n",
       "    </tr>\n",
       "    <tr>\n",
       "      <th>std</th>\n",
       "      <td>2242047.14</td>\n",
       "      <td>1.89</td>\n",
       "      <td>45194.84</td>\n",
       "      <td>5.70</td>\n",
       "    </tr>\n",
       "    <tr>\n",
       "      <th>min</th>\n",
       "      <td>55672688.00</td>\n",
       "      <td>1.00</td>\n",
       "      <td>0.00</td>\n",
       "      <td>0.07</td>\n",
       "    </tr>\n",
       "    <tr>\n",
       "      <th>25%</th>\n",
       "      <td>57307518.00</td>\n",
       "      <td>1.00</td>\n",
       "      <td>742.00</td>\n",
       "      <td>3.65</td>\n",
       "    </tr>\n",
       "    <tr>\n",
       "      <th>50%</th>\n",
       "      <td>59119514.00</td>\n",
       "      <td>1.00</td>\n",
       "      <td>1036.00</td>\n",
       "      <td>4.58</td>\n",
       "    </tr>\n",
       "    <tr>\n",
       "      <th>75%</th>\n",
       "      <td>61132325.00</td>\n",
       "      <td>3.00</td>\n",
       "      <td>1523.00</td>\n",
       "      <td>5.78</td>\n",
       "    </tr>\n",
       "    <tr>\n",
       "      <th>max</th>\n",
       "      <td>63476768.00</td>\n",
       "      <td>207.00</td>\n",
       "      <td>71011364.00</td>\n",
       "      <td>1434.92</td>\n",
       "    </tr>\n",
       "  </tbody>\n",
       "</table>\n",
       "</div>\n",
       "      <button class=\"colab-df-convert\" onclick=\"convertToInteractive('df-22c28752-7475-468d-83f4-c9c2e27b458e')\"\n",
       "              title=\"Convert this dataframe to an interactive table.\"\n",
       "              style=\"display:none;\">\n",
       "        \n",
       "  <svg xmlns=\"http://www.w3.org/2000/svg\" height=\"24px\"viewBox=\"0 0 24 24\"\n",
       "       width=\"24px\">\n",
       "    <path d=\"M0 0h24v24H0V0z\" fill=\"none\"/>\n",
       "    <path d=\"M18.56 5.44l.94 2.06.94-2.06 2.06-.94-2.06-.94-.94-2.06-.94 2.06-2.06.94zm-11 1L8.5 8.5l.94-2.06 2.06-.94-2.06-.94L8.5 2.5l-.94 2.06-2.06.94zm10 10l.94 2.06.94-2.06 2.06-.94-2.06-.94-.94-2.06-.94 2.06-2.06.94z\"/><path d=\"M17.41 7.96l-1.37-1.37c-.4-.4-.92-.59-1.43-.59-.52 0-1.04.2-1.43.59L10.3 9.45l-7.72 7.72c-.78.78-.78 2.05 0 2.83L4 21.41c.39.39.9.59 1.41.59.51 0 1.02-.2 1.41-.59l7.78-7.78 2.81-2.81c.8-.78.8-2.07 0-2.86zM5.41 20L4 18.59l7.72-7.72 1.47 1.35L5.41 20z\"/>\n",
       "  </svg>\n",
       "      </button>\n",
       "      \n",
       "  <style>\n",
       "    .colab-df-container {\n",
       "      display:flex;\n",
       "      flex-wrap:wrap;\n",
       "      gap: 12px;\n",
       "    }\n",
       "\n",
       "    .colab-df-convert {\n",
       "      background-color: #E8F0FE;\n",
       "      border: none;\n",
       "      border-radius: 50%;\n",
       "      cursor: pointer;\n",
       "      display: none;\n",
       "      fill: #1967D2;\n",
       "      height: 32px;\n",
       "      padding: 0 0 0 0;\n",
       "      width: 32px;\n",
       "    }\n",
       "\n",
       "    .colab-df-convert:hover {\n",
       "      background-color: #E2EBFA;\n",
       "      box-shadow: 0px 1px 2px rgba(60, 64, 67, 0.3), 0px 1px 3px 1px rgba(60, 64, 67, 0.15);\n",
       "      fill: #174EA6;\n",
       "    }\n",
       "\n",
       "    [theme=dark] .colab-df-convert {\n",
       "      background-color: #3B4455;\n",
       "      fill: #D2E3FC;\n",
       "    }\n",
       "\n",
       "    [theme=dark] .colab-df-convert:hover {\n",
       "      background-color: #434B5C;\n",
       "      box-shadow: 0px 1px 3px 1px rgba(0, 0, 0, 0.15);\n",
       "      filter: drop-shadow(0px 1px 2px rgba(0, 0, 0, 0.3));\n",
       "      fill: #FFFFFF;\n",
       "    }\n",
       "  </style>\n",
       "\n",
       "      <script>\n",
       "        const buttonEl =\n",
       "          document.querySelector('#df-22c28752-7475-468d-83f4-c9c2e27b458e button.colab-df-convert');\n",
       "        buttonEl.style.display =\n",
       "          google.colab.kernel.accessAllowed ? 'block' : 'none';\n",
       "\n",
       "        async function convertToInteractive(key) {\n",
       "          const element = document.querySelector('#df-22c28752-7475-468d-83f4-c9c2e27b458e');\n",
       "          const dataTable =\n",
       "            await google.colab.kernel.invokeFunction('convertToInteractive',\n",
       "                                                     [key], {});\n",
       "          if (!dataTable) return;\n",
       "\n",
       "          const docLinkHtml = 'Like what you see? Visit the ' +\n",
       "            '<a target=\"_blank\" href=https://colab.research.google.com/notebooks/data_table.ipynb>data table notebook</a>'\n",
       "            + ' to learn more about interactive tables.';\n",
       "          element.innerHTML = '';\n",
       "          dataTable['output_type'] = 'display_data';\n",
       "          await google.colab.output.renderOutput(dataTable, element);\n",
       "          const docLink = document.createElement('div');\n",
       "          docLink.innerHTML = docLinkHtml;\n",
       "          element.appendChild(docLink);\n",
       "        }\n",
       "      </script>\n",
       "    </div>\n",
       "  </div>\n",
       "  "
      ],
      "text/plain": [
       "       IM_INCIDENT_KEY  UNITS_ONSCENE  TOTAL_INCIDENT_DURATION  response_time\n",
       "count       2518741.00     2456220.00               2518594.00     2456435.00\n",
       "mean       59264151.84           2.12                  1442.17           5.12\n",
       "std         2242047.14           1.89                 45194.84           5.70\n",
       "min        55672688.00           1.00                     0.00           0.07\n",
       "25%        57307518.00           1.00                   742.00           3.65\n",
       "50%        59119514.00           1.00                  1036.00           4.58\n",
       "75%        61132325.00           3.00                  1523.00           5.78\n",
       "max        63476768.00         207.00              71011364.00        1434.92"
      ]
     },
     "execution_count": 115,
     "metadata": {},
     "output_type": "execute_result"
    }
   ],
   "source": [
    "nyc_fire_df.describe().round(2)"
   ]
  },
  {
   "cell_type": "markdown",
   "metadata": {
    "id": "HM5Qo9dlkgkK"
   },
   "source": [
    "Observations:\n",
    "1. Fire Units responded with on-scene presence 97.5%(2456235/2518758) of the times.\n",
    "2. Mean time for an incident to last is 17.3 minutes. \n",
    "3. 75% of the incidents were closed in less than 25 minutes.\n",
    "4. Total of 717 incidents lasted for more than 12 hours.\n",
    "5. Total of 302 incidents lasted for more than 24 hours.\n"
   ]
  },
  {
   "cell_type": "code",
   "execution_count": 116,
   "metadata": {
    "colab": {
     "base_uri": "https://localhost:8080/"
    },
    "executionInfo": {
     "elapsed": 283,
     "status": "ok",
     "timestamp": 1655233343835,
     "user": {
      "displayName": "praveen N",
      "userId": "01719520328156978713"
     },
     "user_tz": 240
    },
    "id": "8DUk4kK--LVL",
    "outputId": "c41191f7-dbf4-4404-e2a7-d7c244fbf21d"
   },
   "outputs": [
    {
     "name": "stdout",
     "output_type": "stream",
     "text": [
      "Incidents Lasting more than  1 hours:  118332\n",
      "Incidents Lasting more than  12 hours:  717\n",
      "Incidents Lasting more than  24 hours:  302\n",
      "Incidents Lasting more than  7 days:  8\n",
      "Incidents Lasting more than  10 days:  3\n"
     ]
    }
   ],
   "source": [
    "print(\"Incidents Lasting more than  1 hours: \" ,nyc_fire_df[nyc_fire_df.TOTAL_INCIDENT_DURATION>3600].TOTAL_INCIDENT_DURATION.count())\n",
    "print(\"Incidents Lasting more than  12 hours: \" ,nyc_fire_df[nyc_fire_df.TOTAL_INCIDENT_DURATION>43200].TOTAL_INCIDENT_DURATION.count())\n",
    "print(\"Incidents Lasting more than  24 hours: \" ,nyc_fire_df[nyc_fire_df.TOTAL_INCIDENT_DURATION>86400].TOTAL_INCIDENT_DURATION.count())\n",
    "print(\"Incidents Lasting more than  7 days: \" ,nyc_fire_df[nyc_fire_df.TOTAL_INCIDENT_DURATION>604800].TOTAL_INCIDENT_DURATION.count())\n",
    "print(\"Incidents Lasting more than  10 days: \" ,nyc_fire_df[nyc_fire_df.TOTAL_INCIDENT_DURATION>864000].TOTAL_INCIDENT_DURATION.count())"
   ]
  },
  {
   "cell_type": "code",
   "execution_count": 117,
   "metadata": {
    "colab": {
     "base_uri": "https://localhost:8080/"
    },
    "executionInfo": {
     "elapsed": 122,
     "status": "ok",
     "timestamp": 1655233345247,
     "user": {
      "displayName": "praveen N",
      "userId": "01719520328156978713"
     },
     "user_tz": 240
    },
    "id": "H8qE3twcsQSw",
    "outputId": "cd55b574-3b3a-443c-95e2-6b81e1386539"
   },
   "outputs": [
    {
     "data": {
      "text/plain": [
       "762763      6169981.0\n",
       "764103      6151349.0\n",
       "2185426    71011364.0\n",
       "Name: TOTAL_INCIDENT_DURATION, dtype: float64"
      ]
     },
     "execution_count": 117,
     "metadata": {},
     "output_type": "execute_result"
    }
   ],
   "source": [
    "nyc_fire_df[nyc_fire_df.TOTAL_INCIDENT_DURATION>864000].TOTAL_INCIDENT_DURATION"
   ]
  },
  {
   "cell_type": "markdown",
   "metadata": {
    "id": "gbw-QQjgsufM"
   },
   "source": [
    "Two records indicate that the incidents lasted for 71 days and 1 record indicate that the incident lasterd 831 days(2.25 years)."
   ]
  },
  {
   "cell_type": "code",
   "execution_count": 118,
   "metadata": {
    "colab": {
     "base_uri": "https://localhost:8080/"
    },
    "executionInfo": {
     "elapsed": 105,
     "status": "ok",
     "timestamp": 1655233347976,
     "user": {
      "displayName": "praveen N",
      "userId": "01719520328156978713"
     },
     "user_tz": 240
    },
    "id": "ESRnfdaJtNrr",
    "outputId": "bf2ffa75-03e4-4efd-887d-853e6ef699b3"
   },
   "outputs": [
    {
     "data": {
      "text/plain": [
       "IM_INCIDENT_KEY                                                         60644546\n",
       "FIRE_BOX                                                                    8671\n",
       "INCIDENT_TYPE_DESC                             300 - Rescue, EMS incident, other\n",
       "INCIDENT_DATE_TIME                                           2016-11-20 08:11:36\n",
       "ARRIVAL_DATE_TIME                                            2016-11-20 08:15:21\n",
       "UNITS_ONSCENE                                                                  1\n",
       "LAST_UNIT_CLEARED_DATE_TIME                                  2017-01-30 12:54:05\n",
       "HIGHEST_LEVEL_DESC             1 - More than initial alarm, less than Signal 7-5\n",
       "TOTAL_INCIDENT_DURATION                                              6.15135e+06\n",
       "ACTION_TAKEN1_DESC                                      00 - Action taken, other\n",
       "ACTION_TAKEN2_DESC                                                           NaN\n",
       "PROPERTY_USE_DESC                                             UUU - Undetermined\n",
       "STREET_HIGHWAY                                             DEFAULT RECORD FOR SF\n",
       "ZIP_CODE                                                                   11436\n",
       "BOROUGH_DESC                                                          5 - Queens\n",
       "FLOOR                                                                        NaN\n",
       "response_time                                                               3.75\n",
       "Name: 764103, dtype: object"
      ]
     },
     "execution_count": 118,
     "metadata": {},
     "output_type": "execute_result"
    }
   ],
   "source": [
    "nyc_fire_df.loc[2185426 ]\n",
    "nyc_fire_df.loc[762763 ]\n",
    "nyc_fire_df.loc[764103]"
   ]
  },
  {
   "cell_type": "markdown",
   "metadata": {
    "id": "Rh5Ab7ISudt4"
   },
   "source": [
    "Looking at the details of these three records, it is highly likely that there may a data entry error, as the incidents which lasts this long has only 1 on scene unit and very little description of what happened and the action taken. So, we will drop these three rows from our analysis."
   ]
  },
  {
   "cell_type": "code",
   "execution_count": 119,
   "metadata": {
    "executionInfo": {
     "elapsed": 1850,
     "status": "ok",
     "timestamp": 1655233352398,
     "user": {
      "displayName": "praveen N",
      "userId": "01719520328156978713"
     },
     "user_tz": 240
    },
    "id": "hUVFYVqotNjU"
   },
   "outputs": [],
   "source": [
    "nyc_fire_df.drop(2185426, inplace=True)\n",
    "nyc_fire_df.drop(762763, inplace=True)\n",
    "nyc_fire_df.drop(764103, inplace=True)"
   ]
  },
  {
   "cell_type": "code",
   "execution_count": 120,
   "metadata": {
    "colab": {
     "base_uri": "https://localhost:8080/",
     "height": 300
    },
    "executionInfo": {
     "elapsed": 687,
     "status": "ok",
     "timestamp": 1655233354418,
     "user": {
      "displayName": "praveen N",
      "userId": "01719520328156978713"
     },
     "user_tz": 240
    },
    "id": "6iSpaumPwrZQ",
    "outputId": "e1188aa4-6529-4019-b26f-cee70889ee73"
   },
   "outputs": [
    {
     "data": {
      "text/html": [
       "\n",
       "  <div id=\"df-6fd68d36-cae7-4fb3-94e3-dd85f2aef6bb\">\n",
       "    <div class=\"colab-df-container\">\n",
       "      <div>\n",
       "<style scoped>\n",
       "    .dataframe tbody tr th:only-of-type {\n",
       "        vertical-align: middle;\n",
       "    }\n",
       "\n",
       "    .dataframe tbody tr th {\n",
       "        vertical-align: top;\n",
       "    }\n",
       "\n",
       "    .dataframe thead th {\n",
       "        text-align: right;\n",
       "    }\n",
       "</style>\n",
       "<table border=\"1\" class=\"dataframe\">\n",
       "  <thead>\n",
       "    <tr style=\"text-align: right;\">\n",
       "      <th></th>\n",
       "      <th>IM_INCIDENT_KEY</th>\n",
       "      <th>UNITS_ONSCENE</th>\n",
       "      <th>TOTAL_INCIDENT_DURATION</th>\n",
       "      <th>response_time</th>\n",
       "    </tr>\n",
       "  </thead>\n",
       "  <tbody>\n",
       "    <tr>\n",
       "      <th>count</th>\n",
       "      <td>2518738.00</td>\n",
       "      <td>2456217.00</td>\n",
       "      <td>2518591.00</td>\n",
       "      <td>2456432.00</td>\n",
       "    </tr>\n",
       "    <tr>\n",
       "      <th>mean</th>\n",
       "      <td>59264151.83</td>\n",
       "      <td>2.12</td>\n",
       "      <td>1409.08</td>\n",
       "      <td>5.12</td>\n",
       "    </tr>\n",
       "    <tr>\n",
       "      <th>std</th>\n",
       "      <td>2242047.48</td>\n",
       "      <td>1.89</td>\n",
       "      <td>3220.78</td>\n",
       "      <td>5.70</td>\n",
       "    </tr>\n",
       "    <tr>\n",
       "      <th>min</th>\n",
       "      <td>55672688.00</td>\n",
       "      <td>1.00</td>\n",
       "      <td>0.00</td>\n",
       "      <td>0.07</td>\n",
       "    </tr>\n",
       "    <tr>\n",
       "      <th>25%</th>\n",
       "      <td>57307518.25</td>\n",
       "      <td>1.00</td>\n",
       "      <td>742.00</td>\n",
       "      <td>3.65</td>\n",
       "    </tr>\n",
       "    <tr>\n",
       "      <th>50%</th>\n",
       "      <td>59119503.50</td>\n",
       "      <td>1.00</td>\n",
       "      <td>1036.00</td>\n",
       "      <td>4.58</td>\n",
       "    </tr>\n",
       "    <tr>\n",
       "      <th>75%</th>\n",
       "      <td>61132330.25</td>\n",
       "      <td>3.00</td>\n",
       "      <td>1523.00</td>\n",
       "      <td>5.78</td>\n",
       "    </tr>\n",
       "    <tr>\n",
       "      <th>max</th>\n",
       "      <td>63476768.00</td>\n",
       "      <td>207.00</td>\n",
       "      <td>849842.00</td>\n",
       "      <td>1434.92</td>\n",
       "    </tr>\n",
       "  </tbody>\n",
       "</table>\n",
       "</div>\n",
       "      <button class=\"colab-df-convert\" onclick=\"convertToInteractive('df-6fd68d36-cae7-4fb3-94e3-dd85f2aef6bb')\"\n",
       "              title=\"Convert this dataframe to an interactive table.\"\n",
       "              style=\"display:none;\">\n",
       "        \n",
       "  <svg xmlns=\"http://www.w3.org/2000/svg\" height=\"24px\"viewBox=\"0 0 24 24\"\n",
       "       width=\"24px\">\n",
       "    <path d=\"M0 0h24v24H0V0z\" fill=\"none\"/>\n",
       "    <path d=\"M18.56 5.44l.94 2.06.94-2.06 2.06-.94-2.06-.94-.94-2.06-.94 2.06-2.06.94zm-11 1L8.5 8.5l.94-2.06 2.06-.94-2.06-.94L8.5 2.5l-.94 2.06-2.06.94zm10 10l.94 2.06.94-2.06 2.06-.94-2.06-.94-.94-2.06-.94 2.06-2.06.94z\"/><path d=\"M17.41 7.96l-1.37-1.37c-.4-.4-.92-.59-1.43-.59-.52 0-1.04.2-1.43.59L10.3 9.45l-7.72 7.72c-.78.78-.78 2.05 0 2.83L4 21.41c.39.39.9.59 1.41.59.51 0 1.02-.2 1.41-.59l7.78-7.78 2.81-2.81c.8-.78.8-2.07 0-2.86zM5.41 20L4 18.59l7.72-7.72 1.47 1.35L5.41 20z\"/>\n",
       "  </svg>\n",
       "      </button>\n",
       "      \n",
       "  <style>\n",
       "    .colab-df-container {\n",
       "      display:flex;\n",
       "      flex-wrap:wrap;\n",
       "      gap: 12px;\n",
       "    }\n",
       "\n",
       "    .colab-df-convert {\n",
       "      background-color: #E8F0FE;\n",
       "      border: none;\n",
       "      border-radius: 50%;\n",
       "      cursor: pointer;\n",
       "      display: none;\n",
       "      fill: #1967D2;\n",
       "      height: 32px;\n",
       "      padding: 0 0 0 0;\n",
       "      width: 32px;\n",
       "    }\n",
       "\n",
       "    .colab-df-convert:hover {\n",
       "      background-color: #E2EBFA;\n",
       "      box-shadow: 0px 1px 2px rgba(60, 64, 67, 0.3), 0px 1px 3px 1px rgba(60, 64, 67, 0.15);\n",
       "      fill: #174EA6;\n",
       "    }\n",
       "\n",
       "    [theme=dark] .colab-df-convert {\n",
       "      background-color: #3B4455;\n",
       "      fill: #D2E3FC;\n",
       "    }\n",
       "\n",
       "    [theme=dark] .colab-df-convert:hover {\n",
       "      background-color: #434B5C;\n",
       "      box-shadow: 0px 1px 3px 1px rgba(0, 0, 0, 0.15);\n",
       "      filter: drop-shadow(0px 1px 2px rgba(0, 0, 0, 0.3));\n",
       "      fill: #FFFFFF;\n",
       "    }\n",
       "  </style>\n",
       "\n",
       "      <script>\n",
       "        const buttonEl =\n",
       "          document.querySelector('#df-6fd68d36-cae7-4fb3-94e3-dd85f2aef6bb button.colab-df-convert');\n",
       "        buttonEl.style.display =\n",
       "          google.colab.kernel.accessAllowed ? 'block' : 'none';\n",
       "\n",
       "        async function convertToInteractive(key) {\n",
       "          const element = document.querySelector('#df-6fd68d36-cae7-4fb3-94e3-dd85f2aef6bb');\n",
       "          const dataTable =\n",
       "            await google.colab.kernel.invokeFunction('convertToInteractive',\n",
       "                                                     [key], {});\n",
       "          if (!dataTable) return;\n",
       "\n",
       "          const docLinkHtml = 'Like what you see? Visit the ' +\n",
       "            '<a target=\"_blank\" href=https://colab.research.google.com/notebooks/data_table.ipynb>data table notebook</a>'\n",
       "            + ' to learn more about interactive tables.';\n",
       "          element.innerHTML = '';\n",
       "          dataTable['output_type'] = 'display_data';\n",
       "          await google.colab.output.renderOutput(dataTable, element);\n",
       "          const docLink = document.createElement('div');\n",
       "          docLink.innerHTML = docLinkHtml;\n",
       "          element.appendChild(docLink);\n",
       "        }\n",
       "      </script>\n",
       "    </div>\n",
       "  </div>\n",
       "  "
      ],
      "text/plain": [
       "       IM_INCIDENT_KEY  UNITS_ONSCENE  TOTAL_INCIDENT_DURATION  response_time\n",
       "count       2518738.00     2456217.00               2518591.00     2456432.00\n",
       "mean       59264151.83           2.12                  1409.08           5.12\n",
       "std         2242047.48           1.89                  3220.78           5.70\n",
       "min        55672688.00           1.00                     0.00           0.07\n",
       "25%        57307518.25           1.00                   742.00           3.65\n",
       "50%        59119503.50           1.00                  1036.00           4.58\n",
       "75%        61132330.25           3.00                  1523.00           5.78\n",
       "max        63476768.00         207.00                849842.00        1434.92"
      ]
     },
     "execution_count": 120,
     "metadata": {},
     "output_type": "execute_result"
    }
   ],
   "source": [
    "nyc_fire_df.describe().round(2)"
   ]
  },
  {
   "cell_type": "markdown",
   "metadata": {
    "id": "v1EG6enZCKmW"
   },
   "source": [
    "After the cleanup, the dataset we have is 2.5 million rows and 17 columns. This is the Data we will use for our analysis."
   ]
  },
  {
   "cell_type": "code",
   "execution_count": 121,
   "metadata": {
    "colab": {
     "base_uri": "https://localhost:8080/"
    },
    "executionInfo": {
     "elapsed": 111,
     "status": "ok",
     "timestamp": 1655233357224,
     "user": {
      "displayName": "praveen N",
      "userId": "01719520328156978713"
     },
     "user_tz": 240
    },
    "id": "I-4A4vYwCSMM",
    "outputId": "2570fd4e-d7d1-4338-9b3d-cd7be91c1f87"
   },
   "outputs": [
    {
     "data": {
      "text/plain": [
       "(2518738, 17)"
      ]
     },
     "execution_count": 121,
     "metadata": {},
     "output_type": "execute_result"
    }
   ],
   "source": [
    "nyc_fire_df.shape"
   ]
  },
  {
   "cell_type": "markdown",
   "metadata": {
    "id": "7SageXNnE3-N"
   },
   "source": [
    "### Data Visualization"
   ]
  },
  {
   "cell_type": "markdown",
   "metadata": {
    "id": "ofiyOmM4KiCZ"
   },
   "source": [
    "#### Distribution of incidents across NY City zipcodes."
   ]
  },
  {
   "cell_type": "markdown",
   "metadata": {
    "id": "_sjvEMsrwmmv"
   },
   "source": [
    "import folium library and download GeoJSON file for the boundaries of each zip code."
   ]
  },
  {
   "cell_type": "code",
   "execution_count": 122,
   "metadata": {
    "executionInfo": {
     "elapsed": 105,
     "status": "ok",
     "timestamp": 1655233361693,
     "user": {
      "displayName": "praveen N",
      "userId": "01719520328156978713"
     },
     "user_tz": 240
    },
    "id": "PF3NelsY-R6r"
   },
   "outputs": [],
   "source": [
    "import folium # imports library to display Maps."
   ]
  },
  {
   "cell_type": "code",
   "execution_count": 123,
   "metadata": {
    "executionInfo": {
     "elapsed": 113,
     "status": "ok",
     "timestamp": 1655233362686,
     "user": {
      "displayName": "praveen N",
      "userId": "01719520328156978713"
     },
     "user_tz": 240
    },
    "id": "d4GhK4oMR7F6"
   },
   "outputs": [],
   "source": [
    "nyc_GeoJson=\"/content/nyc-zipcode-geodata/nyc-zip-code-tabulation-areas-polygons.geojson\""
   ]
  },
  {
   "cell_type": "markdown",
   "metadata": {
    "id": "AbWp2hR3w3I2"
   },
   "source": [
    "Create a Pandass dataframe with zipCode and the number of incidents in that zipcode."
   ]
  },
  {
   "cell_type": "code",
   "execution_count": 124,
   "metadata": {
    "executionInfo": {
     "elapsed": 523,
     "status": "ok",
     "timestamp": 1655233364317,
     "user": {
      "displayName": "praveen N",
      "userId": "01719520328156978713"
     },
     "user_tz": 240
    },
    "id": "vfWgdqhXlm0T"
   },
   "outputs": [],
   "source": [
    "nyc_fire_zip_count_s=nyc_fire_df['ZIP_CODE'].value_counts()\n",
    "\n",
    "nyc_fire_zip_count_df=pd.DataFrame({'zip_code':nyc_fire_zip_count_s.index, \"Incidents_count\":nyc_fire_zip_count_s.values})\n"
   ]
  },
  {
   "cell_type": "markdown",
   "metadata": {
    "id": "b3i5zmp6G8SO"
   },
   "source": [
    "Create a Map with New York City as its center."
   ]
  },
  {
   "cell_type": "code",
   "execution_count": 125,
   "metadata": {
    "colab": {
     "base_uri": "https://localhost:8080/"
    },
    "executionInfo": {
     "elapsed": 132,
     "status": "ok",
     "timestamp": 1655233364940,
     "user": {
      "displayName": "praveen N",
      "userId": "01719520328156978713"
     },
     "user_tz": 240
    },
    "id": "JwFf5lIl-Taj",
    "outputId": "5323eb57-52b7-4734-a60a-e5366c07d9f2"
   },
   "outputs": [
    {
     "data": {
      "text/plain": [
       "<folium.raster_layers.TileLayer at 0x7f14a7faf550>"
      ]
     },
     "execution_count": 125,
     "metadata": {},
     "output_type": "execute_result"
    }
   ],
   "source": [
    "mymap = folium.Map(location=[40.73591596334853, -73.87463129109182], zoom_start=11,tiles=None)\n",
    "folium.TileLayer('CartoDB positron',name=\"Light Map\",control=False).add_to(mymap)\n",
    "#mymap"
   ]
  },
  {
   "cell_type": "markdown",
   "metadata": {
    "id": "vq4S8JoWHHs1"
   },
   "source": [
    "Create choropeth map to display different shades of red based on the incident count in that zipcode. Darker the color, more number of incidents reported."
   ]
  },
  {
   "cell_type": "code",
   "execution_count": 126,
   "metadata": {
    "colab": {
     "base_uri": "https://localhost:8080/"
    },
    "executionInfo": {
     "elapsed": 112,
     "status": "ok",
     "timestamp": 1655233367893,
     "user": {
      "displayName": "praveen N",
      "userId": "01719520328156978713"
     },
     "user_tz": 240
    },
    "id": "wIbI_tum-TXl",
    "outputId": "521bf55f-42e1-45cb-91ab-8c4ade33ed07"
   },
   "outputs": [
    {
     "data": {
      "text/plain": [
       "<folium.features.Choropleth at 0x7f1472ede310>"
      ]
     },
     "execution_count": 126,
     "metadata": {},
     "output_type": "execute_result"
    }
   ],
   "source": [
    "myscale = (nyc_fire_zip_count_df['Incidents_count'].quantile((0,0.1,0.75,0.9,0.98,1))).tolist()\n",
    "folium.Choropleth(\n",
    "    geo_data=nyc_GeoJson,\n",
    "    #data= nyc_fire_zip_count_s,\n",
    "    data=nyc_fire_zip_count_df,\n",
    "    columns=[\"zip_code\", \"Incidents_count\"],\n",
    "    key_on=\"feature.properties.postalCode\",\n",
    "    #threshold_scale=myscale,\n",
    "    threshold_scale=[0,100,1_000,5_000,15_000,25_000,35_000,45_000,55_000],\n",
    "    fill_color=\"OrRd\",\n",
    "    fill_opacity=0.7,\n",
    "    line_opacity=0.2,\n",
    "    nan_fill_color = \"White\",\n",
    "    legend_name=\"Incidents Reported\",\n",
    ").add_to(mymap)\n",
    "#mymap"
   ]
  },
  {
   "cell_type": "markdown",
   "metadata": {
    "id": "VEgM5-aY461z"
   },
   "source": [
    "### Create a tooltip, that will display other details about the zipcode when we hover over it on the map."
   ]
  },
  {
   "cell_type": "code",
   "execution_count": 127,
   "metadata": {
    "executionInfo": {
     "elapsed": 2,
     "status": "ok",
     "timestamp": 1655233372562,
     "user": {
      "displayName": "praveen N",
      "userId": "01719520328156978713"
     },
     "user_tz": 240
    },
    "id": "4CxNZWe7bGZs"
   },
   "outputs": [],
   "source": [
    "import geopandas as gpd"
   ]
  },
  {
   "cell_type": "code",
   "execution_count": 128,
   "metadata": {
    "executionInfo": {
     "elapsed": 271,
     "status": "ok",
     "timestamp": 1655233373605,
     "user": {
      "displayName": "praveen N",
      "userId": "01719520328156978713"
     },
     "user_tz": 240
    },
    "id": "7Ew2v7lBbomH"
   },
   "outputs": [],
   "source": [
    "fname = '/content/ZIP_CODE_040114.shp'\n",
    "geo_zip_shp_df = gpd.read_file(fname)\n"
   ]
  },
  {
   "cell_type": "code",
   "execution_count": 129,
   "metadata": {
    "colab": {
     "base_uri": "https://localhost:8080/"
    },
    "executionInfo": {
     "elapsed": 117,
     "status": "ok",
     "timestamp": 1655233374748,
     "user": {
      "displayName": "praveen N",
      "userId": "01719520328156978713"
     },
     "user_tz": 240
    },
    "id": "p3fG7Bo_h0ay",
    "outputId": "ac384480-e86a-4f83-abd2-2abaa024d6fb"
   },
   "outputs": [
    {
     "name": "stderr",
     "output_type": "stream",
     "text": [
      "/usr/local/lib/python3.7/dist-packages/pandas/core/frame.py:4308: SettingWithCopyWarning:\n",
      "\n",
      "\n",
      "A value is trying to be set on a copy of a slice from a DataFrame\n",
      "\n",
      "See the caveats in the documentation: https://pandas.pydata.org/pandas-docs/stable/user_guide/indexing.html#returning-a-view-versus-a-copy\n",
      "\n"
     ]
    }
   ],
   "source": [
    "geo_zip_shp_df=geo_zip_shp_df[['ZIPCODE','PO_NAME','POPULATION','geometry']]\n",
    "geo_zip_shp_df.rename(columns={'ZIPCODE':'zip_code'},inplace=True)"
   ]
  },
  {
   "cell_type": "markdown",
   "metadata": {
    "id": "eKiNK6-XH6Pj"
   },
   "source": [
    "Join `geo_zip_shp_df` and `nyc_fire_zip_count_df` . This new Dataframe will have all the information, including the geometric coordinates in a single Dataframe."
   ]
  },
  {
   "cell_type": "code",
   "execution_count": 130,
   "metadata": {
    "executionInfo": {
     "elapsed": 134,
     "status": "ok",
     "timestamp": 1655233377907,
     "user": {
      "displayName": "praveen N",
      "userId": "01719520328156978713"
     },
     "user_tz": 240
    },
    "id": "sF466xRKbofP"
   },
   "outputs": [],
   "source": [
    "nyc_incidents_zipGeo_df=geo_zip_shp_df.merge(nyc_fire_zip_count_df,how='inner',on='zip_code')\n"
   ]
  },
  {
   "cell_type": "code",
   "execution_count": 131,
   "metadata": {
    "colab": {
     "base_uri": "https://localhost:8080/",
     "height": 1000,
     "output_embedded_package_id": "13N1gwX_dAygH-UXld96sqyAo2GzBajK8"
    },
    "executionInfo": {
     "elapsed": 5705,
     "status": "ok",
     "timestamp": 1655233384439,
     "user": {
      "displayName": "praveen N",
      "userId": "01719520328156978713"
     },
     "user_tz": 240
    },
    "id": "cneUdRePboVX",
    "outputId": "0e17bad3-1d95-45fd-fdbb-421a0a0747f7"
   },
   "outputs": [
    {
     "data": {
      "text/plain": [
       "Output hidden; open in https://colab.research.google.com to view."
      ]
     },
     "metadata": {},
     "output_type": "display_data"
    }
   ],
   "source": [
    "style_function = lambda x: {'fillColor': '#ffffff', \n",
    "                            'color':'#000000', \n",
    "                            'fillOpacity': 0.1, \n",
    "                            'weight': 0.1}\n",
    "highlight_function = lambda x: {'fillColor': '#000000', \n",
    "                                'color':'#000000', \n",
    "                                'fillOpacity': 0.50, \n",
    "                                'weight': 0.1}\n",
    "NIL = folium.features.GeoJson(\n",
    "    nyc_incidents_zipGeo_df,\n",
    "    style_function=style_function, \n",
    "    control=False,\n",
    "    highlight_function=highlight_function, \n",
    "    tooltip=folium.features.GeoJsonTooltip(\n",
    "        fields=['PO_NAME','zip_code','POPULATION','Incidents_count'],\n",
    "        aliases=['Burough Name: ','Zip Code: ','Population: ','Number of Incidents: '],\n",
    "        style=(\"background-color: white; color: #333333; font-family: arial; font-size: 12px; padding: 10px;\") \n",
    "    )\n",
    ")\n",
    "mymap.add_child(NIL)\n",
    "mymap.keep_in_front(NIL)\n",
    "folium.LayerControl().add_to(mymap)\n",
    "mymap"
   ]
  },
  {
   "cell_type": "markdown",
   "metadata": {
    "id": "PbZQ4YR7c9LB"
   },
   "source": [
    "![](https://i.imgur.com/paPAWky.png)"
   ]
  },
  {
   "cell_type": "markdown",
   "metadata": {
    "id": "vTioqohVIx_I"
   },
   "source": [
    "Looking at the map-  New York, Bronx,and Broklyn has the highest number of incidents."
   ]
  },
  {
   "cell_type": "markdown",
   "metadata": {
    "id": "_wu9nlEz5Qwk"
   },
   "source": [
    "## Top 10 boroughs where incidents were reported."
   ]
  },
  {
   "cell_type": "code",
   "execution_count": 132,
   "metadata": {
    "executionInfo": {
     "elapsed": 132,
     "status": "ok",
     "timestamp": 1655233392802,
     "user": {
      "displayName": "praveen N",
      "userId": "01719520328156978713"
     },
     "user_tz": 240
    },
    "id": "mz2a69mM5QXI"
   },
   "outputs": [],
   "source": [
    "import seaborn as sns\n",
    "import matplotlib\n",
    "import matplotlib.pyplot as plt\n",
    "%matplotlib inline\n",
    "\n",
    "sns.set_style('darkgrid')\n",
    "matplotlib.rcParams['font.size'] = 14\n",
    "matplotlib.rcParams['figure.figsize'] = (9, 5)\n",
    "matplotlib.rcParams['figure.facecolor'] = '#00000000'\n"
   ]
  },
  {
   "cell_type": "code",
   "execution_count": 133,
   "metadata": {
    "executionInfo": {
     "elapsed": 145,
     "status": "ok",
     "timestamp": 1655233394010,
     "user": {
      "displayName": "praveen N",
      "userId": "01719520328156978713"
     },
     "user_tz": 240
    },
    "id": "E5gmQ4OD7uTB"
   },
   "outputs": [],
   "source": [
    "top_10_buroughs=nyc_incidents_zipGeo_df.PO_NAME.value_counts().head(10)"
   ]
  },
  {
   "cell_type": "code",
   "execution_count": 134,
   "metadata": {
    "colab": {
     "base_uri": "https://localhost:8080/",
     "height": 513
    },
    "executionInfo": {
     "elapsed": 411,
     "status": "ok",
     "timestamp": 1655233395267,
     "user": {
      "displayName": "praveen N",
      "userId": "01719520328156978713"
     },
     "user_tz": 240
    },
    "id": "6n-0Zd2n7ZOj",
    "outputId": "94160dff-fd1b-45f8-9b88-b4af1c1d853e"
   },
   "outputs": [
    {
     "data": {
      "image/png": "[encoded data removed]",
      "text/plain": [
       "<Figure size 864x432 with 1 Axes>"
      ]
     },
     "metadata": {
      "needs_background": "light"
     },
     "output_type": "display_data"
    }
   ],
   "source": [
    "plt.figure(figsize=(12,6))\n",
    "plt.xticks(rotation=75)\n",
    "fig_top_10_burough=sns.barplot(x=top_10_buroughs.index,y=top_10_buroughs.values)\n",
    "\n",
    "fig_top_10_burough.set_title('Total number of incidents(in thousands) in each burough',fontdict= { 'fontsize': 24})\n",
    "fig_top_10_burough.set_xlabel('Burough Name',fontdict= { 'fontsize': 14})\n",
    "fig_top_10_burough.set_ylabel('Number of incedents( in Thousands)',fontdict= { 'fontsize': 14});\n"
   ]
  },
  {
   "cell_type": "markdown",
   "metadata": {
    "id": "Xy3eAW50JJ9F"
   },
   "source": [
    "New York, Brooklyn & Brox accounts most of the incidents. New York has the highest number incidents( about 46,000) over a period of 5.5 years."
   ]
  },
  {
   "cell_type": "markdown",
   "metadata": {
    "id": "BxHoHSvuDCQ5"
   },
   "source": [
    "### Response Time of the On Scene Units"
   ]
  },
  {
   "cell_type": "code",
   "execution_count": 135,
   "metadata": {
    "colab": {
     "base_uri": "https://localhost:8080/",
     "height": 459
    },
    "executionInfo": {
     "elapsed": 2867,
     "status": "ok",
     "timestamp": 1655233402697,
     "user": {
      "displayName": "praveen N",
      "userId": "01719520328156978713"
     },
     "user_tz": 240
    },
    "id": "E-CRjUwxMy1Q",
    "outputId": "f9970b92-06cb-4804-84f7-d6428501ea8b"
   },
   "outputs": [
    {
     "name": "stdout",
     "output_type": "stream",
     "text": [
      "CPU times: user 1.36 s, sys: 106 ms, total: 1.46 s\n",
      "Wall time: 1.45 s\n"
     ]
    },
    {
     "data": {
      "image/png": "[encoded data removed]",
      "text/plain": [
       "<Figure size 864x432 with 1 Axes>"
      ]
     },
     "metadata": {
      "needs_background": "light"
     },
     "output_type": "display_data"
    }
   ],
   "source": [
    "%%time\n",
    "plt.figure(figsize=(12,6))\n",
    "plt.xticks(rotation=75)\n",
    "plt.title(\"Response Time Graph\")\n",
    "plt.xlabel=' Response Time'\n",
    "plt.ylabel=' Number of incedents( in Thousands)'\n",
    "fig=sns.histplot(nyc_fire_df[nyc_fire_df.ARRIVAL_DATE_TIME.notnull()],x='response_time', stat='count', binrange=(0,25) ,  )\n",
    "fig.set_xlabel(\"Response Time (in Minutes)\", fontsize=16)\n",
    "fig.set_ylabel(\"Number of Incidents\" , fontsize=16)\n",
    "fig"
   ]
  },
  {
   "cell_type": "code",
   "execution_count": 136,
   "metadata": {
    "colab": {
     "base_uri": "https://localhost:8080/"
    },
    "executionInfo": {
     "elapsed": 309,
     "status": "ok",
     "timestamp": 1655233406083,
     "user": {
      "displayName": "praveen N",
      "userId": "01719520328156978713"
     },
     "user_tz": 240
    },
    "id": "r2SLx41bMys4",
    "outputId": "413b89f0-c2bd-4038-d8a8-191e7cfbf299"
   },
   "outputs": [
    {
     "data": {
      "text/plain": [
       "count    2456432.00\n",
       "mean           5.12\n",
       "std            5.70\n",
       "min            0.07\n",
       "25%            3.65\n",
       "50%            4.58\n",
       "75%            5.78\n",
       "max         1434.92\n",
       "Name: response_time, dtype: float64"
      ]
     },
     "execution_count": 136,
     "metadata": {},
     "output_type": "execute_result"
    }
   ],
   "source": [
    "nyc_fire_df.response_time.describe().round(2)"
   ]
  },
  {
   "cell_type": "markdown",
   "metadata": {
    "id": "ImRdwvjgVdWK"
   },
   "source": [
    "The median response time and the average response time is about 5 min. This is very good response time, suggesting that the locations and staffing of the Fire Unit stations are adequate."
   ]
  },
  {
   "cell_type": "markdown",
   "metadata": {
    "id": "tkANpJGoV6gJ"
   },
   "source": [
    "### What are the different types of incidents"
   ]
  },
  {
   "cell_type": "code",
   "execution_count": 137,
   "metadata": {
    "executionInfo": {
     "elapsed": 247,
     "status": "ok",
     "timestamp": 1655233409824,
     "user": {
      "displayName": "praveen N",
      "userId": "01719520328156978713"
     },
     "user_tz": 240
    },
    "id": "yskxBpdMMykA"
   },
   "outputs": [],
   "source": [
    "top_incident_types_df=nyc_fire_df.INCIDENT_TYPE_DESC.value_counts(normalize=True,ascending=True)*100"
   ]
  },
  {
   "cell_type": "code",
   "execution_count": 138,
   "metadata": {
    "colab": {
     "base_uri": "https://localhost:8080/",
     "height": 416
    },
    "executionInfo": {
     "elapsed": 600,
     "status": "ok",
     "timestamp": 1655233412752,
     "user": {
      "displayName": "praveen N",
      "userId": "01719520328156978713"
     },
     "user_tz": 240
    },
    "id": "T5PZ9kFjHxkR",
    "outputId": "a4f9c367-7117-4754-f3e9-31999acdda6f"
   },
   "outputs": [
    {
     "data": {
      "image/png": "[encoded data removed]",
      "text/plain": [
       "<Figure size 864x432 with 1 Axes>"
      ]
     },
     "metadata": {
      "needs_background": "light"
     },
     "output_type": "display_data"
    }
   ],
   "source": [
    "plt.figure(figsize=(12,6))\n",
    "plt.title(\"Top 10 Incident Types\")\n",
    "incidents_fig=top_incident_types_df.tail(10).plot(kind='barh',color='green', )\n",
    "incidents_fig.set_xlabel('Number of Incedents(%)', fontsize=14)\n",
    "incidents_fig.set_ylabel('Incident Type', fontsize=14);"
   ]
  },
  {
   "cell_type": "markdown",
   "metadata": {
    "id": "W3DTtEDuj9aS"
   },
   "source": [
    "36% of the incidents are related to medical emergency. Interestingly, 5% of the calls were about people stuck in the elevators."
   ]
  },
  {
   "cell_type": "markdown",
   "metadata": {
    "id": "8GnwGDURnqcl"
   },
   "source": [
    "### Breakup of number of indicents per weekday, time of the day  & Month."
   ]
  },
  {
   "cell_type": "code",
   "execution_count": 139,
   "metadata": {
    "executionInfo": {
     "elapsed": 2109,
     "status": "ok",
     "timestamp": 1655233419348,
     "user": {
      "displayName": "praveen N",
      "userId": "01719520328156978713"
     },
     "user_tz": 240
    },
    "id": "DrQne-qmkQto"
   },
   "outputs": [],
   "source": [
    "def getweekday(weekday):\n",
    "  if weekday == 0:\n",
    "    return 'Sunday'\n",
    "  elif weekday == 1:\n",
    "    return 'Monday'\n",
    "  elif weekday == 2:\n",
    "    return 'Tuesday'\n",
    "  elif weekday == 3:\n",
    "    return 'Wednesday'\n",
    "  elif weekday == 4:\n",
    "    return 'Thursday'\n",
    "  elif weekday == 5:\n",
    "    return 'Friday'\n",
    "  elif weekday == 6:\n",
    "    return 'Saturday'\n",
    "\n",
    "def gettimeofday(hour):\n",
    "  if hour>=4 and hour<12:\n",
    "    return 'Morning(4AM-11:59AM)'\n",
    "  elif  hour>=12 and hour<20:\n",
    "    return 'Afternoon(12PM-7:59PM)'\n",
    "  else:\n",
    "    return 'Night(8PM-3:59AM)'\n",
    "  \n",
    "nyc_fire_df['weekday'],nyc_fire_df['month'],nyc_fire_df['timeofday']=nyc_fire_df.INCIDENT_DATE_TIME.dt.dayofweek.map(getweekday),nyc_fire_df.INCIDENT_DATE_TIME.dt.month,nyc_fire_df.INCIDENT_DATE_TIME.dt.hour.map(gettimeofday)"
   ]
  },
  {
   "cell_type": "code",
   "execution_count": 52,
   "metadata": {
    "executionInfo": {
     "elapsed": 1789,
     "status": "ok",
     "timestamp": 1655229883287,
     "user": {
      "displayName": "praveen N",
      "userId": "01719520328156978713"
     },
     "user_tz": 240
    },
    "id": "cKrDR0e4rbXv"
   },
   "outputs": [],
   "source": [
    "nyc_incidents_weekdays_df=nyc_fire_df['weekday'].value_counts()\n",
    "nyc_incidents_month_df=nyc_fire_df['month'].value_counts(normalize=True,sort=False)*100\n",
    "nyc_incidents_month_year_df=nyc_fire_df.INCIDENT_DATE_TIME.dt.to_period('M').value_counts(sort=False)\n",
    "nyc_incidents_daytime_df=nyc_fire_df['timeofday'].value_counts(normalize=True,sort=False)*100"
   ]
  },
  {
   "cell_type": "markdown",
   "metadata": {
    "id": "2-t6oXm7AHlR"
   },
   "source": [
    "### Is there a difference in number of incidents based on either day of the week or month of the year? This will help in resource planning."
   ]
  },
  {
   "cell_type": "code",
   "execution_count": 140,
   "metadata": {
    "colab": {
     "base_uri": "https://localhost:8080/",
     "height": 1000
    },
    "executionInfo": {
     "elapsed": 1458,
     "status": "ok",
     "timestamp": 1655233423383,
     "user": {
      "displayName": "praveen N",
      "userId": "01719520328156978713"
     },
     "user_tz": 240
    },
    "id": "haCQaNspadfZ",
    "outputId": "93a95fe7-476d-4caf-d924-4b91194dfde1"
   },
   "outputs": [
    {
     "name": "stderr",
     "output_type": "stream",
     "text": [
      "/usr/local/lib/python3.7/dist-packages/seaborn/distributions.py:2619: FutureWarning:\n",
      "\n",
      "`distplot` is a deprecated function and will be removed in a future version. Please adapt your code to use either `displot` (a figure-level function with similar flexibility) or `histplot` (an axes-level function for histograms).\n",
      "\n"
     ]
    },
    {
     "data": {
      "image/png": "[encoded data removed]",
      "text/plain": [
       "<Figure size 1152x1152 with 3 Axes>"
      ]
     },
     "metadata": {
      "needs_background": "light"
     },
     "output_type": "display_data"
    }
   ],
   "source": [
    "fig, axes = plt.subplots(3,  figsize=(16, 16))\n",
    "axes[0].set_title('Incidents per Weekday',fontsize=16)\n",
    "labels = nyc_incidents_weekdays_df.index\n",
    "data=nyc_incidents_weekdays_df.values\n",
    "colors = sns.color_palette('pastel')[0:5]\n",
    "#axes[0].pie(data, labels = labels, colors = colors, autopct='%.0f%%')\n",
    "sns.barplot(x=nyc_incidents_weekdays_df.index,y=nyc_incidents_weekdays_df.values,ax=axes[0]);\n",
    "#Cretae Histogram to visualize number of incidents per month\n",
    "axes[1].set_title('Incidents per Month',fontsize=16)\n",
    "labels2 = nyc_incidents_month_df.index\n",
    "data2=nyc_incidents_month_df.values\n",
    "axes[1].bar(x=labels2,height=data2, )\n",
    "axes[1].set_xlabel(\"Month\")\n",
    "axes[1].set_ylabel(\"Incident Percentages\")\n",
    "#Cretae Histogram to visualize number of incidents throught the day\n",
    "#axes[1,0].set_title('Incidents based on time of the day',fontsize=16)\n",
    "#labels3 = nyc_incidents_daytime_df.index\n",
    "#data3=nyc_incidents_daytime_df.values\n",
    "#axes[1,0].bar(x=labels3,height=data3, color='g' )\n",
    "#axes[1,0].set_xlabel(\"Time of the Day\", fontsize=16)\n",
    "#Cretae Distribution to visualize number of incidents throught the day\n",
    "axes[2].set_title(\"Incidents Distribution throughout the day\", fontsize=16)\n",
    "sns.distplot(nyc_fire_df.INCIDENT_DATE_TIME.dt.hour,bins=24,kde=False, norm_hist=True,ax=axes[2], )\n",
    "axes[2].set_xlabel(\"Hour of the Day\", fontsize=16)\n",
    "axes[2].set_ylabel(\"Incidents (Fraction of 100)\", fontsize=16);\n"
   ]
  },
  {
   "cell_type": "code",
   "execution_count": 141,
   "metadata": {
    "colab": {
     "base_uri": "https://localhost:8080/"
    },
    "executionInfo": {
     "elapsed": 123,
     "status": "ok",
     "timestamp": 1655233429910,
     "user": {
      "displayName": "praveen N",
      "userId": "01719520328156978713"
     },
     "user_tz": 240
    },
    "id": "4z49ILeig1dk",
    "outputId": "3d3d2b47-3906-4956-abf6-47334629bebf"
   },
   "outputs": [
    {
     "data": {
      "text/plain": [
       "Thursday     369006\n",
       "Sunday       363578\n",
       "Friday       360665\n",
       "Wednesday    359204\n",
       "Monday       359180\n",
       "Tuesday      358226\n",
       "Saturday     348879\n",
       "Name: weekday, dtype: int64"
      ]
     },
     "execution_count": 141,
     "metadata": {},
     "output_type": "execute_result"
    }
   ],
   "source": [
    "nyc_incidents_weekdays_df"
   ]
  },
  {
   "cell_type": "markdown",
   "metadata": {
    "id": "FVH5P1m3AiMX"
   },
   "source": [
    "There is no significant difference in the number of incidents reported, based on either day of the week or month of the year. However, more number of incidents are reported between 12PM and 8 PM(5PM-7PM specifically) than any other time during the day."
   ]
  },
  {
   "cell_type": "markdown",
   "metadata": {
    "id": "BBkuo6TTA812"
   },
   "source": [
    "### Is there a general trend of the number of incidents reported over the years?"
   ]
  },
  {
   "cell_type": "code",
   "execution_count": 142,
   "metadata": {
    "colab": {
     "base_uri": "https://localhost:8080/",
     "height": 634
    },
    "executionInfo": {
     "elapsed": 968,
     "status": "ok",
     "timestamp": 1655233433938,
     "user": {
      "displayName": "praveen N",
      "userId": "01719520328156978713"
     },
     "user_tz": 240
    },
    "id": "YpSl33cp4cDD",
    "outputId": "9cbe75ef-20a8-4b1b-800c-38c3c72cfa98"
   },
   "outputs": [
    {
     "data": {
      "image/png": "[encoded data removed]",
      "text/plain": [
       "<Figure size 1440x720 with 1 Axes>"
      ]
     },
     "metadata": {
      "needs_background": "light"
     },
     "output_type": "display_data"
    }
   ],
   "source": [
    "plt.figure(figsize=(20,10))\n",
    "inc_fig=nyc_fire_df.INCIDENT_DATE_TIME.dt.to_period('M').value_counts(sort=False).plot(kind='line')\n",
    "inc_fig.set_ylim(ymin=0)\n",
    "inc_fig.set_xlabel(\"Years\",fontsize=16)\n",
    "inc_fig.set_ylabel(\"Number of Incidents\",fontsize=16)\n",
    "inc_fig.set_title(\"Number of Incidents over the years\",fontsize=18);"
   ]
  },
  {
   "cell_type": "markdown",
   "metadata": {
    "id": "fetFAZS1to-O"
   },
   "source": [
    "There is no clear trend in the number of incidents reported over 5 years. January of 2018 saw a steep increase in the number of incidents compared to other months, which needs to be looked into."
   ]
  },
  {
   "cell_type": "markdown",
   "metadata": {
    "id": "3f9TNjVdkQym"
   },
   "source": [
    "### Is there any relation of number of incidents with the population of that zip code?"
   ]
  },
  {
   "cell_type": "code",
   "execution_count": 144,
   "metadata": {
    "executionInfo": {
     "elapsed": 149,
     "status": "ok",
     "timestamp": 1655233447963,
     "user": {
      "displayName": "praveen N",
      "userId": "01719520328156978713"
     },
     "user_tz": 240
    },
    "id": "mRqm9CieLxym"
   },
   "outputs": [],
   "source": [
    "#%pylab inline\n",
    "import plotly.express as px"
   ]
  },
  {
   "cell_type": "code",
   "execution_count": 145,
   "metadata": {
    "colab": {
     "base_uri": "https://localhost:8080/",
     "height": 542
    },
    "executionInfo": {
     "elapsed": 302,
     "status": "ok",
     "timestamp": 1655233451706,
     "user": {
      "displayName": "praveen N",
      "userId": "01719520328156978713"
     },
     "user_tz": 240
    },
    "id": "3Yp6Tqv_pIsN",
    "outputId": "dd04bce1-2b0c-4f39-9ad6-2329b4cc1671"
   },
   "outputs": [
    {
     "data": {
      "text/html": [
       "<html>\n",
       "<head><meta charset=\"utf-8\" /></head>\n",
       "<body>\n",
       "    <div>            <script src=\"https://cdnjs.cloudflare.com/ajax/libs/mathjax/2.7.5/MathJax.js?config=TeX-AMS-MML_SVG\"></script><script type=\"text/javascript\">if (window.MathJax && window.MathJax.Hub && window.MathJax.Hub.Config) {window.MathJax.Hub.Config({SVG: {font: \"STIX-Web\"}});}</script>                <script type=\"text/javascript\">window.PlotlyConfig = {MathJaxConfig: 'local'};</script>\n",
       "        <script src=\"https://cdn.plot.ly/plotly-2.12.1.min.js\"></script>                <div id=\"c615b600-501e-4332-9da4-13f6a650f8ad\" class=\"plotly-graph-div\" style=\"height:525px; width:100%;\"></div>            <script type=\"text/javascript\">                                    window.PLOTLYENV=window.PLOTLYENV || {};                                    if (document.getElementById(\"c615b600-501e-4332-9da4-13f6a650f8ad\")) {                    Plotly.newPlot(                        \"c615b600-501e-4332-9da4-13f6a650f8ad\",                        [{\"hovertemplate\":\"variable=POPULATION_PCT<br>zip_code=%{x}<br>value=%{y}<extra></extra>\",\"legendgroup\":\"POPULATION_PCT\",\"line\":{\"color\":\"#636efa\",\"dash\":\"solid\"},\"marker\":{\"symbol\":\"circle\"},\"mode\":\"lines\",\"name\":\"POPULATION_PCT\",\"orientation\":\"v\",\"showlegend\":true,\"x\":[\"10020\",\"11371\",\"11451\",\"11430\",\"11251\",\"10004\",\"10004\",\"10004\",\"10004\",\"10006\",\"10280\",\"11005\",\"11697\",\"10464\",\"10464\",\"10464\",\"10018\",\"11363\",\"10007\",\"10005\",\"11693\",\"11693\",\"11693\",\"11693\",\"10044\",\"11004\",\"10474\",\"11239\",\"11366\",\"10307\",\"10470\",\"10017\",\"10037\",\"11362\",\"11692\",\"10302\",\"11411\",\"11436\",\"11428\",\"11360\",\"11415\",\"10038\",\"11426\",\"11694\",\"11427\",\"10001\",\"11356\",\"10471\",\"10036\",\"10039\",\"10012\",\"10310\",\"11429\",\"11416\",\"11414\",\"11101\",\"10030\",\"10303\",\"11104\",\"10308\",\"10013\",\"11361\",\"11417\",\"11232\",\"10010\",\"11422\",\"11423\",\"10014\",\"10309\",\"10022\",\"11231\",\"11231\",\"11433\",\"11364\",\"11102\",\"10026\",\"10035\",\"10035\",\"11412\",\"11379\",\"11378\",\"11222\",\"11418\",\"11217\",\"11105\",\"10454\",\"11358\",\"11369\",\"11103\",\"11106\",\"11357\",\"11421\",\"10034\",\"11413\",\"10455\",\"10301\",\"11365\",\"11370\",\"11370\",\"10475\",\"10040\",\"11205\",\"10304\",\"10305\",\"11367\",\"10019\",\"10465\",\"11374\",\"11228\",\"10451\",\"11420\",\"10021\",\"11238\",\"10459\",\"11419\",\"10028\",\"11237\",\"11224\",\"10461\",\"10011\",\"11201\",\"11435\",\"11216\",\"10033\",\"10016\",\"10306\",\"10128\",\"10003\",\"11225\",\"10460\",\"10031\",\"10032\",\"11434\",\"10473\",\"10312\",\"10024\",\"11354\",\"10027\",\"11691\",\"11211\",\"10009\",\"11432\",\"11213\",\"10023\",\"11215\",\"10469\",\"10472\",\"11372\",\"11233\",\"11210\",\"11375\",\"10466\",\"11209\",\"10457\",\"10463\",\"10463\",\"11218\",\"10468\",\"10462\",\"10452\",\"11235\",\"11204\",\"10029\",\"10453\",\"11203\",\"10458\",\"11229\",\"11223\",\"11221\",\"11230\",\"10002\",\"11355\",\"11206\",\"11212\",\"10314\",\"11234\",\"11214\",\"10456\",\"11377\",\"11219\",\"11207\",\"11208\",\"11236\",\"10025\",\"11220\",\"10467\",\"11385\",\"11373\",\"11226\",\"11368\"],\"xaxis\":\"x\",\"y\":[0.0,0.0,0.0,0.00019304830635704455,0.000892848416901331,0.02638729037517852,0.02638729037517852,0.02638729037517852,0.02638729037517852,0.03632927815256632,0.03824769569698945,0.0426274791474649,0.049215252601899045,0.05354677397578523,0.05354677397578523,0.05354677397578523,0.066396551867676,0.08518256518004591,0.08835579671578983,0.09781516372728499,0.1333481176161285,0.1333481176161285,0.1333481176161285,0.1333481176161285,0.1406960187768435,0.14208355347878476,0.14817664064817898,0.15156705152857458,0.15887875613184765,0.17007555790055623,0.1778457522314273,0.19205893378696468,0.20428130468319508,0.21364414754151173,0.2173965239963268,0.2186634035067949,0.2197854967874952,0.2253959631909968,0.227048939314179,0.2289190947820129,0.22912420860751723,0.23077718473069941,0.24191365890367145,0.24327706256731807,0.26474162113039196,0.27042448064877744,0.282079772145084,0.2832621930215209,0.28405851728524373,0.2923957910160386,0.2929025428202258,0.301674175240324,0.30303757890397065,0.30674169328219647,0.31548919466400005,0.31676813969361545,0.3223906716162644,0.3263481618965838,0.32730133790922167,0.3331531146956696,0.3376535533376182,0.3438190336218963,0.34461535788561914,0.3561861907478945,0.360529777640928,0.3636426815809353,0.3648974955722561,0.37798858384709316,0.3995376010441982,0.3997909769462919,0.39989956661861775,0.39989956661861775,0.4063546193624314,0.4094675233024388,0.40955198193647,0.4140041585018293,0.4208935699349463,0.4208935699349463,0.42252241501983384,0.42745721235108586,0.428000160712715,0.43815932783475453,0.4416824594257706,0.44177898357894907,0.44529004965081787,0.45204674037331444,0.4553888891771207,0.4598893278190693,0.46131305907845255,0.4665132978309454,0.46987957767304644,0.4707241640133584,0.472353009098246,0.4747661129277091,0.480617889714157,0.48790546327913537,0.4889913600023938,0.48975148770867466,0.48975148770867466,0.49385376421876187,0.495084447171788,0.49619447493334096,0.5007431756518789,0.5036871623238238,0.5040129313408013,0.5063415765362331,0.5068965904170096,0.5158612711434649,0.5197825648663423,0.5325720151624966,0.5373740917831281,0.546555951854235,0.5630253854903203,0.5647145581709445,0.5677309379577733,0.5734741250718954,0.5952523871327995,0.5984497497068381,0.6098999273776402,0.6104428757392694,0.63996720109275,0.6443469845432254,0.6498729923126958,0.6549646413928628,0.6588497385582983,0.6708669956290244,0.6726285614245324,0.6741970789136834,0.682027600840291,0.6837529700783571,0.6878552465884442,0.6950462960002443,0.6996673898336659,0.703226717982124,0.705905263232828,0.7060862460200377,0.7061345080966269,0.7075099772794209,0.7271526424512502,0.7343195608247555,0.7414864791982607,0.7489671010695962,0.7532020982903039,0.7577146024513998,0.7634095274889326,0.7854773620093722,0.8006195885392529,0.8039979339005012,0.80521655133438,0.809198172652994,0.8271516651441992,0.8318210210542102,0.8355975285473198,0.8476389166563406,0.852320338085499,0.852320338085499,0.8720957239679485,0.8792988388988959,0.9130460959539368,0.9182342691872822,0.9185479726851125,0.9333161681214264,0.9351139304743764,0.9359947133721304,0.941834424639431,0.9575437305692355,0.9605118482794751,0.9636006211811878,0.9680407322273997,0.9755816816944719,0.980987034272469,0.9991335750700313,1.0083757627368748,1.0118868288087435,1.0307573007551447,1.0358610153544592,1.0745672007790463,1.0785367565785131,1.0961765455718882,1.11679651779465,1.1288017093462286,1.1391056626980358,1.139950249038348,1.1589413761762222,1.1734561957104424,1.1816004211348803,1.1876814427851272,1.2220199102783866,1.2805376781428657,1.3159741078785305],\"yaxis\":\"y\",\"type\":\"scatter\"},{\"hovertemplate\":\"variable=Incidents_count_PCT<br>zip_code=%{x}<br>value=%{y}<extra></extra>\",\"legendgroup\":\"Incidents_count_PCT\",\"line\":{\"color\":\"#EF553B\",\"dash\":\"solid\"},\"marker\":{\"symbol\":\"circle\"},\"mode\":\"lines\",\"name\":\"Incidents_count_PCT\",\"orientation\":\"v\",\"showlegend\":true,\"x\":[\"10020\",\"11371\",\"11451\",\"11430\",\"11251\",\"10004\",\"10004\",\"10004\",\"10004\",\"10006\",\"10280\",\"11005\",\"11697\",\"10464\",\"10464\",\"10464\",\"10018\",\"11363\",\"10007\",\"10005\",\"11693\",\"11693\",\"11693\",\"11693\",\"10044\",\"11004\",\"10474\",\"11239\",\"11366\",\"10307\",\"10470\",\"10017\",\"10037\",\"11362\",\"11692\",\"10302\",\"11411\",\"11436\",\"11428\",\"11360\",\"11415\",\"10038\",\"11426\",\"11694\",\"11427\",\"10001\",\"11356\",\"10471\",\"10036\",\"10039\",\"10012\",\"10310\",\"11429\",\"11416\",\"11414\",\"11101\",\"10030\",\"10303\",\"11104\",\"10308\",\"10013\",\"11361\",\"11417\",\"11232\",\"10010\",\"11422\",\"11423\",\"10014\",\"10309\",\"10022\",\"11231\",\"11231\",\"11433\",\"11364\",\"11102\",\"10026\",\"10035\",\"10035\",\"11412\",\"11379\",\"11378\",\"11222\",\"11418\",\"11217\",\"11105\",\"10454\",\"11358\",\"11369\",\"11103\",\"11106\",\"11357\",\"11421\",\"10034\",\"11413\",\"10455\",\"10301\",\"11365\",\"11370\",\"11370\",\"10475\",\"10040\",\"11205\",\"10304\",\"10305\",\"11367\",\"10019\",\"10465\",\"11374\",\"11228\",\"10451\",\"11420\",\"10021\",\"11238\",\"10459\",\"11419\",\"10028\",\"11237\",\"11224\",\"10461\",\"10011\",\"11201\",\"11435\",\"11216\",\"10033\",\"10016\",\"10306\",\"10128\",\"10003\",\"11225\",\"10460\",\"10031\",\"10032\",\"11434\",\"10473\",\"10312\",\"10024\",\"11354\",\"10027\",\"11691\",\"11211\",\"10009\",\"11432\",\"11213\",\"10023\",\"11215\",\"10469\",\"10472\",\"11372\",\"11233\",\"11210\",\"11375\",\"10466\",\"11209\",\"10457\",\"10463\",\"10463\",\"11218\",\"10468\",\"10462\",\"10452\",\"11235\",\"11204\",\"10029\",\"10453\",\"11203\",\"10458\",\"11229\",\"11223\",\"11221\",\"11230\",\"10002\",\"11355\",\"11206\",\"11212\",\"10314\",\"11234\",\"11214\",\"10456\",\"11377\",\"11219\",\"11207\",\"11208\",\"11236\",\"10025\",\"11220\",\"10467\",\"11385\",\"11373\",\"11226\",\"11368\"],\"xaxis\":\"x\",\"y\":[0.03322086238854479,0.0016434348884792475,0.0024651523327188715,0.04292495411099368,0.020582065508097245,0.16058706624568647,0.16058706624568647,0.16058706624568647,0.16058706624568647,0.09758872885398198,0.04272930710046043,0.027625357887294016,0.0470335413321918,0.0842847321377214,0.0842847321377214,0.0842847321377214,0.5202645304100019,0.06675475999394277,0.2587627361312682,0.12161418174746431,0.17878223822527814,0.17878223822527814,0.17878223822527814,0.17878223822527814,0.0006651998358130287,0.07845445122383074,0.25226725538156447,0.20190771487030756,0.0814674151860427,0.11210573703554867,0.12791401548663475,0.5003085353356109,0.2880315289070414,0.16747384101645665,0.18559075419183502,0.2371241767662914,0.2192029106014463,0.23383730698933294,0.12431411049282307,0.18946456500039324,0.1408658475839355,0.3165568630427884,0.21497693517392824,0.2419370932254092,0.17987786148426432,0.8009006023188867,0.17690402692415902,0.24901951500671266,0.7134463886105267,0.457853134049897,0.4649746852333071,0.31460039293745595,0.24346313990756852,0.21012488931270382,0.321721944120866,0.8088438709465363,0.49682601854811914,0.31385693429742967,0.15550024397182213,0.23794589421053106,0.6003624165223118,0.23070695482080103,0.27496230860342075,0.26936680410217,0.4992129120766247,0.29018364602290714,0.2816534363636577,0.4433361258683303,0.2942531038419986,0.6368701486878151,0.5139646966708313,0.5139646966708313,0.5572418154007849,0.2576279834701754,0.29237489254087945,0.6598782371265245,0.9751047004976868,0.9751047004976868,0.37086847316681687,0.23219387210085368,0.3493081726060534,0.40792401696181324,0.35787751166740944,0.6453220995428512,0.2702276509485163,0.8902721567304723,0.23755460018946456,0.22871135531336195,0.31749596869334795,0.38953319797168834,0.30157030203594193,0.24209361083383582,0.3988459956730707,0.4342972339816945,0.8620598578115787,0.5678458833716866,0.3336564117633939,0.12971396798354062,0.12971396798354062,0.5530940987774801,0.4529619587865659,0.6061535680340958,0.6158967891586513,0.44153617337142453,0.3493081726060534,0.784583641640414,0.5348989267978884,0.32626095476523725,0.30407458377076746,1.2143809943798438,0.39751559600144465,0.925292971615923,0.5435073952613512,0.7008467211321857,0.3887114805274487,0.3146395223395626,0.617266318232384,0.7664275990629291,0.5797020922100012,0.704603143734424,1.265170958314274,0.614253354270172,0.7443586162747792,0.5266817523554922,0.8859287930966344,0.505982298641075,0.3859724223799833,0.945679390113487,0.5378336319558871,0.910697704630143,0.7174375876254049,0.7735491502463392,0.6617955778297503,0.751284520447656,0.4504185476496338,0.6138229308469989,0.610027378842654,1.2027595619541693,0.768657974983008,1.092727683230273,0.9718178307207284,0.6820646081209943,0.8516123074491033,0.5553636040996657,0.6330354672813634,0.7917834516280374,0.8122481289298147,0.38522896373995696,1.1237572991008455,0.6455177465533845,0.5113430267296859,0.7284329496173731,0.5890148899113836,1.1404655538003845,0.7601668947258653,0.7601668947258653,0.5050823223926221,0.7975354737377147,0.6767430094344902,0.9323362639951198,0.7386848529693151,0.4922087490995346,1.4822217517998548,1.124148593121912,0.853999200977609,1.1362004489707598,0.7190418931117775,0.5998146048928187,1.0875626021521954,0.7309763607543053,1.3495730786583153,0.44540998417998273,1.4042368534013037,1.4655134971003156,0.8489123787037447,0.9088586227311306,0.664495506575109,1.6667560121348104,0.599345052067539,0.5057083928263284,1.4437184201269124,1.152673927257659,0.9193061730936057,1.007856010060952,0.6698171052616133,1.1484088224280342,0.7607929651595717,0.7172419406148717,1.1275919805072971,0.6713822813458793],\"yaxis\":\"y\",\"type\":\"scatter\"}],                        {\"template\":{\"data\":{\"histogram2dcontour\":[{\"type\":\"histogram2dcontour\",\"colorbar\":{\"outlinewidth\":0,\"ticks\":\"\"},\"colorscale\":[[0.0,\"#0d0887\"],[0.1111111111111111,\"#46039f\"],[0.2222222222222222,\"#7201a8\"],[0.3333333333333333,\"#9c179e\"],[0.4444444444444444,\"#bd3786\"],[0.5555555555555556,\"#d8576b\"],[0.6666666666666666,\"#ed7953\"],[0.7777777777777778,\"#fb9f3a\"],[0.8888888888888888,\"#fdca26\"],[1.0,\"#f0f921\"]]}],\"choropleth\":[{\"type\":\"choropleth\",\"colorbar\":{\"outlinewidth\":0,\"ticks\":\"\"}}],\"histogram2d\":[{\"type\":\"histogram2d\",\"colorbar\":{\"outlinewidth\":0,\"ticks\":\"\"},\"colorscale\":[[0.0,\"#0d0887\"],[0.1111111111111111,\"#46039f\"],[0.2222222222222222,\"#7201a8\"],[0.3333333333333333,\"#9c179e\"],[0.4444444444444444,\"#bd3786\"],[0.5555555555555556,\"#d8576b\"],[0.6666666666666666,\"#ed7953\"],[0.7777777777777778,\"#fb9f3a\"],[0.8888888888888888,\"#fdca26\"],[1.0,\"#f0f921\"]]}],\"heatmap\":[{\"type\":\"heatmap\",\"colorbar\":{\"outlinewidth\":0,\"ticks\":\"\"},\"colorscale\":[[0.0,\"#0d0887\"],[0.1111111111111111,\"#46039f\"],[0.2222222222222222,\"#7201a8\"],[0.3333333333333333,\"#9c179e\"],[0.4444444444444444,\"#bd3786\"],[0.5555555555555556,\"#d8576b\"],[0.6666666666666666,\"#ed7953\"],[0.7777777777777778,\"#fb9f3a\"],[0.8888888888888888,\"#fdca26\"],[1.0,\"#f0f921\"]]}],\"heatmapgl\":[{\"type\":\"heatmapgl\",\"colorbar\":{\"outlinewidth\":0,\"ticks\":\"\"},\"colorscale\":[[0.0,\"#0d0887\"],[0.1111111111111111,\"#46039f\"],[0.2222222222222222,\"#7201a8\"],[0.3333333333333333,\"#9c179e\"],[0.4444444444444444,\"#bd3786\"],[0.5555555555555556,\"#d8576b\"],[0.6666666666666666,\"#ed7953\"],[0.7777777777777778,\"#fb9f3a\"],[0.8888888888888888,\"#fdca26\"],[1.0,\"#f0f921\"]]}],\"contourcarpet\":[{\"type\":\"contourcarpet\",\"colorbar\":{\"outlinewidth\":0,\"ticks\":\"\"}}],\"contour\":[{\"type\":\"contour\",\"colorbar\":{\"outlinewidth\":0,\"ticks\":\"\"},\"colorscale\":[[0.0,\"#0d0887\"],[0.1111111111111111,\"#46039f\"],[0.2222222222222222,\"#7201a8\"],[0.3333333333333333,\"#9c179e\"],[0.4444444444444444,\"#bd3786\"],[0.5555555555555556,\"#d8576b\"],[0.6666666666666666,\"#ed7953\"],[0.7777777777777778,\"#fb9f3a\"],[0.8888888888888888,\"#fdca26\"],[1.0,\"#f0f921\"]]}],\"surface\":[{\"type\":\"surface\",\"colorbar\":{\"outlinewidth\":0,\"ticks\":\"\"},\"colorscale\":[[0.0,\"#0d0887\"],[0.1111111111111111,\"#46039f\"],[0.2222222222222222,\"#7201a8\"],[0.3333333333333333,\"#9c179e\"],[0.4444444444444444,\"#bd3786\"],[0.5555555555555556,\"#d8576b\"],[0.6666666666666666,\"#ed7953\"],[0.7777777777777778,\"#fb9f3a\"],[0.8888888888888888,\"#fdca26\"],[1.0,\"#f0f921\"]]}],\"mesh3d\":[{\"type\":\"mesh3d\",\"colorbar\":{\"outlinewidth\":0,\"ticks\":\"\"}}],\"scatter\":[{\"fillpattern\":{\"fillmode\":\"overlay\",\"size\":10,\"solidity\":0.2},\"type\":\"scatter\"}],\"parcoords\":[{\"type\":\"parcoords\",\"line\":{\"colorbar\":{\"outlinewidth\":0,\"ticks\":\"\"}}}],\"scatterpolargl\":[{\"type\":\"scatterpolargl\",\"marker\":{\"colorbar\":{\"outlinewidth\":0,\"ticks\":\"\"}}}],\"bar\":[{\"error_x\":{\"color\":\"#2a3f5f\"},\"error_y\":{\"color\":\"#2a3f5f\"},\"marker\":{\"line\":{\"color\":\"#E5ECF6\",\"width\":0.5},\"pattern\":{\"fillmode\":\"overlay\",\"size\":10,\"solidity\":0.2}},\"type\":\"bar\"}],\"scattergeo\":[{\"type\":\"scattergeo\",\"marker\":{\"colorbar\":{\"outlinewidth\":0,\"ticks\":\"\"}}}],\"scatterpolar\":[{\"type\":\"scatterpolar\",\"marker\":{\"colorbar\":{\"outlinewidth\":0,\"ticks\":\"\"}}}],\"histogram\":[{\"marker\":{\"pattern\":{\"fillmode\":\"overlay\",\"size\":10,\"solidity\":0.2}},\"type\":\"histogram\"}],\"scattergl\":[{\"type\":\"scattergl\",\"marker\":{\"colorbar\":{\"outlinewidth\":0,\"ticks\":\"\"}}}],\"scatter3d\":[{\"type\":\"scatter3d\",\"line\":{\"colorbar\":{\"outlinewidth\":0,\"ticks\":\"\"}},\"marker\":{\"colorbar\":{\"outlinewidth\":0,\"ticks\":\"\"}}}],\"scattermapbox\":[{\"type\":\"scattermapbox\",\"marker\":{\"colorbar\":{\"outlinewidth\":0,\"ticks\":\"\"}}}],\"scatterternary\":[{\"type\":\"scatterternary\",\"marker\":{\"colorbar\":{\"outlinewidth\":0,\"ticks\":\"\"}}}],\"scattercarpet\":[{\"type\":\"scattercarpet\",\"marker\":{\"colorbar\":{\"outlinewidth\":0,\"ticks\":\"\"}}}],\"carpet\":[{\"aaxis\":{\"endlinecolor\":\"#2a3f5f\",\"gridcolor\":\"white\",\"linecolor\":\"white\",\"minorgridcolor\":\"white\",\"startlinecolor\":\"#2a3f5f\"},\"baxis\":{\"endlinecolor\":\"#2a3f5f\",\"gridcolor\":\"white\",\"linecolor\":\"white\",\"minorgridcolor\":\"white\",\"startlinecolor\":\"#2a3f5f\"},\"type\":\"carpet\"}],\"table\":[{\"cells\":{\"fill\":{\"color\":\"#EBF0F8\"},\"line\":{\"color\":\"white\"}},\"header\":{\"fill\":{\"color\":\"#C8D4E3\"},\"line\":{\"color\":\"white\"}},\"type\":\"table\"}],\"barpolar\":[{\"marker\":{\"line\":{\"color\":\"#E5ECF6\",\"width\":0.5},\"pattern\":{\"fillmode\":\"overlay\",\"size\":10,\"solidity\":0.2}},\"type\":\"barpolar\"}],\"pie\":[{\"automargin\":true,\"type\":\"pie\"}]},\"layout\":{\"autotypenumbers\":\"strict\",\"colorway\":[\"#636efa\",\"#EF553B\",\"#00cc96\",\"#ab63fa\",\"#FFA15A\",\"#19d3f3\",\"#FF6692\",\"#B6E880\",\"#FF97FF\",\"#FECB52\"],\"font\":{\"color\":\"#2a3f5f\"},\"hovermode\":\"closest\",\"hoverlabel\":{\"align\":\"left\"},\"paper_bgcolor\":\"white\",\"plot_bgcolor\":\"#E5ECF6\",\"polar\":{\"bgcolor\":\"#E5ECF6\",\"angularaxis\":{\"gridcolor\":\"white\",\"linecolor\":\"white\",\"ticks\":\"\"},\"radialaxis\":{\"gridcolor\":\"white\",\"linecolor\":\"white\",\"ticks\":\"\"}},\"ternary\":{\"bgcolor\":\"#E5ECF6\",\"aaxis\":{\"gridcolor\":\"white\",\"linecolor\":\"white\",\"ticks\":\"\"},\"baxis\":{\"gridcolor\":\"white\",\"linecolor\":\"white\",\"ticks\":\"\"},\"caxis\":{\"gridcolor\":\"white\",\"linecolor\":\"white\",\"ticks\":\"\"}},\"coloraxis\":{\"colorbar\":{\"outlinewidth\":0,\"ticks\":\"\"}},\"colorscale\":{\"sequential\":[[0.0,\"#0d0887\"],[0.1111111111111111,\"#46039f\"],[0.2222222222222222,\"#7201a8\"],[0.3333333333333333,\"#9c179e\"],[0.4444444444444444,\"#bd3786\"],[0.5555555555555556,\"#d8576b\"],[0.6666666666666666,\"#ed7953\"],[0.7777777777777778,\"#fb9f3a\"],[0.8888888888888888,\"#fdca26\"],[1.0,\"#f0f921\"]],\"sequentialminus\":[[0.0,\"#0d0887\"],[0.1111111111111111,\"#46039f\"],[0.2222222222222222,\"#7201a8\"],[0.3333333333333333,\"#9c179e\"],[0.4444444444444444,\"#bd3786\"],[0.5555555555555556,\"#d8576b\"],[0.6666666666666666,\"#ed7953\"],[0.7777777777777778,\"#fb9f3a\"],[0.8888888888888888,\"#fdca26\"],[1.0,\"#f0f921\"]],\"diverging\":[[0,\"#8e0152\"],[0.1,\"#c51b7d\"],[0.2,\"#de77ae\"],[0.3,\"#f1b6da\"],[0.4,\"#fde0ef\"],[0.5,\"#f7f7f7\"],[0.6,\"#e6f5d0\"],[0.7,\"#b8e186\"],[0.8,\"#7fbc41\"],[0.9,\"#4d9221\"],[1,\"#276419\"]]},\"xaxis\":{\"gridcolor\":\"white\",\"linecolor\":\"white\",\"ticks\":\"\",\"title\":{\"standoff\":15},\"zerolinecolor\":\"white\",\"automargin\":true,\"zerolinewidth\":2},\"yaxis\":{\"gridcolor\":\"white\",\"linecolor\":\"white\",\"ticks\":\"\",\"title\":{\"standoff\":15},\"zerolinecolor\":\"white\",\"automargin\":true,\"zerolinewidth\":2},\"scene\":{\"xaxis\":{\"backgroundcolor\":\"#E5ECF6\",\"gridcolor\":\"white\",\"linecolor\":\"white\",\"showbackground\":true,\"ticks\":\"\",\"zerolinecolor\":\"white\",\"gridwidth\":2},\"yaxis\":{\"backgroundcolor\":\"#E5ECF6\",\"gridcolor\":\"white\",\"linecolor\":\"white\",\"showbackground\":true,\"ticks\":\"\",\"zerolinecolor\":\"white\",\"gridwidth\":2},\"zaxis\":{\"backgroundcolor\":\"#E5ECF6\",\"gridcolor\":\"white\",\"linecolor\":\"white\",\"showbackground\":true,\"ticks\":\"\",\"zerolinecolor\":\"white\",\"gridwidth\":2}},\"shapedefaults\":{\"line\":{\"color\":\"#2a3f5f\"}},\"annotationdefaults\":{\"arrowcolor\":\"#2a3f5f\",\"arrowhead\":0,\"arrowwidth\":1},\"geo\":{\"bgcolor\":\"white\",\"landcolor\":\"#E5ECF6\",\"subunitcolor\":\"white\",\"showland\":true,\"showlakes\":true,\"lakecolor\":\"white\"},\"title\":{\"x\":0.05},\"mapbox\":{\"style\":\"light\"}}},\"xaxis\":{\"anchor\":\"y\",\"domain\":[0.0,1.0],\"title\":{\"text\":\"zip_code\"}},\"yaxis\":{\"anchor\":\"x\",\"domain\":[0.0,1.0],\"title\":{\"text\":\"value\"}},\"legend\":{\"title\":{\"text\":\"variable\"},\"tracegroupgap\":0},\"title\":{\"text\":\"Relation between Population and Incidents Percentages\"}},                        {\"responsive\": true}                    ).then(function(){\n",
       "                            \n",
       "var gd = document.getElementById('c615b600-501e-4332-9da4-13f6a650f8ad');\n",
       "var x = new MutationObserver(function (mutations, observer) {{\n",
       "        var display = window.getComputedStyle(gd).display;\n",
       "        if (!display || display === 'none') {{\n",
       "            console.log([gd, 'removed!']);\n",
       "            Plotly.purge(gd);\n",
       "            observer.disconnect();\n",
       "        }}\n",
       "}});\n",
       "\n",
       "// Listen for the removal of the full notebook cells\n",
       "var notebookContainer = gd.closest('#notebook-container');\n",
       "if (notebookContainer) {{\n",
       "    x.observe(notebookContainer, {childList: true});\n",
       "}}\n",
       "\n",
       "// Listen for the clearing of the current output cell\n",
       "var outputEl = gd.closest('.output');\n",
       "if (outputEl) {{\n",
       "    x.observe(outputEl, {childList: true});\n",
       "}}\n",
       "\n",
       "                        })                };                            </script>        </div>\n",
       "</body>\n",
       "</html>"
      ]
     },
     "metadata": {},
     "output_type": "display_data"
    }
   ],
   "source": [
    "nyc_incidents_zipGeo_df['POPULATION_PCT']=(nyc_incidents_zipGeo_df['POPULATION']/np.sum(nyc_incidents_zipGeo_df['POPULATION']))*100\n",
    "nyc_incidents_zipGeo_df['Incidents_count_PCT']=(nyc_incidents_zipGeo_df['Incidents_count']/np.sum(nyc_incidents_zipGeo_df['Incidents_count']))*100\n",
    "\n",
    "nyc_incidents_zipGeo_sorted_df=nyc_incidents_zipGeo_df.sort_values(\"POPULATION\")\n",
    "fig = px.line(nyc_incidents_zipGeo_sorted_df, x=\"zip_code\", y=['POPULATION_PCT','Incidents_count_PCT'], title='Relation between Population and Incidents Percentages' , )\n",
    "fig.update_yaxes()\n",
    "fig.show()"
   ]
  },
  {
   "cell_type": "markdown",
   "metadata": {
    "id": "gmzoAaFftSQX"
   },
   "source": [
    "Looks like there is a direct correlation with the percentage of incidents and percentage of population in any given zipcode."
   ]
  },
  {
   "cell_type": "markdown",
   "metadata": {
    "id": "0msmgTMi-T7b"
   },
   "source": [
    "## Questions and Answers"
   ]
  },
  {
   "cell_type": "markdown",
   "metadata": {
    "id": "_WcW7-XaT0zJ"
   },
   "source": [
    "**1. How many times false alarm, incident report but fire unit did not arrive or prank calls?**"
   ]
  },
  {
   "cell_type": "code",
   "execution_count": 166,
   "metadata": {
    "colab": {
     "base_uri": "https://localhost:8080/",
     "height": 534,
     "output_embedded_package_id": "16VHVH6HIEaoDZUex-2pXmei5agCGL52C"
    },
    "executionInfo": {
     "elapsed": 9706,
     "status": "ok",
     "timestamp": 1655233751132,
     "user": {
      "displayName": "praveen N",
      "userId": "01719520328156978713"
     },
     "user_tz": 240
    },
    "id": "IpGWurVsTzGi",
    "outputId": "e6b787ed-42a9-4b6a-eb7b-2970af30ee02"
   },
   "outputs": [
    {
     "data": {
      "text/plain": [
       "Output hidden; open in https://colab.research.google.com to view."
      ]
     },
     "metadata": {},
     "output_type": "display_data"
    }
   ],
   "source": [
    "print(\"Total False alarm: \" ,nyc_fire_df[nyc_fire_df.ARRIVAL_DATE_TIME.isnull()]['IM_INCIDENT_KEY'].count()+nyc_fire_df.INCIDENT_TYPE_DESC.str.contains('False alarm').sum()+nyc_fire_df.INCIDENT_TYPE_DESC.str.contains('mischievous false').sum())\n",
    "\n",
    "false_alarm_df1=nyc_fire_df[nyc_fire_df.ARRIVAL_DATE_TIME.isnull()][['IM_INCIDENT_KEY',]]\n",
    "false_alarm_df1.loc[nyc_fire_df.ARRIVAL_DATE_TIME.isnull(),'INCIDENT_TYPE_DESC']=\"Missing Arrival TIme\"\n",
    "false_alarm_df2=nyc_fire_df[nyc_fire_df.INCIDENT_TYPE_DESC.str.contains('False alarm')][['IM_INCIDENT_KEY','INCIDENT_TYPE_DESC']]\n",
    "false_alarm_df3=nyc_fire_df[nyc_fire_df.INCIDENT_TYPE_DESC.str.contains('mischievous false')][['IM_INCIDENT_KEY','INCIDENT_TYPE_DESC']]\n",
    "false_alarm_df=pd.concat([false_alarm_df1,false_alarm_df2,false_alarm_df3],axis=0)\n",
    "false_alarm_df['INCIDENT_TYPE']='False Alarms'\n",
    "\n",
    "\n",
    "false_alarm_s=false_alarm_df.INCIDENT_TYPE_DESC.value_counts()\n",
    "fig3 = px.histogram(false_alarm_df,x='INCIDENT_TYPE', color=\"INCIDENT_TYPE_DESC\", barmode='stack' ,\n",
    "        )\n",
    "fig3.update_layout(title=\"False Incidents reported\",\n",
    "                   autosize=False,\n",
    "                   width=700,height=500,\n",
    "                   xaxis_title=\"\",\n",
    "                   yaxis_title=\"Number of Incidents\",\n",
    "                   font=dict(\n",
    "                        family=\"New Courier\",\n",
    "                        size=14,\n",
    "                        color='black'\n",
    "                           ))\n",
    "\n"
   ]
  },
  {
   "cell_type": "markdown",
   "metadata": {
    "id": "JD0aqLpjoZRn"
   },
   "source": [
    "![](https://i.imgur.com/FrV3joP.png)"
   ]
  },
  {
   "cell_type": "code",
   "execution_count": 167,
   "metadata": {
    "colab": {
     "base_uri": "https://localhost:8080/"
    },
    "executionInfo": {
     "elapsed": 2329,
     "status": "ok",
     "timestamp": 1655233820088,
     "user": {
      "displayName": "praveen N",
      "userId": "01719520328156978713"
     },
     "user_tz": 240
    },
    "id": "JYGr2T98XXHu",
    "outputId": "918bf591-2d64-45f3-ef7a-8f10a2142abd"
   },
   "outputs": [
    {
     "name": "stdout",
     "output_type": "stream",
     "text": [
      "Total Percentage of False Alarms:  7.68\n"
     ]
    }
   ],
   "source": [
    "total_false_incidents=nyc_fire_df[nyc_fire_df.ARRIVAL_DATE_TIME.isnull()]['IM_INCIDENT_KEY'].count()+nyc_fire_df.INCIDENT_TYPE_DESC.str.contains('False alarm').sum()+nyc_fire_df.INCIDENT_TYPE_DESC.str.contains('mischievous false').sum()\n",
    "total_incidents=nyc_fire_df['IM_INCIDENT_KEY'].count()\n",
    "print(\"Total Percentage of False Alarms: \", round((total_false_incidents/total_incidents)*100,2))\n",
    "\n"
   ]
  },
  {
   "cell_type": "markdown",
   "metadata": {
    "id": "ZWBVa28hV2p7"
   },
   "source": [
    "A total of 193,515 incidents which amounts to 7.7% false alarms. This includes the incident reported and units not arrived and also incident type enetered as false or mischievous alarms."
   ]
  },
  {
   "cell_type": "markdown",
   "metadata": {
    "id": "L-w-89tYRLXj"
   },
   "source": [
    "**2. Which area of the city has more number of incidents and compare it with its Population?**"
   ]
  },
  {
   "cell_type": "code",
   "execution_count": 148,
   "metadata": {
    "executionInfo": {
     "elapsed": 126,
     "status": "ok",
     "timestamp": 1655233477044,
     "user": {
      "displayName": "praveen N",
      "userId": "01719520328156978713"
     },
     "user_tz": 240
    },
    "id": "2XJF82ljYPpj"
   },
   "outputs": [],
   "source": [
    "top_5_incidents_cities_df=nyc_incidents_zipGeo_df.groupby('PO_NAME').sum('POPULATION').sort_values('POPULATION',ascending=False).head(5)"
   ]
  },
  {
   "cell_type": "code",
   "execution_count": 149,
   "metadata": {
    "colab": {
     "base_uri": "https://localhost:8080/",
     "height": 717
    },
    "executionInfo": {
     "elapsed": 127,
     "status": "ok",
     "timestamp": 1655233479701,
     "user": {
      "displayName": "praveen N",
      "userId": "01719520328156978713"
     },
     "user_tz": 240
    },
    "id": "GSsWxqfhuQw-",
    "outputId": "d05cef65-3870-48b0-d796-b982c04b5997"
   },
   "outputs": [
    {
     "data": {
      "text/html": [
       "<html>\n",
       "<head><meta charset=\"utf-8\" /></head>\n",
       "<body>\n",
       "    <div>            <script src=\"https://cdnjs.cloudflare.com/ajax/libs/mathjax/2.7.5/MathJax.js?config=TeX-AMS-MML_SVG\"></script><script type=\"text/javascript\">if (window.MathJax && window.MathJax.Hub && window.MathJax.Hub.Config) {window.MathJax.Hub.Config({SVG: {font: \"STIX-Web\"}});}</script>                <script type=\"text/javascript\">window.PlotlyConfig = {MathJaxConfig: 'local'};</script>\n",
       "        <script src=\"https://cdn.plot.ly/plotly-2.12.1.min.js\"></script>                <div id=\"68f3789d-c352-499f-a697-2da61cdb381d\" class=\"plotly-graph-div\" style=\"height:700px; width:1400px;\"></div>            <script type=\"text/javascript\">                                    window.PLOTLYENV=window.PLOTLYENV || {};                                    if (document.getElementById(\"68f3789d-c352-499f-a697-2da61cdb381d\")) {                    Plotly.newPlot(                        \"68f3789d-c352-499f-a697-2da61cdb381d\",                        [{\"alignmentgroup\":\"True\",\"hovertemplate\":\"variable=POPULATION_PCT<br>PO_NAME=%{x}<br>value=%{y}<extra></extra>\",\"legendgroup\":\"POPULATION_PCT\",\"marker\":{\"color\":\"#636efa\",\"pattern\":{\"shape\":\"\"}},\"name\":\"POPULATION_PCT\",\"offsetgroup\":\"POPULATION_PCT\",\"orientation\":\"v\",\"showlegend\":true,\"textposition\":\"auto\",\"x\":[\"Brooklyn\",\"New York\",\"Bronx\",\"Staten Island\",\"Jamaica\"],\"xaxis\":\"x\",\"y\":[30.276767324064515,18.630066477390848,18.12170995915701,5.649317375155961,2.724925106306273],\"yaxis\":\"y\",\"type\":\"bar\"},{\"alignmentgroup\":\"True\",\"hovertemplate\":\"variable=Incidents_count_PCT<br>PO_NAME=%{x}<br>value=%{y}<extra></extra>\",\"legendgroup\":\"Incidents_count_PCT\",\"marker\":{\"color\":\"#EF553B\",\"pattern\":{\"shape\":\"\"}},\"name\":\"Incidents_count_PCT\",\"offsetgroup\":\"Incidents_count_PCT\",\"orientation\":\"v\",\"showlegend\":true,\"textposition\":\"auto\",\"x\":[\"Brooklyn\",\"New York\",\"Bronx\",\"Staten Island\",\"Jamaica\"],\"xaxis\":\"x\",\"y\":[28.882781223991174,25.545551906521425,20.48439852043905,4.940478309985472,2.794582769054747],\"yaxis\":\"y\",\"type\":\"bar\"}],                        {\"template\":{\"data\":{\"histogram2dcontour\":[{\"type\":\"histogram2dcontour\",\"colorbar\":{\"outlinewidth\":0,\"ticks\":\"\"},\"colorscale\":[[0.0,\"#0d0887\"],[0.1111111111111111,\"#46039f\"],[0.2222222222222222,\"#7201a8\"],[0.3333333333333333,\"#9c179e\"],[0.4444444444444444,\"#bd3786\"],[0.5555555555555556,\"#d8576b\"],[0.6666666666666666,\"#ed7953\"],[0.7777777777777778,\"#fb9f3a\"],[0.8888888888888888,\"#fdca26\"],[1.0,\"#f0f921\"]]}],\"choropleth\":[{\"type\":\"choropleth\",\"colorbar\":{\"outlinewidth\":0,\"ticks\":\"\"}}],\"histogram2d\":[{\"type\":\"histogram2d\",\"colorbar\":{\"outlinewidth\":0,\"ticks\":\"\"},\"colorscale\":[[0.0,\"#0d0887\"],[0.1111111111111111,\"#46039f\"],[0.2222222222222222,\"#7201a8\"],[0.3333333333333333,\"#9c179e\"],[0.4444444444444444,\"#bd3786\"],[0.5555555555555556,\"#d8576b\"],[0.6666666666666666,\"#ed7953\"],[0.7777777777777778,\"#fb9f3a\"],[0.8888888888888888,\"#fdca26\"],[1.0,\"#f0f921\"]]}],\"heatmap\":[{\"type\":\"heatmap\",\"colorbar\":{\"outlinewidth\":0,\"ticks\":\"\"},\"colorscale\":[[0.0,\"#0d0887\"],[0.1111111111111111,\"#46039f\"],[0.2222222222222222,\"#7201a8\"],[0.3333333333333333,\"#9c179e\"],[0.4444444444444444,\"#bd3786\"],[0.5555555555555556,\"#d8576b\"],[0.6666666666666666,\"#ed7953\"],[0.7777777777777778,\"#fb9f3a\"],[0.8888888888888888,\"#fdca26\"],[1.0,\"#f0f921\"]]}],\"heatmapgl\":[{\"type\":\"heatmapgl\",\"colorbar\":{\"outlinewidth\":0,\"ticks\":\"\"},\"colorscale\":[[0.0,\"#0d0887\"],[0.1111111111111111,\"#46039f\"],[0.2222222222222222,\"#7201a8\"],[0.3333333333333333,\"#9c179e\"],[0.4444444444444444,\"#bd3786\"],[0.5555555555555556,\"#d8576b\"],[0.6666666666666666,\"#ed7953\"],[0.7777777777777778,\"#fb9f3a\"],[0.8888888888888888,\"#fdca26\"],[1.0,\"#f0f921\"]]}],\"contourcarpet\":[{\"type\":\"contourcarpet\",\"colorbar\":{\"outlinewidth\":0,\"ticks\":\"\"}}],\"contour\":[{\"type\":\"contour\",\"colorbar\":{\"outlinewidth\":0,\"ticks\":\"\"},\"colorscale\":[[0.0,\"#0d0887\"],[0.1111111111111111,\"#46039f\"],[0.2222222222222222,\"#7201a8\"],[0.3333333333333333,\"#9c179e\"],[0.4444444444444444,\"#bd3786\"],[0.5555555555555556,\"#d8576b\"],[0.6666666666666666,\"#ed7953\"],[0.7777777777777778,\"#fb9f3a\"],[0.8888888888888888,\"#fdca26\"],[1.0,\"#f0f921\"]]}],\"surface\":[{\"type\":\"surface\",\"colorbar\":{\"outlinewidth\":0,\"ticks\":\"\"},\"colorscale\":[[0.0,\"#0d0887\"],[0.1111111111111111,\"#46039f\"],[0.2222222222222222,\"#7201a8\"],[0.3333333333333333,\"#9c179e\"],[0.4444444444444444,\"#bd3786\"],[0.5555555555555556,\"#d8576b\"],[0.6666666666666666,\"#ed7953\"],[0.7777777777777778,\"#fb9f3a\"],[0.8888888888888888,\"#fdca26\"],[1.0,\"#f0f921\"]]}],\"mesh3d\":[{\"type\":\"mesh3d\",\"colorbar\":{\"outlinewidth\":0,\"ticks\":\"\"}}],\"scatter\":[{\"fillpattern\":{\"fillmode\":\"overlay\",\"size\":10,\"solidity\":0.2},\"type\":\"scatter\"}],\"parcoords\":[{\"type\":\"parcoords\",\"line\":{\"colorbar\":{\"outlinewidth\":0,\"ticks\":\"\"}}}],\"scatterpolargl\":[{\"type\":\"scatterpolargl\",\"marker\":{\"colorbar\":{\"outlinewidth\":0,\"ticks\":\"\"}}}],\"bar\":[{\"error_x\":{\"color\":\"#2a3f5f\"},\"error_y\":{\"color\":\"#2a3f5f\"},\"marker\":{\"line\":{\"color\":\"#E5ECF6\",\"width\":0.5},\"pattern\":{\"fillmode\":\"overlay\",\"size\":10,\"solidity\":0.2}},\"type\":\"bar\"}],\"scattergeo\":[{\"type\":\"scattergeo\",\"marker\":{\"colorbar\":{\"outlinewidth\":0,\"ticks\":\"\"}}}],\"scatterpolar\":[{\"type\":\"scatterpolar\",\"marker\":{\"colorbar\":{\"outlinewidth\":0,\"ticks\":\"\"}}}],\"histogram\":[{\"marker\":{\"pattern\":{\"fillmode\":\"overlay\",\"size\":10,\"solidity\":0.2}},\"type\":\"histogram\"}],\"scattergl\":[{\"type\":\"scattergl\",\"marker\":{\"colorbar\":{\"outlinewidth\":0,\"ticks\":\"\"}}}],\"scatter3d\":[{\"type\":\"scatter3d\",\"line\":{\"colorbar\":{\"outlinewidth\":0,\"ticks\":\"\"}},\"marker\":{\"colorbar\":{\"outlinewidth\":0,\"ticks\":\"\"}}}],\"scattermapbox\":[{\"type\":\"scattermapbox\",\"marker\":{\"colorbar\":{\"outlinewidth\":0,\"ticks\":\"\"}}}],\"scatterternary\":[{\"type\":\"scatterternary\",\"marker\":{\"colorbar\":{\"outlinewidth\":0,\"ticks\":\"\"}}}],\"scattercarpet\":[{\"type\":\"scattercarpet\",\"marker\":{\"colorbar\":{\"outlinewidth\":0,\"ticks\":\"\"}}}],\"carpet\":[{\"aaxis\":{\"endlinecolor\":\"#2a3f5f\",\"gridcolor\":\"white\",\"linecolor\":\"white\",\"minorgridcolor\":\"white\",\"startlinecolor\":\"#2a3f5f\"},\"baxis\":{\"endlinecolor\":\"#2a3f5f\",\"gridcolor\":\"white\",\"linecolor\":\"white\",\"minorgridcolor\":\"white\",\"startlinecolor\":\"#2a3f5f\"},\"type\":\"carpet\"}],\"table\":[{\"cells\":{\"fill\":{\"color\":\"#EBF0F8\"},\"line\":{\"color\":\"white\"}},\"header\":{\"fill\":{\"color\":\"#C8D4E3\"},\"line\":{\"color\":\"white\"}},\"type\":\"table\"}],\"barpolar\":[{\"marker\":{\"line\":{\"color\":\"#E5ECF6\",\"width\":0.5},\"pattern\":{\"fillmode\":\"overlay\",\"size\":10,\"solidity\":0.2}},\"type\":\"barpolar\"}],\"pie\":[{\"automargin\":true,\"type\":\"pie\"}]},\"layout\":{\"autotypenumbers\":\"strict\",\"colorway\":[\"#636efa\",\"#EF553B\",\"#00cc96\",\"#ab63fa\",\"#FFA15A\",\"#19d3f3\",\"#FF6692\",\"#B6E880\",\"#FF97FF\",\"#FECB52\"],\"font\":{\"color\":\"#2a3f5f\"},\"hovermode\":\"closest\",\"hoverlabel\":{\"align\":\"left\"},\"paper_bgcolor\":\"white\",\"plot_bgcolor\":\"#E5ECF6\",\"polar\":{\"bgcolor\":\"#E5ECF6\",\"angularaxis\":{\"gridcolor\":\"white\",\"linecolor\":\"white\",\"ticks\":\"\"},\"radialaxis\":{\"gridcolor\":\"white\",\"linecolor\":\"white\",\"ticks\":\"\"}},\"ternary\":{\"bgcolor\":\"#E5ECF6\",\"aaxis\":{\"gridcolor\":\"white\",\"linecolor\":\"white\",\"ticks\":\"\"},\"baxis\":{\"gridcolor\":\"white\",\"linecolor\":\"white\",\"ticks\":\"\"},\"caxis\":{\"gridcolor\":\"white\",\"linecolor\":\"white\",\"ticks\":\"\"}},\"coloraxis\":{\"colorbar\":{\"outlinewidth\":0,\"ticks\":\"\"}},\"colorscale\":{\"sequential\":[[0.0,\"#0d0887\"],[0.1111111111111111,\"#46039f\"],[0.2222222222222222,\"#7201a8\"],[0.3333333333333333,\"#9c179e\"],[0.4444444444444444,\"#bd3786\"],[0.5555555555555556,\"#d8576b\"],[0.6666666666666666,\"#ed7953\"],[0.7777777777777778,\"#fb9f3a\"],[0.8888888888888888,\"#fdca26\"],[1.0,\"#f0f921\"]],\"sequentialminus\":[[0.0,\"#0d0887\"],[0.1111111111111111,\"#46039f\"],[0.2222222222222222,\"#7201a8\"],[0.3333333333333333,\"#9c179e\"],[0.4444444444444444,\"#bd3786\"],[0.5555555555555556,\"#d8576b\"],[0.6666666666666666,\"#ed7953\"],[0.7777777777777778,\"#fb9f3a\"],[0.8888888888888888,\"#fdca26\"],[1.0,\"#f0f921\"]],\"diverging\":[[0,\"#8e0152\"],[0.1,\"#c51b7d\"],[0.2,\"#de77ae\"],[0.3,\"#f1b6da\"],[0.4,\"#fde0ef\"],[0.5,\"#f7f7f7\"],[0.6,\"#e6f5d0\"],[0.7,\"#b8e186\"],[0.8,\"#7fbc41\"],[0.9,\"#4d9221\"],[1,\"#276419\"]]},\"xaxis\":{\"gridcolor\":\"white\",\"linecolor\":\"white\",\"ticks\":\"\",\"title\":{\"standoff\":15},\"zerolinecolor\":\"white\",\"automargin\":true,\"zerolinewidth\":2},\"yaxis\":{\"gridcolor\":\"white\",\"linecolor\":\"white\",\"ticks\":\"\",\"title\":{\"standoff\":15},\"zerolinecolor\":\"white\",\"automargin\":true,\"zerolinewidth\":2},\"scene\":{\"xaxis\":{\"backgroundcolor\":\"#E5ECF6\",\"gridcolor\":\"white\",\"linecolor\":\"white\",\"showbackground\":true,\"ticks\":\"\",\"zerolinecolor\":\"white\",\"gridwidth\":2},\"yaxis\":{\"backgroundcolor\":\"#E5ECF6\",\"gridcolor\":\"white\",\"linecolor\":\"white\",\"showbackground\":true,\"ticks\":\"\",\"zerolinecolor\":\"white\",\"gridwidth\":2},\"zaxis\":{\"backgroundcolor\":\"#E5ECF6\",\"gridcolor\":\"white\",\"linecolor\":\"white\",\"showbackground\":true,\"ticks\":\"\",\"zerolinecolor\":\"white\",\"gridwidth\":2}},\"shapedefaults\":{\"line\":{\"color\":\"#2a3f5f\"}},\"annotationdefaults\":{\"arrowcolor\":\"#2a3f5f\",\"arrowhead\":0,\"arrowwidth\":1},\"geo\":{\"bgcolor\":\"white\",\"landcolor\":\"#E5ECF6\",\"subunitcolor\":\"white\",\"showland\":true,\"showlakes\":true,\"lakecolor\":\"white\"},\"title\":{\"x\":0.05},\"mapbox\":{\"style\":\"light\"}}},\"xaxis\":{\"anchor\":\"y\",\"domain\":[0.0,1.0],\"title\":{\"text\":\" Burough Name\"}},\"yaxis\":{\"anchor\":\"x\",\"domain\":[0.0,1.0],\"title\":{\"text\":\"Percentage of Poplulation and Incidents (%)\"}},\"legend\":{\"title\":{\"text\":\"variable\"},\"tracegroupgap\":0},\"margin\":{\"t\":60},\"barmode\":\"group\",\"title\":{\"text\":\" Comparision of Population and incidents for top % burougs in New York City\"},\"height\":700,\"width\":1400},                        {\"responsive\": true}                    ).then(function(){\n",
       "                            \n",
       "var gd = document.getElementById('68f3789d-c352-499f-a697-2da61cdb381d');\n",
       "var x = new MutationObserver(function (mutations, observer) {{\n",
       "        var display = window.getComputedStyle(gd).display;\n",
       "        if (!display || display === 'none') {{\n",
       "            console.log([gd, 'removed!']);\n",
       "            Plotly.purge(gd);\n",
       "            observer.disconnect();\n",
       "        }}\n",
       "}});\n",
       "\n",
       "// Listen for the removal of the full notebook cells\n",
       "var notebookContainer = gd.closest('#notebook-container');\n",
       "if (notebookContainer) {{\n",
       "    x.observe(notebookContainer, {childList: true});\n",
       "}}\n",
       "\n",
       "// Listen for the clearing of the current output cell\n",
       "var outputEl = gd.closest('.output');\n",
       "if (outputEl) {{\n",
       "    x.observe(outputEl, {childList: true});\n",
       "}}\n",
       "\n",
       "                        })                };                            </script>        </div>\n",
       "</body>\n",
       "</html>"
      ]
     },
     "metadata": {},
     "output_type": "display_data"
    }
   ],
   "source": [
    "top_5_incidents_cities_df.reset_index(inplace=True)\n",
    "fig4=px.bar(top_5_incidents_cities_df,x='PO_NAME',y=['POPULATION_PCT'\t,'Incidents_count_PCT'],barmode='group')\n",
    "fig4.update_layout(title=\" Comparision of Population and incidents for top % burougs in New York City\",\n",
    "                   xaxis_title=\" Burough Name\", \n",
    "                   yaxis_title=\"Percentage of Poplulation and Incidents (%)\",\n",
    "                   height=700,width=1400, )\n",
    "fig4.show()"
   ]
  },
  {
   "cell_type": "markdown",
   "metadata": {
    "id": "D3yZScOZf4V5"
   },
   "source": [
    "Brooklyn, New york and Bronx has heightest population percentage and also number of incidents. Interestingly, New York accounts for 18% of the population, but has 25% of incidents. This colud be because of the population density as well as the demography(age) of the population."
   ]
  },
  {
   "cell_type": "markdown",
   "metadata": {
    "id": "MY8-XiOfiTUb"
   },
   "source": [
    "**3. How is the response time of the on-scene units? This will help in resource planning.**"
   ]
  },
  {
   "cell_type": "code",
   "execution_count": 150,
   "metadata": {
    "colab": {
     "base_uri": "https://localhost:8080/"
    },
    "executionInfo": {
     "elapsed": 271,
     "status": "ok",
     "timestamp": 1655233483266,
     "user": {
      "displayName": "praveen N",
      "userId": "01719520328156978713"
     },
     "user_tz": 240
    },
    "id": "5aD0362xiex2",
    "outputId": "b69d45ba-1847-4e5f-c189-759b6be2f29e"
   },
   "outputs": [
    {
     "data": {
      "text/plain": [
       "count    2456432.00\n",
       "mean           5.12\n",
       "std            5.70\n",
       "min            0.07\n",
       "25%            3.65\n",
       "50%            4.58\n",
       "75%            5.78\n",
       "max         1434.92\n",
       "Name: response_time, dtype: float64"
      ]
     },
     "execution_count": 150,
     "metadata": {},
     "output_type": "execute_result"
    }
   ],
   "source": [
    "nyc_fire_df.response_time.describe().round(2)"
   ]
  },
  {
   "cell_type": "code",
   "execution_count": 151,
   "metadata": {
    "colab": {
     "base_uri": "https://localhost:8080/",
     "height": 414
    },
    "executionInfo": {
     "elapsed": 3022,
     "status": "ok",
     "timestamp": 1655233488975,
     "user": {
      "displayName": "praveen N",
      "userId": "01719520328156978713"
     },
     "user_tz": 240
    },
    "id": "0p48whOF0yJH",
    "outputId": "8b9e9e83-d583-4e9b-9256-16aad7a22d4a"
   },
   "outputs": [
    {
     "data": {
      "image/png": "[encoded data removed]",
      "text/plain": [
       "<Figure size 864x432 with 1 Axes>"
      ]
     },
     "metadata": {
      "needs_background": "light"
     },
     "output_type": "display_data"
    }
   ],
   "source": [
    "plt.figure(figsize=(12,6))\n",
    "plt.xticks(rotation=75)\n",
    "plt.title(\"Response Time Graph\")\n",
    "fig=sns.histplot(nyc_fire_df[nyc_fire_df.ARRIVAL_DATE_TIME.notnull()],x='response_time', stat='count', binrange=(0,25) ,  )\n",
    "fig.set_xlabel(\"Response Time (in Minutes)\", fontsize=16)\n",
    "fig.set_ylabel(\"Number of Incidents\" , fontsize=16)\n",
    "fig;"
   ]
  },
  {
   "cell_type": "markdown",
   "metadata": {
    "id": "sRNrfgjzi9am"
   },
   "source": [
    "The median response time and the average response time is about 5 min. This is very good response time, suggesting that the locations and staffing of the Fire Unit stations are adequate."
   ]
  },
  {
   "cell_type": "markdown",
   "metadata": {
    "id": "pZ4XpTX0kDmr"
   },
   "source": [
    "**4. Does the number of incidents has any relation with the day of the week?**"
   ]
  },
  {
   "cell_type": "code",
   "execution_count": 152,
   "metadata": {
    "colab": {
     "base_uri": "https://localhost:8080/",
     "height": 375
    },
    "executionInfo": {
     "elapsed": 386,
     "status": "ok",
     "timestamp": 1655233493114,
     "user": {
      "displayName": "praveen N",
      "userId": "01719520328156978713"
     },
     "user_tz": 240
    },
    "id": "SFjrAYj-8vBh",
    "outputId": "58a82fd9-2c65-4fda-c44f-f817286a6ce8"
   },
   "outputs": [
    {
     "data": {
      "image/png": "[encoded data removed]",
      "text/plain": [
       "<Figure size 864x432 with 1 Axes>"
      ]
     },
     "metadata": {},
     "output_type": "display_data"
    }
   ],
   "source": [
    "plt.figure(figsize=(12,6))\n",
    "plt.title('Incidents per Weekday',fontsize=16)\n",
    "labels = nyc_incidents_weekdays_df.index\n",
    "data=nyc_incidents_weekdays_df.values\n",
    "colors = sns.color_palette('pastel')[0:5]\n",
    "plt.pie(data, labels = labels, colors = colors, autopct='%.0f%%');"
   ]
  },
  {
   "cell_type": "markdown",
   "metadata": {
    "id": "p9a2luxVlEII"
   },
   "source": [
    "Surprisingly, the number of incidents reported(14%) are about the same on each of the weekday."
   ]
  },
  {
   "cell_type": "markdown",
   "metadata": {
    "id": "4wck89lrmPoc"
   },
   "source": [
    "**5. Does the number of incidents has any relation with the month of the year? This will allow us to know if season has any affect on the incident reported.**"
   ]
  },
  {
   "cell_type": "code",
   "execution_count": 153,
   "metadata": {
    "colab": {
     "base_uri": "https://localhost:8080/",
     "height": 517
    },
    "executionInfo": {
     "elapsed": 150,
     "status": "ok",
     "timestamp": 1655233497692,
     "user": {
      "displayName": "praveen N",
      "userId": "01719520328156978713"
     },
     "user_tz": 240
    },
    "id": "l72_2czq9uxn",
    "outputId": "ac15bc68-30a9-4152-c19c-8ccebfd022e8"
   },
   "outputs": [
    {
     "data": {
      "text/html": [
       "<html>\n",
       "<head><meta charset=\"utf-8\" /></head>\n",
       "<body>\n",
       "    <div>            <script src=\"https://cdnjs.cloudflare.com/ajax/libs/mathjax/2.7.5/MathJax.js?config=TeX-AMS-MML_SVG\"></script><script type=\"text/javascript\">if (window.MathJax && window.MathJax.Hub && window.MathJax.Hub.Config) {window.MathJax.Hub.Config({SVG: {font: \"STIX-Web\"}});}</script>                <script type=\"text/javascript\">window.PlotlyConfig = {MathJaxConfig: 'local'};</script>\n",
       "        <script src=\"https://cdn.plot.ly/plotly-2.12.1.min.js\"></script>                <div id=\"18d65304-d489-412c-80cb-db1d12105491\" class=\"plotly-graph-div\" style=\"height:500px; width:1000px;\"></div>            <script type=\"text/javascript\">                                    window.PLOTLYENV=window.PLOTLYENV || {};                                    if (document.getElementById(\"18d65304-d489-412c-80cb-db1d12105491\")) {                    Plotly.newPlot(                        \"18d65304-d489-412c-80cb-db1d12105491\",                        [{\"alignmentgroup\":\"True\",\"hovertemplate\":\"x=%{x}<br>y=%{y}<extra></extra>\",\"legendgroup\":\"\",\"marker\":{\"color\":\"#636efa\",\"pattern\":{\"shape\":\"\"}},\"name\":\"\",\"offsetgroup\":\"\",\"orientation\":\"v\",\"showlegend\":false,\"textposition\":\"auto\",\"x\":[1,2,3,4,5,6,7,8,9,10,11,12],\"xaxis\":\"x\",\"y\":[9.781247593040641,8.489529280139498,9.004747615671024,8.597956595723732,9.198852758802225,9.242525423446187,8.04978524959722,7.677495634718657,7.310446739597371,7.756979884370666,7.305880961020955,7.584552263871829],\"yaxis\":\"y\",\"type\":\"bar\"}],                        {\"template\":{\"data\":{\"histogram2dcontour\":[{\"type\":\"histogram2dcontour\",\"colorbar\":{\"outlinewidth\":0,\"ticks\":\"\"},\"colorscale\":[[0.0,\"#0d0887\"],[0.1111111111111111,\"#46039f\"],[0.2222222222222222,\"#7201a8\"],[0.3333333333333333,\"#9c179e\"],[0.4444444444444444,\"#bd3786\"],[0.5555555555555556,\"#d8576b\"],[0.6666666666666666,\"#ed7953\"],[0.7777777777777778,\"#fb9f3a\"],[0.8888888888888888,\"#fdca26\"],[1.0,\"#f0f921\"]]}],\"choropleth\":[{\"type\":\"choropleth\",\"colorbar\":{\"outlinewidth\":0,\"ticks\":\"\"}}],\"histogram2d\":[{\"type\":\"histogram2d\",\"colorbar\":{\"outlinewidth\":0,\"ticks\":\"\"},\"colorscale\":[[0.0,\"#0d0887\"],[0.1111111111111111,\"#46039f\"],[0.2222222222222222,\"#7201a8\"],[0.3333333333333333,\"#9c179e\"],[0.4444444444444444,\"#bd3786\"],[0.5555555555555556,\"#d8576b\"],[0.6666666666666666,\"#ed7953\"],[0.7777777777777778,\"#fb9f3a\"],[0.8888888888888888,\"#fdca26\"],[1.0,\"#f0f921\"]]}],\"heatmap\":[{\"type\":\"heatmap\",\"colorbar\":{\"outlinewidth\":0,\"ticks\":\"\"},\"colorscale\":[[0.0,\"#0d0887\"],[0.1111111111111111,\"#46039f\"],[0.2222222222222222,\"#7201a8\"],[0.3333333333333333,\"#9c179e\"],[0.4444444444444444,\"#bd3786\"],[0.5555555555555556,\"#d8576b\"],[0.6666666666666666,\"#ed7953\"],[0.7777777777777778,\"#fb9f3a\"],[0.8888888888888888,\"#fdca26\"],[1.0,\"#f0f921\"]]}],\"heatmapgl\":[{\"type\":\"heatmapgl\",\"colorbar\":{\"outlinewidth\":0,\"ticks\":\"\"},\"colorscale\":[[0.0,\"#0d0887\"],[0.1111111111111111,\"#46039f\"],[0.2222222222222222,\"#7201a8\"],[0.3333333333333333,\"#9c179e\"],[0.4444444444444444,\"#bd3786\"],[0.5555555555555556,\"#d8576b\"],[0.6666666666666666,\"#ed7953\"],[0.7777777777777778,\"#fb9f3a\"],[0.8888888888888888,\"#fdca26\"],[1.0,\"#f0f921\"]]}],\"contourcarpet\":[{\"type\":\"contourcarpet\",\"colorbar\":{\"outlinewidth\":0,\"ticks\":\"\"}}],\"contour\":[{\"type\":\"contour\",\"colorbar\":{\"outlinewidth\":0,\"ticks\":\"\"},\"colorscale\":[[0.0,\"#0d0887\"],[0.1111111111111111,\"#46039f\"],[0.2222222222222222,\"#7201a8\"],[0.3333333333333333,\"#9c179e\"],[0.4444444444444444,\"#bd3786\"],[0.5555555555555556,\"#d8576b\"],[0.6666666666666666,\"#ed7953\"],[0.7777777777777778,\"#fb9f3a\"],[0.8888888888888888,\"#fdca26\"],[1.0,\"#f0f921\"]]}],\"surface\":[{\"type\":\"surface\",\"colorbar\":{\"outlinewidth\":0,\"ticks\":\"\"},\"colorscale\":[[0.0,\"#0d0887\"],[0.1111111111111111,\"#46039f\"],[0.2222222222222222,\"#7201a8\"],[0.3333333333333333,\"#9c179e\"],[0.4444444444444444,\"#bd3786\"],[0.5555555555555556,\"#d8576b\"],[0.6666666666666666,\"#ed7953\"],[0.7777777777777778,\"#fb9f3a\"],[0.8888888888888888,\"#fdca26\"],[1.0,\"#f0f921\"]]}],\"mesh3d\":[{\"type\":\"mesh3d\",\"colorbar\":{\"outlinewidth\":0,\"ticks\":\"\"}}],\"scatter\":[{\"fillpattern\":{\"fillmode\":\"overlay\",\"size\":10,\"solidity\":0.2},\"type\":\"scatter\"}],\"parcoords\":[{\"type\":\"parcoords\",\"line\":{\"colorbar\":{\"outlinewidth\":0,\"ticks\":\"\"}}}],\"scatterpolargl\":[{\"type\":\"scatterpolargl\",\"marker\":{\"colorbar\":{\"outlinewidth\":0,\"ticks\":\"\"}}}],\"bar\":[{\"error_x\":{\"color\":\"#2a3f5f\"},\"error_y\":{\"color\":\"#2a3f5f\"},\"marker\":{\"line\":{\"color\":\"#E5ECF6\",\"width\":0.5},\"pattern\":{\"fillmode\":\"overlay\",\"size\":10,\"solidity\":0.2}},\"type\":\"bar\"}],\"scattergeo\":[{\"type\":\"scattergeo\",\"marker\":{\"colorbar\":{\"outlinewidth\":0,\"ticks\":\"\"}}}],\"scatterpolar\":[{\"type\":\"scatterpolar\",\"marker\":{\"colorbar\":{\"outlinewidth\":0,\"ticks\":\"\"}}}],\"histogram\":[{\"marker\":{\"pattern\":{\"fillmode\":\"overlay\",\"size\":10,\"solidity\":0.2}},\"type\":\"histogram\"}],\"scattergl\":[{\"type\":\"scattergl\",\"marker\":{\"colorbar\":{\"outlinewidth\":0,\"ticks\":\"\"}}}],\"scatter3d\":[{\"type\":\"scatter3d\",\"line\":{\"colorbar\":{\"outlinewidth\":0,\"ticks\":\"\"}},\"marker\":{\"colorbar\":{\"outlinewidth\":0,\"ticks\":\"\"}}}],\"scattermapbox\":[{\"type\":\"scattermapbox\",\"marker\":{\"colorbar\":{\"outlinewidth\":0,\"ticks\":\"\"}}}],\"scatterternary\":[{\"type\":\"scatterternary\",\"marker\":{\"colorbar\":{\"outlinewidth\":0,\"ticks\":\"\"}}}],\"scattercarpet\":[{\"type\":\"scattercarpet\",\"marker\":{\"colorbar\":{\"outlinewidth\":0,\"ticks\":\"\"}}}],\"carpet\":[{\"aaxis\":{\"endlinecolor\":\"#2a3f5f\",\"gridcolor\":\"white\",\"linecolor\":\"white\",\"minorgridcolor\":\"white\",\"startlinecolor\":\"#2a3f5f\"},\"baxis\":{\"endlinecolor\":\"#2a3f5f\",\"gridcolor\":\"white\",\"linecolor\":\"white\",\"minorgridcolor\":\"white\",\"startlinecolor\":\"#2a3f5f\"},\"type\":\"carpet\"}],\"table\":[{\"cells\":{\"fill\":{\"color\":\"#EBF0F8\"},\"line\":{\"color\":\"white\"}},\"header\":{\"fill\":{\"color\":\"#C8D4E3\"},\"line\":{\"color\":\"white\"}},\"type\":\"table\"}],\"barpolar\":[{\"marker\":{\"line\":{\"color\":\"#E5ECF6\",\"width\":0.5},\"pattern\":{\"fillmode\":\"overlay\",\"size\":10,\"solidity\":0.2}},\"type\":\"barpolar\"}],\"pie\":[{\"automargin\":true,\"type\":\"pie\"}]},\"layout\":{\"autotypenumbers\":\"strict\",\"colorway\":[\"#636efa\",\"#EF553B\",\"#00cc96\",\"#ab63fa\",\"#FFA15A\",\"#19d3f3\",\"#FF6692\",\"#B6E880\",\"#FF97FF\",\"#FECB52\"],\"font\":{\"color\":\"#2a3f5f\"},\"hovermode\":\"closest\",\"hoverlabel\":{\"align\":\"left\"},\"paper_bgcolor\":\"white\",\"plot_bgcolor\":\"#E5ECF6\",\"polar\":{\"bgcolor\":\"#E5ECF6\",\"angularaxis\":{\"gridcolor\":\"white\",\"linecolor\":\"white\",\"ticks\":\"\"},\"radialaxis\":{\"gridcolor\":\"white\",\"linecolor\":\"white\",\"ticks\":\"\"}},\"ternary\":{\"bgcolor\":\"#E5ECF6\",\"aaxis\":{\"gridcolor\":\"white\",\"linecolor\":\"white\",\"ticks\":\"\"},\"baxis\":{\"gridcolor\":\"white\",\"linecolor\":\"white\",\"ticks\":\"\"},\"caxis\":{\"gridcolor\":\"white\",\"linecolor\":\"white\",\"ticks\":\"\"}},\"coloraxis\":{\"colorbar\":{\"outlinewidth\":0,\"ticks\":\"\"}},\"colorscale\":{\"sequential\":[[0.0,\"#0d0887\"],[0.1111111111111111,\"#46039f\"],[0.2222222222222222,\"#7201a8\"],[0.3333333333333333,\"#9c179e\"],[0.4444444444444444,\"#bd3786\"],[0.5555555555555556,\"#d8576b\"],[0.6666666666666666,\"#ed7953\"],[0.7777777777777778,\"#fb9f3a\"],[0.8888888888888888,\"#fdca26\"],[1.0,\"#f0f921\"]],\"sequentialminus\":[[0.0,\"#0d0887\"],[0.1111111111111111,\"#46039f\"],[0.2222222222222222,\"#7201a8\"],[0.3333333333333333,\"#9c179e\"],[0.4444444444444444,\"#bd3786\"],[0.5555555555555556,\"#d8576b\"],[0.6666666666666666,\"#ed7953\"],[0.7777777777777778,\"#fb9f3a\"],[0.8888888888888888,\"#fdca26\"],[1.0,\"#f0f921\"]],\"diverging\":[[0,\"#8e0152\"],[0.1,\"#c51b7d\"],[0.2,\"#de77ae\"],[0.3,\"#f1b6da\"],[0.4,\"#fde0ef\"],[0.5,\"#f7f7f7\"],[0.6,\"#e6f5d0\"],[0.7,\"#b8e186\"],[0.8,\"#7fbc41\"],[0.9,\"#4d9221\"],[1,\"#276419\"]]},\"xaxis\":{\"gridcolor\":\"white\",\"linecolor\":\"white\",\"ticks\":\"\",\"title\":{\"standoff\":15},\"zerolinecolor\":\"white\",\"automargin\":true,\"zerolinewidth\":2},\"yaxis\":{\"gridcolor\":\"white\",\"linecolor\":\"white\",\"ticks\":\"\",\"title\":{\"standoff\":15},\"zerolinecolor\":\"white\",\"automargin\":true,\"zerolinewidth\":2},\"scene\":{\"xaxis\":{\"backgroundcolor\":\"#E5ECF6\",\"gridcolor\":\"white\",\"linecolor\":\"white\",\"showbackground\":true,\"ticks\":\"\",\"zerolinecolor\":\"white\",\"gridwidth\":2},\"yaxis\":{\"backgroundcolor\":\"#E5ECF6\",\"gridcolor\":\"white\",\"linecolor\":\"white\",\"showbackground\":true,\"ticks\":\"\",\"zerolinecolor\":\"white\",\"gridwidth\":2},\"zaxis\":{\"backgroundcolor\":\"#E5ECF6\",\"gridcolor\":\"white\",\"linecolor\":\"white\",\"showbackground\":true,\"ticks\":\"\",\"zerolinecolor\":\"white\",\"gridwidth\":2}},\"shapedefaults\":{\"line\":{\"color\":\"#2a3f5f\"}},\"annotationdefaults\":{\"arrowcolor\":\"#2a3f5f\",\"arrowhead\":0,\"arrowwidth\":1},\"geo\":{\"bgcolor\":\"white\",\"landcolor\":\"#E5ECF6\",\"subunitcolor\":\"white\",\"showland\":true,\"showlakes\":true,\"lakecolor\":\"white\"},\"title\":{\"x\":0.05},\"mapbox\":{\"style\":\"light\"}}},\"xaxis\":{\"anchor\":\"y\",\"domain\":[0.0,1.0],\"title\":{\"text\":\"Month\"}},\"yaxis\":{\"anchor\":\"x\",\"domain\":[0.0,1.0],\"title\":{\"text\":\"Incidents(%)\"}},\"legend\":{\"tracegroupgap\":0},\"margin\":{\"t\":60},\"barmode\":\"relative\",\"height\":500,\"width\":1000,\"title\":{\"text\":\"Month wise distribution of Incidents(%)\"}},                        {\"responsive\": true}                    ).then(function(){\n",
       "                            \n",
       "var gd = document.getElementById('18d65304-d489-412c-80cb-db1d12105491');\n",
       "var x = new MutationObserver(function (mutations, observer) {{\n",
       "        var display = window.getComputedStyle(gd).display;\n",
       "        if (!display || display === 'none') {{\n",
       "            console.log([gd, 'removed!']);\n",
       "            Plotly.purge(gd);\n",
       "            observer.disconnect();\n",
       "        }}\n",
       "}});\n",
       "\n",
       "// Listen for the removal of the full notebook cells\n",
       "var notebookContainer = gd.closest('#notebook-container');\n",
       "if (notebookContainer) {{\n",
       "    x.observe(notebookContainer, {childList: true});\n",
       "}}\n",
       "\n",
       "// Listen for the clearing of the current output cell\n",
       "var outputEl = gd.closest('.output');\n",
       "if (outputEl) {{\n",
       "    x.observe(outputEl, {childList: true});\n",
       "}}\n",
       "\n",
       "                        })                };                            </script>        </div>\n",
       "</body>\n",
       "</html>"
      ]
     },
     "metadata": {},
     "output_type": "display_data"
    }
   ],
   "source": [
    "fig6=px.bar(x=labels2,y= data2)\n",
    "fig6.update_layout(height=500,width=1000,\n",
    "                   title=\"Month wise distribution of Incidents(%)\", \n",
    "                   xaxis_title=\"Month\",\n",
    "                   yaxis_title=\"Incidents(%)\",\n",
    "                   )\n"
   ]
  },
  {
   "cell_type": "markdown",
   "metadata": {
    "id": "gSEYH4ESm0Sx"
   },
   "source": [
    "Although, there is slight increase in the number of incidents reported in the month of January, but, the cases reported are more or less is uniformly distributed across different months in an year."
   ]
  },
  {
   "cell_type": "markdown",
   "metadata": {
    "id": "1UMy6EJrtYCk"
   },
   "source": [
    "**6. Does the number of incidents has any relation with the time of the day? This will allow us to adequately staff during peak time.**"
   ]
  },
  {
   "cell_type": "code",
   "execution_count": 154,
   "metadata": {
    "colab": {
     "base_uri": "https://localhost:8080/",
     "height": 375
    },
    "executionInfo": {
     "elapsed": 302,
     "status": "ok",
     "timestamp": 1655233504240,
     "user": {
      "displayName": "praveen N",
      "userId": "01719520328156978713"
     },
     "user_tz": 240
    },
    "id": "ttHSxtD9FH4c",
    "outputId": "650dd55c-4855-4789-f65d-b945231b0df5"
   },
   "outputs": [
    {
     "data": {
      "image/png": "[encoded data removed]",
      "text/plain": [
       "<Figure size 864x432 with 1 Axes>"
      ]
     },
     "metadata": {},
     "output_type": "display_data"
    }
   ],
   "source": [
    "plt.figure(figsize=(12,6))\n",
    "plt.title('Incidents based on time of the day',fontsize=16)\n",
    "labels3 = nyc_incidents_daytime_df.index\n",
    "data3=nyc_incidents_daytime_df.values\n",
    "colors = sns.color_palette('pastel')[0:5]\n",
    "plt.pie(data3, labels = labels3, colors = colors, autopct='%.0f%%');"
   ]
  },
  {
   "cell_type": "markdown",
   "metadata": {
    "id": "H1mLuPAttqBS"
   },
   "source": [
    "More number of incidents are reported in the Afternoon between 12PM-8PM than any other time during the day."
   ]
  },
  {
   "cell_type": "markdown",
   "metadata": {
    "id": "yOioouawuVZ4"
   },
   "source": [
    "**7. What are top 5 incident types?**"
   ]
  },
  {
   "cell_type": "code",
   "execution_count": 155,
   "metadata": {
    "executionInfo": {
     "elapsed": 445,
     "status": "ok",
     "timestamp": 1655233507690,
     "user": {
      "displayName": "praveen N",
      "userId": "01719520328156978713"
     },
     "user_tz": 240
    },
    "id": "Mr28lzfdulz9"
   },
   "outputs": [],
   "source": [
    "top_5_incident_type=(nyc_fire_df.INCIDENT_TYPE_DESC.value_counts(normalize=True)*100).head(5)"
   ]
  },
  {
   "cell_type": "code",
   "execution_count": 156,
   "metadata": {
    "colab": {
     "base_uri": "https://localhost:8080/",
     "height": 301
    },
    "executionInfo": {
     "elapsed": 489,
     "status": "ok",
     "timestamp": 1655233509882,
     "user": {
      "displayName": "praveen N",
      "userId": "01719520328156978713"
     },
     "user_tz": 240
    },
    "id": "9K8zQrKkG5vF",
    "outputId": "bb690231-4319-4a10-e2c8-3df0f4bc6314"
   },
   "outputs": [
    {
     "data": {
      "image/png": "[encoded data removed]",
      "text/plain": [
       "<Figure size 432x288 with 1 Axes>"
      ]
     },
     "metadata": {
      "needs_background": "light"
     },
     "output_type": "display_data"
    }
   ],
   "source": [
    "fig_top_5_incident_type=top_5_incident_type.plot(kind='barh',color='brown')\n",
    "fig_top_5_incident_type.set_xlabel(\"Incidents (Percentage %)\" ,fontdict={'fontsize':14})\n",
    "fig_top_5_incident_type.set_ylabel(\"Incident Types\" ,fontdict={'fontsize':14})\n",
    "fig_top_5_incident_type.set_title(\"Percentage Distribution of top 5 Incident Types\" ,fontdict={'fontsize':16});\n"
   ]
  },
  {
   "cell_type": "markdown",
   "metadata": {
    "id": "R_UTmnQOvcRc"
   },
   "source": [
    "A large number (36%) of incidents are medical related incidents suggesting a health related or a traffic related events. 5% calls are classified as mischievous calls."
   ]
  },
  {
   "cell_type": "markdown",
   "metadata": {
    "id": "CpdcW7d5xCk4"
   },
   "source": [
    "**8. Is there a general trend of the number of incidents reported over the years?**"
   ]
  },
  {
   "cell_type": "code",
   "execution_count": 157,
   "metadata": {
    "executionInfo": {
     "elapsed": 1042,
     "status": "ok",
     "timestamp": 1655233516050,
     "user": {
      "displayName": "praveen N",
      "userId": "01719520328156978713"
     },
     "user_tz": 240
    },
    "id": "eUri6Rm8xZM-"
   },
   "outputs": [],
   "source": [
    "incidets_per_year=round(nyc_fire_df[nyc_fire_df.INCIDENT_DATE_TIME.dt.year!=2018].INCIDENT_DATE_TIME.dt.year.value_counts(normalize=True,sort=False)*100,1)"
   ]
  },
  {
   "cell_type": "code",
   "execution_count": 158,
   "metadata": {
    "colab": {
     "base_uri": "https://localhost:8080/",
     "height": 301
    },
    "executionInfo": {
     "elapsed": 494,
     "status": "ok",
     "timestamp": 1655233518002,
     "user": {
      "displayName": "praveen N",
      "userId": "01719520328156978713"
     },
     "user_tz": 240
    },
    "id": "7pj1adijIGTZ",
    "outputId": "7157f7bd-3e68-425e-da51-c3416d9df5cc"
   },
   "outputs": [
    {
     "data": {
      "image/png": "[encoded data removed]",
      "text/plain": [
       "<Figure size 432x288 with 1 Axes>"
      ]
     },
     "metadata": {
      "needs_background": "light"
     },
     "output_type": "display_data"
    }
   ],
   "source": [
    "fig_incidets_per_year=incidets_per_year.plot(kind='barh',color='gold')\n",
    "fig_incidets_per_year.set_xlabel(\"Incidents (Percentage %)\" ,fontdict={'fontsize':14})\n",
    "fig_incidets_per_year.set_ylabel(\"Year\" ,fontdict={'fontsize':14})\n",
    "fig_incidets_per_year.set_title(\"Percentage Distribution Total Incidents Over the years\" ,fontdict={'fontsize':16});"
   ]
  },
  {
   "cell_type": "markdown",
   "metadata": {
    "id": "HwwpWErNxHtG"
   },
   "source": [
    "There is no clear trend of increase in number of incidents over the years(full years). Incidents reported increased from 2013 to 2015, and then started decreasing marginally. The reasons are not clear with the data in this datasets and needs to be explored further."
   ]
  },
  {
   "cell_type": "markdown",
   "metadata": {
    "id": "1vdI1VDE8Ww4"
   },
   "source": [
    "**9. What is the mean time to resolve the incidents?**"
   ]
  },
  {
   "cell_type": "code",
   "execution_count": 159,
   "metadata": {
    "executionInfo": {
     "elapsed": 272,
     "status": "ok",
     "timestamp": 1655233521166,
     "user": {
      "displayName": "praveen N",
      "userId": "01719520328156978713"
     },
     "user_tz": 240
    },
    "id": "TyrrlZJ58emf"
   },
   "outputs": [],
   "source": [
    "incident_resolution=nyc_fire_df.TOTAL_INCIDENT_DURATION.describe().round(2)"
   ]
  },
  {
   "cell_type": "code",
   "execution_count": 160,
   "metadata": {
    "colab": {
     "base_uri": "https://localhost:8080/"
    },
    "executionInfo": {
     "elapsed": 138,
     "status": "ok",
     "timestamp": 1655233522878,
     "user": {
      "displayName": "praveen N",
      "userId": "01719520328156978713"
     },
     "user_tz": 240
    },
    "id": "tjp6pYxsJa3k",
    "outputId": "d8900ce9-b43b-4bfb-88f7-2725bf099096"
   },
   "outputs": [
    {
     "data": {
      "text/plain": [
       "count    2518591.00\n",
       "mean        1409.08\n",
       "std         3220.78\n",
       "min            0.00\n",
       "25%          742.00\n",
       "50%         1036.00\n",
       "75%         1523.00\n",
       "max       849842.00\n",
       "Name: TOTAL_INCIDENT_DURATION, dtype: float64"
      ]
     },
     "execution_count": 160,
     "metadata": {},
     "output_type": "execute_result"
    }
   ],
   "source": [
    "incident_resolution"
   ]
  },
  {
   "cell_type": "code",
   "execution_count": 161,
   "metadata": {
    "colab": {
     "base_uri": "https://localhost:8080/",
     "height": 301
    },
    "executionInfo": {
     "elapsed": 1772,
     "status": "ok",
     "timestamp": 1655233527097,
     "user": {
      "displayName": "praveen N",
      "userId": "01719520328156978713"
     },
     "user_tz": 240
    },
    "id": "2t15XLxtJrqL",
    "outputId": "39c887d9-14a7-44c1-8020-0689d6537e46"
   },
   "outputs": [
    {
     "data": {
      "image/png": "[encoded data removed]",
      "text/plain": [
       "<Figure size 432x288 with 1 Axes>"
      ]
     },
     "metadata": {
      "needs_background": "light"
     },
     "output_type": "display_data"
    }
   ],
   "source": [
    "nyc_fire_df['TOTAL_INCIDENT_DURATION_IN_MINS']=nyc_fire_df.TOTAL_INCIDENT_DURATION/60\n",
    "plt.title(\"\")\n",
    "fig8=sns.histplot(data=nyc_fire_df, x=\"TOTAL_INCIDENT_DURATION_IN_MINS\", stat='count', binrange=(0,75) ,color='green')\n",
    "fig8.set_title(\"Time taken per Incident\", fontsize=16)\n",
    "fig8.set_xlabel(\"Incident Duration Time (in Minutes)\", fontsize=14)\n",
    "fig8.set_ylabel(\"Number of Incidents\" , fontsize=14);"
   ]
  },
  {
   "cell_type": "markdown",
   "metadata": {
    "id": "9NCar2Sn82VG"
   },
   "source": [
    "The mean time that an incident lasts is 24 minutes and median is 17 mins. There are about 4% of incidents took longer than 1 hour and need to look into it."
   ]
  },
  {
   "cell_type": "markdown",
   "metadata": {
    "id": "9i0PPBQZ-fbi"
   },
   "source": [
    "## Summary and Conclusions.\n",
    "### Summary:\n",
    "We have explored and analyzed Incident Responses of Fire Department in the New York City.  \n",
    "Following are some of the interesting observations :-  \n",
    "* The average response time of the Fire Units is 5 minutes which is very good.\n",
    "* There is no significant difference in the number of incident reported between weekdays and weekends or between different seasons in a year.\n",
    "* Number of incidents reported is higher in the afternoons than in ay other time of the day.\n",
    "* Fire related incidents are not very significant. However, the overwhelming type of incedents are medical.\n",
    "* Only about 4% of incidents took longer than 1 hour \n",
    "### Conclusion:\n",
    "Based on our analysis, the overall performance of the Fire Units are good. They may need to consider increasing the staff and resources in the Afternoons and in January month. Also, The percentage of incidents in New York burough is disproportionately higer than its population, need to look into the reasons.\n",
    "### Future Work:\n",
    "It will be intersting to analyze the distance travelled to get to the incident spot. This will help in identifying locations for new fire stations.  \n",
    "It will be good to analyze the type of medical emergencies, action taken and also the outcome of those actions. This will help make appropriate staffing decisions.\n",
    "### References:\n",
    "Jovian tutorials:  \n",
    "https://jovian.ai/learn/zero-to-data-analyst-bootcamp/lesson/interactive-visualization-with-plotly-and-folium  \n",
    "https://jovian.ai/learn/zero-to-data-analyst-bootcamp/lesson/exploratory-data-analysis-case-study  \n",
    "Kaggel Datasets:  \n",
    "https://www.kaggle.com/datasets/new-york-city/nyc-incidents-responded-to-by-fire-companies/download  \n",
    "https://www.kaggle.com/datasets/saidakbarp/nyc-zipcode-geodata/download  \n",
    "Newyork city Dataset:  \n",
    "https://data.cityofnewyork.us/download/i8iw-xf4u/application%2Fzip\n",
    "\n"
   ]
  },
  {
   "cell_type": "code",
   "execution_count": 165,
   "metadata": {
    "colab": {
     "base_uri": "https://localhost:8080/",
     "height": 87
    },
    "executionInfo": {
     "elapsed": 2522,
     "status": "ok",
     "timestamp": 1655233686954,
     "user": {
      "displayName": "praveen N",
      "userId": "01719520328156978713"
     },
     "user_tz": 240
    },
    "id": "tglE8PQk-iYi",
    "outputId": "4decb2c4-0e15-465b-b7f9-780f88cfd9f6"
   },
   "outputs": [
    {
     "name": "stdout",
     "output_type": "stream",
     "text": [
      "[jovian] Detected Colab notebook...\u001b[0m\n",
      "[jovian] Uploading colab notebook to Jovian...\u001b[0m\n",
      "Committed successfully! https://jovian.ai/pramation/project-2-nyc-fire-incidents-analysis\n"
     ]
    },
    {
     "data": {
      "application/vnd.google.colaboratory.intrinsic+json": {
       "type": "string"
      },
      "text/plain": [
       "'https://jovian.ai/pramation/project-2-nyc-fire-incidents-analysis'"
      ]
     },
     "execution_count": 165,
     "metadata": {},
     "output_type": "execute_result"
    }
   ],
   "source": [
    "jovian.commit()"
   ]
  }
 ],
 "metadata": {
  "colab": {
   "name": "project-2-exploratory-data-analysis.ipynb",
   "provenance": []
  },
  "language_info": {
   "codemirror_mode": {
    "name": "ipython",
    "version": 3
   },
   "file_extension": ".py",
   "mimetype": "text/x-python",
   "name": "python",
   "nbconvert_exporter": "python",
   "pygments_lexer": "ipython3",
   "version": "3.9.6"
  }
 },
 "nbformat": 4,
 "nbformat_minor": 0
}